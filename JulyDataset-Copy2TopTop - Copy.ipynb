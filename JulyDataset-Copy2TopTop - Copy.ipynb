{
 "cells": [
  {
   "cell_type": "code",
   "execution_count": 1,
   "metadata": {},
   "outputs": [],
   "source": [
    "%matplotlib inline\n",
    "import pandas as pd\n",
    "import numpy as np\n",
    "import matplotlib.pyplot as plt\n",
    "from scipy import stats\n",
    "import seaborn as sns"
   ]
  },
  {
   "cell_type": "code",
   "execution_count": 2,
   "metadata": {},
   "outputs": [
    {
     "data": {
      "text/html": [
       "<div>\n",
       "<style scoped>\n",
       "    .dataframe tbody tr th:only-of-type {\n",
       "        vertical-align: middle;\n",
       "    }\n",
       "\n",
       "    .dataframe tbody tr th {\n",
       "        vertical-align: top;\n",
       "    }\n",
       "\n",
       "    .dataframe thead th {\n",
       "        text-align: right;\n",
       "    }\n",
       "</style>\n",
       "<table border=\"1\" class=\"dataframe\">\n",
       "  <thead>\n",
       "    <tr style=\"text-align: right;\">\n",
       "      <th></th>\n",
       "      <th>Product_Identifier</th>\n",
       "      <th>Supermarket_Identifier</th>\n",
       "      <th>Product_Supermarket_Identifier</th>\n",
       "      <th>Product_Weight</th>\n",
       "      <th>Product_Fat_Content</th>\n",
       "      <th>Product_Shelf_Visibility</th>\n",
       "      <th>Product_Type</th>\n",
       "      <th>Product_Price</th>\n",
       "      <th>Supermarket_Opening_Year</th>\n",
       "      <th>Supermarket _Size</th>\n",
       "      <th>Supermarket_Location_Type</th>\n",
       "      <th>Supermarket_Type</th>\n",
       "      <th>Product_Supermarket_Sales</th>\n",
       "    </tr>\n",
       "  </thead>\n",
       "  <tbody>\n",
       "    <tr>\n",
       "      <th>0</th>\n",
       "      <td>DRB24</td>\n",
       "      <td>CHUKWUDI017</td>\n",
       "      <td>DRB24_CHUKWUDI017</td>\n",
       "      <td>8.785</td>\n",
       "      <td>Low Fat</td>\n",
       "      <td>0.020694</td>\n",
       "      <td>Soft Drinks</td>\n",
       "      <td>382.91</td>\n",
       "      <td>2014</td>\n",
       "      <td>NaN</td>\n",
       "      <td>Cluster 2</td>\n",
       "      <td>Supermarket Type1</td>\n",
       "      <td>4633.97</td>\n",
       "    </tr>\n",
       "    <tr>\n",
       "      <th>1</th>\n",
       "      <td>FDR31</td>\n",
       "      <td>CHUKWUDI019</td>\n",
       "      <td>FDR31_CHUKWUDI019</td>\n",
       "      <td>NaN</td>\n",
       "      <td>Normal Fat</td>\n",
       "      <td>0.086078</td>\n",
       "      <td>Fruits and Vegetables</td>\n",
       "      <td>359.53</td>\n",
       "      <td>1992</td>\n",
       "      <td>Small</td>\n",
       "      <td>Cluster 1</td>\n",
       "      <td>Grocery Store</td>\n",
       "      <td>729.05</td>\n",
       "    </tr>\n",
       "    <tr>\n",
       "      <th>2</th>\n",
       "      <td>FDP16</td>\n",
       "      <td>CHUKWUDI017</td>\n",
       "      <td>FDP16_CHUKWUDI017</td>\n",
       "      <td>18.600</td>\n",
       "      <td>Low Fat</td>\n",
       "      <td>0.039517</td>\n",
       "      <td>Frozen Foods</td>\n",
       "      <td>609.20</td>\n",
       "      <td>2014</td>\n",
       "      <td>NaN</td>\n",
       "      <td>Cluster 2</td>\n",
       "      <td>Supermarket Type1</td>\n",
       "      <td>14740.81</td>\n",
       "    </tr>\n",
       "    <tr>\n",
       "      <th>3</th>\n",
       "      <td>FDY16</td>\n",
       "      <td>CHUKWUDI027</td>\n",
       "      <td>FDY16_CHUKWUDI027</td>\n",
       "      <td>NaN</td>\n",
       "      <td>Normal Fat</td>\n",
       "      <td>0.091780</td>\n",
       "      <td>Frozen Foods</td>\n",
       "      <td>456.32</td>\n",
       "      <td>1992</td>\n",
       "      <td>Medium</td>\n",
       "      <td>Cluster 3</td>\n",
       "      <td>Supermarket Type3</td>\n",
       "      <td>16137.33</td>\n",
       "    </tr>\n",
       "    <tr>\n",
       "      <th>4</th>\n",
       "      <td>FDY48</td>\n",
       "      <td>CHUKWUDI046</td>\n",
       "      <td>FDY48_CHUKWUDI046</td>\n",
       "      <td>14.000</td>\n",
       "      <td>Low Fat</td>\n",
       "      <td>0.023735</td>\n",
       "      <td>Baking Goods</td>\n",
       "      <td>258.08</td>\n",
       "      <td>2004</td>\n",
       "      <td>Small</td>\n",
       "      <td>Cluster 1</td>\n",
       "      <td>Supermarket Type1</td>\n",
       "      <td>4613.99</td>\n",
       "    </tr>\n",
       "  </tbody>\n",
       "</table>\n",
       "</div>"
      ],
      "text/plain": [
       "  Product_Identifier Supermarket_Identifier Product_Supermarket_Identifier  \\\n",
       "0              DRB24            CHUKWUDI017              DRB24_CHUKWUDI017   \n",
       "1              FDR31            CHUKWUDI019              FDR31_CHUKWUDI019   \n",
       "2              FDP16            CHUKWUDI017              FDP16_CHUKWUDI017   \n",
       "3              FDY16            CHUKWUDI027              FDY16_CHUKWUDI027   \n",
       "4              FDY48            CHUKWUDI046              FDY48_CHUKWUDI046   \n",
       "\n",
       "   Product_Weight Product_Fat_Content  Product_Shelf_Visibility  \\\n",
       "0           8.785             Low Fat                  0.020694   \n",
       "1             NaN          Normal Fat                  0.086078   \n",
       "2          18.600             Low Fat                  0.039517   \n",
       "3             NaN          Normal Fat                  0.091780   \n",
       "4          14.000             Low Fat                  0.023735   \n",
       "\n",
       "            Product_Type  Product_Price  Supermarket_Opening_Year  \\\n",
       "0            Soft Drinks         382.91                      2014   \n",
       "1  Fruits and Vegetables         359.53                      1992   \n",
       "2           Frozen Foods         609.20                      2014   \n",
       "3           Frozen Foods         456.32                      1992   \n",
       "4           Baking Goods         258.08                      2004   \n",
       "\n",
       "  Supermarket _Size Supermarket_Location_Type   Supermarket_Type  \\\n",
       "0               NaN                 Cluster 2  Supermarket Type1   \n",
       "1             Small                 Cluster 1      Grocery Store   \n",
       "2               NaN                 Cluster 2  Supermarket Type1   \n",
       "3            Medium                 Cluster 3  Supermarket Type3   \n",
       "4             Small                 Cluster 1  Supermarket Type1   \n",
       "\n",
       "   Product_Supermarket_Sales  \n",
       "0                    4633.97  \n",
       "1                     729.05  \n",
       "2                   14740.81  \n",
       "3                   16137.33  \n",
       "4                    4613.99  "
      ]
     },
     "execution_count": 2,
     "metadata": {},
     "output_type": "execute_result"
    }
   ],
   "source": [
    "file_path='train.csv'\n",
    "df=pd.read_csv(file_path)\n",
    "df.head()"
   ]
  },
  {
   "cell_type": "code",
   "execution_count": 3,
   "metadata": {},
   "outputs": [
    {
     "data": {
      "text/html": [
       "<div>\n",
       "<style scoped>\n",
       "    .dataframe tbody tr th:only-of-type {\n",
       "        vertical-align: middle;\n",
       "    }\n",
       "\n",
       "    .dataframe tbody tr th {\n",
       "        vertical-align: top;\n",
       "    }\n",
       "\n",
       "    .dataframe thead th {\n",
       "        text-align: right;\n",
       "    }\n",
       "</style>\n",
       "<table border=\"1\" class=\"dataframe\">\n",
       "  <thead>\n",
       "    <tr style=\"text-align: right;\">\n",
       "      <th></th>\n",
       "      <th>Product_Identifier</th>\n",
       "      <th>Supermarket_Identifier</th>\n",
       "      <th>Product_Supermarket_Identifier</th>\n",
       "      <th>Product_Weight</th>\n",
       "      <th>Product_Fat_Content</th>\n",
       "      <th>Product_Shelf_Visibility</th>\n",
       "      <th>Product_Type</th>\n",
       "      <th>Product_Price</th>\n",
       "      <th>Supermarket_Opening_Year</th>\n",
       "      <th>Supermarket _Size</th>\n",
       "      <th>Supermarket_Location_Type</th>\n",
       "      <th>Supermarket_Type</th>\n",
       "    </tr>\n",
       "  </thead>\n",
       "  <tbody>\n",
       "    <tr>\n",
       "      <th>0</th>\n",
       "      <td>FDC15</td>\n",
       "      <td>CHUKWUDI049</td>\n",
       "      <td>FDC15_CHUKWUDI049</td>\n",
       "      <td>18.100</td>\n",
       "      <td>Low Fat</td>\n",
       "      <td>0.178246</td>\n",
       "      <td>Dairy</td>\n",
       "      <td>395.32</td>\n",
       "      <td>2006</td>\n",
       "      <td>Medium</td>\n",
       "      <td>Cluster 1</td>\n",
       "      <td>Supermarket Type1</td>\n",
       "    </tr>\n",
       "    <tr>\n",
       "      <th>1</th>\n",
       "      <td>NCY06</td>\n",
       "      <td>CHUKWUDI018</td>\n",
       "      <td>NCY06_CHUKWUDI018</td>\n",
       "      <td>15.250</td>\n",
       "      <td>Low Fat</td>\n",
       "      <td>0.061434</td>\n",
       "      <td>Household</td>\n",
       "      <td>327.49</td>\n",
       "      <td>2016</td>\n",
       "      <td>Medium</td>\n",
       "      <td>Cluster 3</td>\n",
       "      <td>Supermarket Type2</td>\n",
       "    </tr>\n",
       "    <tr>\n",
       "      <th>2</th>\n",
       "      <td>DRB24</td>\n",
       "      <td>CHUKWUDI035</td>\n",
       "      <td>DRB24_CHUKWUDI035</td>\n",
       "      <td>8.785</td>\n",
       "      <td>Low Fat</td>\n",
       "      <td>0.020573</td>\n",
       "      <td>Soft Drinks</td>\n",
       "      <td>391.16</td>\n",
       "      <td>2011</td>\n",
       "      <td>Small</td>\n",
       "      <td>Cluster 2</td>\n",
       "      <td>Supermarket Type1</td>\n",
       "    </tr>\n",
       "    <tr>\n",
       "      <th>3</th>\n",
       "      <td>NCG54</td>\n",
       "      <td>CHUKWUDI018</td>\n",
       "      <td>NCG54_CHUKWUDI018</td>\n",
       "      <td>12.100</td>\n",
       "      <td>Low Fat</td>\n",
       "      <td>0.080131</td>\n",
       "      <td>Household</td>\n",
       "      <td>427.28</td>\n",
       "      <td>2016</td>\n",
       "      <td>Medium</td>\n",
       "      <td>Cluster 3</td>\n",
       "      <td>Supermarket Type2</td>\n",
       "    </tr>\n",
       "    <tr>\n",
       "      <th>4</th>\n",
       "      <td>NCA42</td>\n",
       "      <td>CHUKWUDI017</td>\n",
       "      <td>NCA42_CHUKWUDI017</td>\n",
       "      <td>6.965</td>\n",
       "      <td>Low Fat</td>\n",
       "      <td>0.028710</td>\n",
       "      <td>Household</td>\n",
       "      <td>395.40</td>\n",
       "      <td>2014</td>\n",
       "      <td>NaN</td>\n",
       "      <td>Cluster 2</td>\n",
       "      <td>Supermarket Type1</td>\n",
       "    </tr>\n",
       "  </tbody>\n",
       "</table>\n",
       "</div>"
      ],
      "text/plain": [
       "  Product_Identifier Supermarket_Identifier Product_Supermarket_Identifier  \\\n",
       "0              FDC15            CHUKWUDI049              FDC15_CHUKWUDI049   \n",
       "1              NCY06            CHUKWUDI018              NCY06_CHUKWUDI018   \n",
       "2              DRB24            CHUKWUDI035              DRB24_CHUKWUDI035   \n",
       "3              NCG54            CHUKWUDI018              NCG54_CHUKWUDI018   \n",
       "4              NCA42            CHUKWUDI017              NCA42_CHUKWUDI017   \n",
       "\n",
       "   Product_Weight Product_Fat_Content  Product_Shelf_Visibility Product_Type  \\\n",
       "0          18.100             Low Fat                  0.178246        Dairy   \n",
       "1          15.250             Low Fat                  0.061434    Household   \n",
       "2           8.785             Low Fat                  0.020573  Soft Drinks   \n",
       "3          12.100             Low Fat                  0.080131    Household   \n",
       "4           6.965             Low Fat                  0.028710    Household   \n",
       "\n",
       "   Product_Price  Supermarket_Opening_Year Supermarket _Size  \\\n",
       "0         395.32                      2006            Medium   \n",
       "1         327.49                      2016            Medium   \n",
       "2         391.16                      2011             Small   \n",
       "3         427.28                      2016            Medium   \n",
       "4         395.40                      2014               NaN   \n",
       "\n",
       "  Supermarket_Location_Type   Supermarket_Type  \n",
       "0                 Cluster 1  Supermarket Type1  \n",
       "1                 Cluster 3  Supermarket Type2  \n",
       "2                 Cluster 2  Supermarket Type1  \n",
       "3                 Cluster 3  Supermarket Type2  \n",
       "4                 Cluster 2  Supermarket Type1  "
      ]
     },
     "execution_count": 3,
     "metadata": {},
     "output_type": "execute_result"
    }
   ],
   "source": [
    "path='test.csv'\n",
    "df2=pd.read_csv(path)\n",
    "df2.head()\n",
    "# df2.isnull().sum()"
   ]
  },
  {
   "cell_type": "code",
   "execution_count": 4,
   "metadata": {},
   "outputs": [
    {
     "data": {
      "text/html": [
       "<div>\n",
       "<style scoped>\n",
       "    .dataframe tbody tr th:only-of-type {\n",
       "        vertical-align: middle;\n",
       "    }\n",
       "\n",
       "    .dataframe tbody tr th {\n",
       "        vertical-align: top;\n",
       "    }\n",
       "\n",
       "    .dataframe thead th {\n",
       "        text-align: right;\n",
       "    }\n",
       "</style>\n",
       "<table border=\"1\" class=\"dataframe\">\n",
       "  <thead>\n",
       "    <tr style=\"text-align: right;\">\n",
       "      <th></th>\n",
       "      <th>Product_Identifier</th>\n",
       "      <th>Supermarket_Identifier</th>\n",
       "      <th>Product_Supermarket_Identifier</th>\n",
       "      <th>Product_Weight</th>\n",
       "      <th>Product_Fat_Content</th>\n",
       "      <th>Product_Shelf_Visibility</th>\n",
       "      <th>Product_Type</th>\n",
       "      <th>Product_Price</th>\n",
       "      <th>Supermarket_Opening_Year</th>\n",
       "      <th>Supermarket _Size</th>\n",
       "      <th>Supermarket_Location_Type</th>\n",
       "      <th>Supermarket_Type</th>\n",
       "      <th>Product_Supermarket_Sales</th>\n",
       "    </tr>\n",
       "  </thead>\n",
       "  <tbody>\n",
       "    <tr>\n",
       "      <th>count</th>\n",
       "      <td>3742</td>\n",
       "      <td>3742</td>\n",
       "      <td>3742</td>\n",
       "      <td>3141.000000</td>\n",
       "      <td>3742</td>\n",
       "      <td>3742.000000</td>\n",
       "      <td>3742</td>\n",
       "      <td>3742.000000</td>\n",
       "      <td>3742.000000</td>\n",
       "      <td>2616</td>\n",
       "      <td>3742</td>\n",
       "      <td>3742</td>\n",
       "      <td>3742.000000</td>\n",
       "    </tr>\n",
       "    <tr>\n",
       "      <th>unique</th>\n",
       "      <td>1367</td>\n",
       "      <td>10</td>\n",
       "      <td>3742</td>\n",
       "      <td>NaN</td>\n",
       "      <td>3</td>\n",
       "      <td>NaN</td>\n",
       "      <td>16</td>\n",
       "      <td>NaN</td>\n",
       "      <td>NaN</td>\n",
       "      <td>3</td>\n",
       "      <td>3</td>\n",
       "      <td>4</td>\n",
       "      <td>NaN</td>\n",
       "    </tr>\n",
       "    <tr>\n",
       "      <th>top</th>\n",
       "      <td>NCL31</td>\n",
       "      <td>CHUKWUDI017</td>\n",
       "      <td>FDF57_CHUKWUDI017</td>\n",
       "      <td>NaN</td>\n",
       "      <td>Low Fat</td>\n",
       "      <td>NaN</td>\n",
       "      <td>Snack Foods</td>\n",
       "      <td>NaN</td>\n",
       "      <td>NaN</td>\n",
       "      <td>Medium</td>\n",
       "      <td>Cluster 3</td>\n",
       "      <td>Supermarket Type1</td>\n",
       "      <td>NaN</td>\n",
       "    </tr>\n",
       "    <tr>\n",
       "      <th>freq</th>\n",
       "      <td>9</td>\n",
       "      <td>461</td>\n",
       "      <td>1</td>\n",
       "      <td>NaN</td>\n",
       "      <td>2272</td>\n",
       "      <td>NaN</td>\n",
       "      <td>563</td>\n",
       "      <td>NaN</td>\n",
       "      <td>NaN</td>\n",
       "      <td>1155</td>\n",
       "      <td>1438</td>\n",
       "      <td>2495</td>\n",
       "      <td>NaN</td>\n",
       "    </tr>\n",
       "    <tr>\n",
       "      <th>mean</th>\n",
       "      <td>NaN</td>\n",
       "      <td>NaN</td>\n",
       "      <td>NaN</td>\n",
       "      <td>12.870640</td>\n",
       "      <td>NaN</td>\n",
       "      <td>0.066613</td>\n",
       "      <td>NaN</td>\n",
       "      <td>391.815315</td>\n",
       "      <td>2004.778461</td>\n",
       "      <td>NaN</td>\n",
       "      <td>NaN</td>\n",
       "      <td>NaN</td>\n",
       "      <td>6103.735353</td>\n",
       "    </tr>\n",
       "    <tr>\n",
       "      <th>std</th>\n",
       "      <td>NaN</td>\n",
       "      <td>NaN</td>\n",
       "      <td>NaN</td>\n",
       "      <td>4.730432</td>\n",
       "      <td>NaN</td>\n",
       "      <td>0.052951</td>\n",
       "      <td>NaN</td>\n",
       "      <td>120.204222</td>\n",
       "      <td>8.276712</td>\n",
       "      <td>NaN</td>\n",
       "      <td>NaN</td>\n",
       "      <td>NaN</td>\n",
       "      <td>4456.169125</td>\n",
       "    </tr>\n",
       "    <tr>\n",
       "      <th>min</th>\n",
       "      <td>NaN</td>\n",
       "      <td>NaN</td>\n",
       "      <td>NaN</td>\n",
       "      <td>4.555000</td>\n",
       "      <td>NaN</td>\n",
       "      <td>0.000000</td>\n",
       "      <td>NaN</td>\n",
       "      <td>78.730000</td>\n",
       "      <td>1992.000000</td>\n",
       "      <td>NaN</td>\n",
       "      <td>NaN</td>\n",
       "      <td>NaN</td>\n",
       "      <td>83.230000</td>\n",
       "    </tr>\n",
       "    <tr>\n",
       "      <th>25%</th>\n",
       "      <td>NaN</td>\n",
       "      <td>NaN</td>\n",
       "      <td>NaN</td>\n",
       "      <td>8.630000</td>\n",
       "      <td>NaN</td>\n",
       "      <td>0.026971</td>\n",
       "      <td>NaN</td>\n",
       "      <td>308.392500</td>\n",
       "      <td>1994.000000</td>\n",
       "      <td>NaN</td>\n",
       "      <td>NaN</td>\n",
       "      <td>NaN</td>\n",
       "      <td>2728.120000</td>\n",
       "    </tr>\n",
       "    <tr>\n",
       "      <th>50%</th>\n",
       "      <td>NaN</td>\n",
       "      <td>NaN</td>\n",
       "      <td>NaN</td>\n",
       "      <td>12.600000</td>\n",
       "      <td>NaN</td>\n",
       "      <td>0.053517</td>\n",
       "      <td>NaN</td>\n",
       "      <td>393.910000</td>\n",
       "      <td>2006.000000</td>\n",
       "      <td>NaN</td>\n",
       "      <td>NaN</td>\n",
       "      <td>NaN</td>\n",
       "      <td>5374.675000</td>\n",
       "    </tr>\n",
       "    <tr>\n",
       "      <th>75%</th>\n",
       "      <td>NaN</td>\n",
       "      <td>NaN</td>\n",
       "      <td>NaN</td>\n",
       "      <td>17.100000</td>\n",
       "      <td>NaN</td>\n",
       "      <td>0.095094</td>\n",
       "      <td>NaN</td>\n",
       "      <td>466.480000</td>\n",
       "      <td>2011.000000</td>\n",
       "      <td>NaN</td>\n",
       "      <td>NaN</td>\n",
       "      <td>NaN</td>\n",
       "      <td>8524.737500</td>\n",
       "    </tr>\n",
       "    <tr>\n",
       "      <th>max</th>\n",
       "      <td>NaN</td>\n",
       "      <td>NaN</td>\n",
       "      <td>NaN</td>\n",
       "      <td>21.350000</td>\n",
       "      <td>NaN</td>\n",
       "      <td>0.328391</td>\n",
       "      <td>NaN</td>\n",
       "      <td>667.220000</td>\n",
       "      <td>2016.000000</td>\n",
       "      <td>NaN</td>\n",
       "      <td>NaN</td>\n",
       "      <td>NaN</td>\n",
       "      <td>28612.760000</td>\n",
       "    </tr>\n",
       "  </tbody>\n",
       "</table>\n",
       "</div>"
      ],
      "text/plain": [
       "       Product_Identifier Supermarket_Identifier  \\\n",
       "count                3742                   3742   \n",
       "unique               1367                     10   \n",
       "top                 NCL31            CHUKWUDI017   \n",
       "freq                    9                    461   \n",
       "mean                  NaN                    NaN   \n",
       "std                   NaN                    NaN   \n",
       "min                   NaN                    NaN   \n",
       "25%                   NaN                    NaN   \n",
       "50%                   NaN                    NaN   \n",
       "75%                   NaN                    NaN   \n",
       "max                   NaN                    NaN   \n",
       "\n",
       "       Product_Supermarket_Identifier  Product_Weight Product_Fat_Content  \\\n",
       "count                            3742     3141.000000                3742   \n",
       "unique                           3742             NaN                   3   \n",
       "top                 FDF57_CHUKWUDI017             NaN             Low Fat   \n",
       "freq                                1             NaN                2272   \n",
       "mean                              NaN       12.870640                 NaN   \n",
       "std                               NaN        4.730432                 NaN   \n",
       "min                               NaN        4.555000                 NaN   \n",
       "25%                               NaN        8.630000                 NaN   \n",
       "50%                               NaN       12.600000                 NaN   \n",
       "75%                               NaN       17.100000                 NaN   \n",
       "max                               NaN       21.350000                 NaN   \n",
       "\n",
       "        Product_Shelf_Visibility Product_Type  Product_Price  \\\n",
       "count                3742.000000         3742    3742.000000   \n",
       "unique                       NaN           16            NaN   \n",
       "top                          NaN  Snack Foods            NaN   \n",
       "freq                         NaN          563            NaN   \n",
       "mean                    0.066613          NaN     391.815315   \n",
       "std                     0.052951          NaN     120.204222   \n",
       "min                     0.000000          NaN      78.730000   \n",
       "25%                     0.026971          NaN     308.392500   \n",
       "50%                     0.053517          NaN     393.910000   \n",
       "75%                     0.095094          NaN     466.480000   \n",
       "max                     0.328391          NaN     667.220000   \n",
       "\n",
       "        Supermarket_Opening_Year Supermarket _Size Supermarket_Location_Type  \\\n",
       "count                3742.000000              2616                      3742   \n",
       "unique                       NaN                 3                         3   \n",
       "top                          NaN            Medium                 Cluster 3   \n",
       "freq                         NaN              1155                      1438   \n",
       "mean                 2004.778461               NaN                       NaN   \n",
       "std                     8.276712               NaN                       NaN   \n",
       "min                  1992.000000               NaN                       NaN   \n",
       "25%                  1994.000000               NaN                       NaN   \n",
       "50%                  2006.000000               NaN                       NaN   \n",
       "75%                  2011.000000               NaN                       NaN   \n",
       "max                  2016.000000               NaN                       NaN   \n",
       "\n",
       "         Supermarket_Type  Product_Supermarket_Sales  \n",
       "count                3742                3742.000000  \n",
       "unique                  4                        NaN  \n",
       "top     Supermarket Type1                        NaN  \n",
       "freq                 2495                        NaN  \n",
       "mean                  NaN                6103.735353  \n",
       "std                   NaN                4456.169125  \n",
       "min                   NaN                  83.230000  \n",
       "25%                   NaN                2728.120000  \n",
       "50%                   NaN                5374.675000  \n",
       "75%                   NaN                8524.737500  \n",
       "max                   NaN               28612.760000  "
      ]
     },
     "execution_count": 4,
     "metadata": {},
     "output_type": "execute_result"
    }
   ],
   "source": [
    "df.describe(include='all')"
   ]
  },
  {
   "cell_type": "markdown",
   "metadata": {},
   "source": [
    "# Treating Missing Values"
   ]
  },
  {
   "cell_type": "code",
   "execution_count": 5,
   "metadata": {},
   "outputs": [],
   "source": [
    "# df.isnull().sum()\n",
    "\n",
    "# df2.isnull().sum()\n",
    "\n",
    "#check the mode of the supermarket size values\n",
    "# df['Supermarket _Size'].value_counts().idxmax()\n",
    "\n",
    "# df2['Supermarket _Size'].value_counts().idxmax()\n",
    "\n",
    "#replace the missing 'Supermarket_Size' values by the most frequent \n",
    "df[\"Supermarket _Size\"].replace(np.nan, \"Medium\", inplace=True)\n",
    "df2[\"Supermarket _Size\"].replace(np.nan, \"Medium\", inplace=True)\n",
    "df.Product_Weight=df.sort_values(['Product_Identifier','Product_Weight']).Product_Weight.ffill( )\n",
    "df2.Product_Weight=df.sort_values(['Product_Identifier','Product_Weight']).Product_Weight.ffill( )"
   ]
  },
  {
   "cell_type": "code",
   "execution_count": 6,
   "metadata": {},
   "outputs": [],
   "source": [
    "# group 'Product_Identifier', 'Product_Weight' by 'Product_Identifier' so as to replace nan with the mean\n",
    "#of the corresponding 'Product_Identifier'\n",
    "df_gptest = df[['Product_Identifier', 'Product_Weight']]\n",
    "grouped_test1 = df_gptest.groupby(['Product_Identifier'],as_index=False).mean() "
   ]
  },
  {
   "cell_type": "code",
   "execution_count": 7,
   "metadata": {},
   "outputs": [
    {
     "data": {
      "text/html": [
       "<div>\n",
       "<style scoped>\n",
       "    .dataframe tbody tr th:only-of-type {\n",
       "        vertical-align: middle;\n",
       "    }\n",
       "\n",
       "    .dataframe tbody tr th {\n",
       "        vertical-align: top;\n",
       "    }\n",
       "\n",
       "    .dataframe thead th {\n",
       "        text-align: right;\n",
       "    }\n",
       "</style>\n",
       "<table border=\"1\" class=\"dataframe\">\n",
       "  <thead>\n",
       "    <tr style=\"text-align: right;\">\n",
       "      <th></th>\n",
       "      <th>Product_Identifier</th>\n",
       "      <th>Supermarket_Identifier</th>\n",
       "      <th>Product_Supermarket_Identifier</th>\n",
       "      <th>Product_Weight</th>\n",
       "      <th>Product_Fat_Content</th>\n",
       "      <th>Product_Shelf_Visibility</th>\n",
       "      <th>Product_Type</th>\n",
       "      <th>Product_Price</th>\n",
       "      <th>Supermarket_Opening_Year</th>\n",
       "      <th>Supermarket _Size</th>\n",
       "      <th>Supermarket_Location_Type</th>\n",
       "      <th>Supermarket_Type</th>\n",
       "      <th>Product_Supermarket_Sales</th>\n",
       "    </tr>\n",
       "  </thead>\n",
       "  <tbody>\n",
       "    <tr>\n",
       "      <th>183</th>\n",
       "      <td>DRA12</td>\n",
       "      <td>CHUKWUDI010</td>\n",
       "      <td>DRA12_CHUKWUDI010</td>\n",
       "      <td>11.6</td>\n",
       "      <td>Low Fat</td>\n",
       "      <td>0.068535</td>\n",
       "      <td>Soft Drinks</td>\n",
       "      <td>357.54</td>\n",
       "      <td>2005</td>\n",
       "      <td>Medium</td>\n",
       "      <td>Cluster 3</td>\n",
       "      <td>Grocery Store</td>\n",
       "      <td>709.08</td>\n",
       "    </tr>\n",
       "    <tr>\n",
       "      <th>1391</th>\n",
       "      <td>DRA12</td>\n",
       "      <td>CHUKWUDI013</td>\n",
       "      <td>DRA12_CHUKWUDI013</td>\n",
       "      <td>11.6</td>\n",
       "      <td>Low Fat</td>\n",
       "      <td>0.040912</td>\n",
       "      <td>Soft Drinks</td>\n",
       "      <td>355.79</td>\n",
       "      <td>1994</td>\n",
       "      <td>High</td>\n",
       "      <td>Cluster 3</td>\n",
       "      <td>Supermarket Type1</td>\n",
       "      <td>6381.69</td>\n",
       "    </tr>\n",
       "    <tr>\n",
       "      <th>2103</th>\n",
       "      <td>DRA12</td>\n",
       "      <td>CHUKWUDI017</td>\n",
       "      <td>DRA12_CHUKWUDI017</td>\n",
       "      <td>11.6</td>\n",
       "      <td>Low Fat</td>\n",
       "      <td>0.041178</td>\n",
       "      <td>Soft Drinks</td>\n",
       "      <td>350.79</td>\n",
       "      <td>2014</td>\n",
       "      <td>Medium</td>\n",
       "      <td>Cluster 2</td>\n",
       "      <td>Supermarket Type1</td>\n",
       "      <td>6381.69</td>\n",
       "    </tr>\n",
       "    <tr>\n",
       "      <th>1719</th>\n",
       "      <td>DRA12</td>\n",
       "      <td>CHUKWUDI035</td>\n",
       "      <td>DRA12_CHUKWUDI035</td>\n",
       "      <td>11.6</td>\n",
       "      <td>Ultra Low fat</td>\n",
       "      <td>0.000000</td>\n",
       "      <td>Soft Drinks</td>\n",
       "      <td>354.79</td>\n",
       "      <td>2011</td>\n",
       "      <td>Small</td>\n",
       "      <td>Cluster 2</td>\n",
       "      <td>Supermarket Type1</td>\n",
       "      <td>2481.77</td>\n",
       "    </tr>\n",
       "    <tr>\n",
       "      <th>2592</th>\n",
       "      <td>DRA12</td>\n",
       "      <td>CHUKWUDI045</td>\n",
       "      <td>DRA12_CHUKWUDI045</td>\n",
       "      <td>11.6</td>\n",
       "      <td>Low Fat</td>\n",
       "      <td>0.000000</td>\n",
       "      <td>Soft Drinks</td>\n",
       "      <td>354.04</td>\n",
       "      <td>2009</td>\n",
       "      <td>Medium</td>\n",
       "      <td>Cluster 2</td>\n",
       "      <td>Supermarket Type1</td>\n",
       "      <td>9572.54</td>\n",
       "    </tr>\n",
       "  </tbody>\n",
       "</table>\n",
       "</div>"
      ],
      "text/plain": [
       "     Product_Identifier Supermarket_Identifier Product_Supermarket_Identifier  \\\n",
       "183               DRA12            CHUKWUDI010              DRA12_CHUKWUDI010   \n",
       "1391              DRA12            CHUKWUDI013              DRA12_CHUKWUDI013   \n",
       "2103              DRA12            CHUKWUDI017              DRA12_CHUKWUDI017   \n",
       "1719              DRA12            CHUKWUDI035              DRA12_CHUKWUDI035   \n",
       "2592              DRA12            CHUKWUDI045              DRA12_CHUKWUDI045   \n",
       "\n",
       "      Product_Weight Product_Fat_Content  Product_Shelf_Visibility  \\\n",
       "183             11.6             Low Fat                  0.068535   \n",
       "1391            11.6             Low Fat                  0.040912   \n",
       "2103            11.6             Low Fat                  0.041178   \n",
       "1719            11.6       Ultra Low fat                  0.000000   \n",
       "2592            11.6             Low Fat                  0.000000   \n",
       "\n",
       "     Product_Type  Product_Price  Supermarket_Opening_Year Supermarket _Size  \\\n",
       "183   Soft Drinks         357.54                      2005            Medium   \n",
       "1391  Soft Drinks         355.79                      1994              High   \n",
       "2103  Soft Drinks         350.79                      2014            Medium   \n",
       "1719  Soft Drinks         354.79                      2011             Small   \n",
       "2592  Soft Drinks         354.04                      2009            Medium   \n",
       "\n",
       "     Supermarket_Location_Type   Supermarket_Type  Product_Supermarket_Sales  \n",
       "183                  Cluster 3      Grocery Store                     709.08  \n",
       "1391                 Cluster 3  Supermarket Type1                    6381.69  \n",
       "2103                 Cluster 2  Supermarket Type1                    6381.69  \n",
       "1719                 Cluster 2  Supermarket Type1                    2481.77  \n",
       "2592                 Cluster 2  Supermarket Type1                    9572.54  "
      ]
     },
     "execution_count": 7,
     "metadata": {},
     "output_type": "execute_result"
    }
   ],
   "source": [
    "df.sort_values(['Product_Identifier','Supermarket_Identifier']).head()"
   ]
  },
  {
   "cell_type": "code",
   "execution_count": 8,
   "metadata": {},
   "outputs": [
    {
     "data": {
      "text/plain": [
       "Product_Identifier                 object\n",
       "Supermarket_Identifier             object\n",
       "Product_Supermarket_Identifier     object\n",
       "Product_Weight                    float64\n",
       "Product_Fat_Content                object\n",
       "Product_Shelf_Visibility          float64\n",
       "Product_Type                       object\n",
       "Product_Price                     float64\n",
       "Supermarket_Opening_Year            int64\n",
       "Supermarket _Size                  object\n",
       "Supermarket_Location_Type          object\n",
       "Supermarket_Type                   object\n",
       "Product_Supermarket_Sales         float64\n",
       "dtype: object"
      ]
     },
     "execution_count": 8,
     "metadata": {},
     "output_type": "execute_result"
    }
   ],
   "source": [
    "df.dtypes"
   ]
  },
  {
   "cell_type": "markdown",
   "metadata": {},
   "source": [
    "# product that gives a better margin at specific stores"
   ]
  },
  {
   "cell_type": "code",
   "execution_count": 9,
   "metadata": {},
   "outputs": [],
   "source": [
    "# grouped_1=df[['Product_Type','Supermarket_Identifier','Product_Supermarket_Sales']]\n",
    "# grpd_1=grouped_1.groupby(['Product_Type','Supermarket_Identifier'],as_index=False).mean()\n",
    "# grpd_1=grpd_1.sort_values(['Product_Type','Product_Supermarket_Sales'], ascending=False)\n",
    "# grpd_1"
   ]
  },
  {
   "cell_type": "code",
   "execution_count": 10,
   "metadata": {},
   "outputs": [],
   "source": [
    "# grouped_11=df[['Product_Type','Product_Supermarket_Sales']]\n",
    "# grpd_11=grouped_11.groupby(['Product_Type'],as_index=False).sum()\n",
    "# grpd_11=grpd_11.sort_values(['Product_Supermarket_Sales'], ascending=False)\n",
    "# grpd_11"
   ]
  },
  {
   "cell_type": "code",
   "execution_count": 11,
   "metadata": {},
   "outputs": [],
   "source": [
    "# grouped_pivot = grpd_1.pivot(index='Product_Type',columns='Supermarket_Identifier')\n",
    "# grouped_pivot.head()"
   ]
  },
  {
   "cell_type": "code",
   "execution_count": 12,
   "metadata": {},
   "outputs": [],
   "source": [
    "# fig, ax = plt.subplots()\n",
    "# im = ax.pcolor(grouped_pivot, cmap='RdBu')\n",
    "\n",
    "# #label names\n",
    "# row_labels = grouped_pivot.columns.levels[1]\n",
    "# col_labels = grouped_pivot.index\n",
    "\n",
    "# #move ticks and labels to the center\n",
    "# ax.set_xticks(np.arange(grouped_pivot.shape[1]) + 0.5, minor=False)\n",
    "# ax.set_yticks(np.arange(grouped_pivot.shape[0]) + 0.5, minor=False)\n",
    "\n",
    "# #insert labels\n",
    "# ax.set_xticklabels(row_labels, minor=False)\n",
    "# ax.set_yticklabels(col_labels, minor=False)\n",
    "\n",
    "# #rotate label if too long\n",
    "# plt.xticks(rotation=90)\n",
    "\n",
    "# fig.colorbar(im)\n",
    "# plt.show()"
   ]
  },
  {
   "cell_type": "markdown",
   "metadata": {},
   "source": [
    "# Supermarket Type analysis"
   ]
  },
  {
   "cell_type": "code",
   "execution_count": 13,
   "metadata": {},
   "outputs": [
    {
     "data": {
      "text/html": [
       "<div>\n",
       "<style scoped>\n",
       "    .dataframe tbody tr th:only-of-type {\n",
       "        vertical-align: middle;\n",
       "    }\n",
       "\n",
       "    .dataframe tbody tr th {\n",
       "        vertical-align: top;\n",
       "    }\n",
       "\n",
       "    .dataframe thead th {\n",
       "        text-align: right;\n",
       "    }\n",
       "</style>\n",
       "<table border=\"1\" class=\"dataframe\">\n",
       "  <thead>\n",
       "    <tr style=\"text-align: right;\">\n",
       "      <th></th>\n",
       "      <th>Supermarket_Type</th>\n",
       "      <th>Product_Supermarket_Sales</th>\n",
       "    </tr>\n",
       "  </thead>\n",
       "  <tbody>\n",
       "    <tr>\n",
       "      <th>3</th>\n",
       "      <td>Supermarket Type3</td>\n",
       "      <td>12541.373382</td>\n",
       "    </tr>\n",
       "    <tr>\n",
       "      <th>1</th>\n",
       "      <td>Supermarket Type1</td>\n",
       "      <td>6434.596537</td>\n",
       "    </tr>\n",
       "    <tr>\n",
       "      <th>2</th>\n",
       "      <td>Supermarket Type2</td>\n",
       "      <td>5588.015335</td>\n",
       "    </tr>\n",
       "    <tr>\n",
       "      <th>0</th>\n",
       "      <td>Grocery Store</td>\n",
       "      <td>821.426611</td>\n",
       "    </tr>\n",
       "  </tbody>\n",
       "</table>\n",
       "</div>"
      ],
      "text/plain": [
       "    Supermarket_Type  Product_Supermarket_Sales\n",
       "3  Supermarket Type3               12541.373382\n",
       "1  Supermarket Type1                6434.596537\n",
       "2  Supermarket Type2                5588.015335\n",
       "0      Grocery Store                 821.426611"
      ]
     },
     "execution_count": 13,
     "metadata": {},
     "output_type": "execute_result"
    }
   ],
   "source": [
    "grouped_2=df[['Supermarket_Type', 'Product_Supermarket_Sales']]\n",
    "grpd_2=grouped_2.groupby(['Supermarket_Type'],as_index=False).mean()\n",
    "grpd_2.sort_values('Product_Supermarket_Sales',ascending=False)"
   ]
  },
  {
   "cell_type": "markdown",
   "metadata": {},
   "source": [
    "# Encoding"
   ]
  },
  {
   "cell_type": "code",
   "execution_count": 14,
   "metadata": {},
   "outputs": [],
   "source": [
    "df['Supermarket_Type'].replace('Supermarket Type3',4, inplace=True)\n",
    "df['Supermarket_Type'].replace('Supermarket Type1',3, inplace=True)\n",
    "df['Supermarket_Type'].replace('Supermarket Type2',2, inplace=True)\n",
    "df['Supermarket_Type'].replace('Grocery Store',1, inplace=True)\n",
    "# df[['Supermarket_Type']]\n",
    "\n",
    "df2['Supermarket_Type'].replace('Supermarket Type3',4, inplace=True)\n",
    "df2['Supermarket_Type'].replace('Supermarket Type1',3, inplace=True)\n",
    "df2['Supermarket_Type'].replace('Supermarket Type2',2, inplace=True)\n",
    "df2['Supermarket_Type'].replace('Grocery Store',1, inplace=True)\n",
    "# df2[['Supermarket_Type']]"
   ]
  },
  {
   "cell_type": "code",
   "execution_count": 15,
   "metadata": {},
   "outputs": [],
   "source": [
    "# sns.boxplot(x=\"Supermarket_Type\", y=\"Product_Supermarket_Sales\", data=df)"
   ]
  },
  {
   "cell_type": "code",
   "execution_count": 16,
   "metadata": {},
   "outputs": [],
   "source": [
    "# grpd_2=grouped_2.groupby(['Supermarket_Type'],as_index=False)\n",
    "# f_val, p_val = stats.f_oneway(grpd_2.get_group('Supermarket Type1')['Product_Supermarket_Sales'], grpd_2.get_group('Supermarket Type2')['Product_Supermarket_Sales'], grpd_2.get_group('Supermarket Type3')['Product_Supermarket_Sales'], grpd_2.get_group('Grocery Store')['Product_Supermarket_Sales'])  \n",
    "# print( \"ANOVA results: F=\", f_val, \", P =\", p_val)   "
   ]
  },
  {
   "cell_type": "code",
   "execution_count": 17,
   "metadata": {},
   "outputs": [],
   "source": [
    "# df['Supermarket_Type'].value_counts()"
   ]
  },
  {
   "cell_type": "markdown",
   "metadata": {},
   "source": [
    "# Supermarket_Location_Type analysis"
   ]
  },
  {
   "cell_type": "code",
   "execution_count": 18,
   "metadata": {},
   "outputs": [
    {
     "data": {
      "text/html": [
       "<div>\n",
       "<style scoped>\n",
       "    .dataframe tbody tr th:only-of-type {\n",
       "        vertical-align: middle;\n",
       "    }\n",
       "\n",
       "    .dataframe tbody tr th {\n",
       "        vertical-align: top;\n",
       "    }\n",
       "\n",
       "    .dataframe thead th {\n",
       "        text-align: right;\n",
       "    }\n",
       "</style>\n",
       "<table border=\"1\" class=\"dataframe\">\n",
       "  <thead>\n",
       "    <tr style=\"text-align: right;\">\n",
       "      <th></th>\n",
       "      <th>Supermarket_Location_Type</th>\n",
       "      <th>Product_Supermarket_Sales</th>\n",
       "    </tr>\n",
       "  </thead>\n",
       "  <tbody>\n",
       "    <tr>\n",
       "      <th>0</th>\n",
       "      <td>Cluster 1</td>\n",
       "      <td>4907.270494</td>\n",
       "    </tr>\n",
       "    <tr>\n",
       "      <th>1</th>\n",
       "      <td>Cluster 2</td>\n",
       "      <td>7581.598620</td>\n",
       "    </tr>\n",
       "    <tr>\n",
       "      <th>2</th>\n",
       "      <td>Cluster 3</td>\n",
       "      <td>5770.437719</td>\n",
       "    </tr>\n",
       "  </tbody>\n",
       "</table>\n",
       "</div>"
      ],
      "text/plain": [
       "  Supermarket_Location_Type  Product_Supermarket_Sales\n",
       "0                 Cluster 1                4907.270494\n",
       "1                 Cluster 2                7581.598620\n",
       "2                 Cluster 3                5770.437719"
      ]
     },
     "execution_count": 18,
     "metadata": {},
     "output_type": "execute_result"
    }
   ],
   "source": [
    "grouped_3=df[['Supermarket_Location_Type', 'Product_Supermarket_Sales']]\n",
    "grpd_3=grouped_3.groupby(['Supermarket_Location_Type'],as_index=False).mean()\n",
    "grpd_3"
   ]
  },
  {
   "cell_type": "markdown",
   "metadata": {},
   "source": [
    "# Encoding"
   ]
  },
  {
   "cell_type": "code",
   "execution_count": 19,
   "metadata": {},
   "outputs": [],
   "source": [
    "df['Supermarket_Location_Type'].replace('Cluster 2',3, inplace=True)\n",
    "df['Supermarket_Location_Type'].replace('Cluster 3',2, inplace=True)\n",
    "df['Supermarket_Location_Type'].replace('Cluster 1',1, inplace=True)\n",
    "# df['Supermarket_Location_Type'].value_counts()\n",
    "\n",
    "df2['Supermarket_Location_Type'].replace('Cluster 2',3, inplace=True)\n",
    "df2['Supermarket_Location_Type'].replace('Cluster 3',2, inplace=True)\n",
    "df2['Supermarket_Location_Type'].replace('Cluster 1',1, inplace=True)\n",
    "# df2['Supermarket_Location_Type'].value_counts()"
   ]
  },
  {
   "cell_type": "code",
   "execution_count": 20,
   "metadata": {},
   "outputs": [],
   "source": [
    "# df['Supermarket_Location_Type'].value_counts()"
   ]
  },
  {
   "cell_type": "code",
   "execution_count": 21,
   "metadata": {},
   "outputs": [
    {
     "data": {
      "text/plain": [
       "<matplotlib.axes._subplots.AxesSubplot at 0x2ddc74d4308>"
      ]
     },
     "execution_count": 21,
     "metadata": {},
     "output_type": "execute_result"
    },
    {
     "data": {
      "image/png": "[encoded data removed]",
      "text/plain": [
       "<Figure size 432x288 with 1 Axes>"
      ]
     },
     "metadata": {
      "needs_background": "light"
     },
     "output_type": "display_data"
    }
   ],
   "source": [
    "sns.boxplot(x=\"Supermarket_Location_Type\", y=\"Product_Supermarket_Sales\", data=df)"
   ]
  },
  {
   "cell_type": "code",
   "execution_count": 22,
   "metadata": {},
   "outputs": [],
   "source": [
    "# grpd_3=grouped_3.groupby(['Supermarket_Location_Type'],as_index=False)\n",
    "# f_val, p_val = stats.f_oneway(grpd_3.get_group('Cluster 1')['Product_Supermarket_Sales'], grpd_3.get_group('Cluster 2')['Product_Supermarket_Sales'], grpd_3.get_group('Cluster 3')['Product_Supermarket_Sales'])  \n",
    "# print( \"ANOVA results: F=\", f_val, \", P =\", p_val)   "
   ]
  },
  {
   "cell_type": "markdown",
   "metadata": {},
   "source": [
    "# Product_Fat_Content analysis"
   ]
  },
  {
   "cell_type": "code",
   "execution_count": 23,
   "metadata": {},
   "outputs": [
    {
     "data": {
      "text/plain": [
       "Low Fat          2272\n",
       "Normal Fat       1341\n",
       "Ultra Low fat     129\n",
       "Name: Product_Fat_Content, dtype: int64"
      ]
     },
     "execution_count": 23,
     "metadata": {},
     "output_type": "execute_result"
    }
   ],
   "source": [
    "df['Product_Fat_Content'].value_counts()"
   ]
  },
  {
   "cell_type": "code",
   "execution_count": 24,
   "metadata": {},
   "outputs": [
    {
     "data": {
      "text/html": [
       "<div>\n",
       "<style scoped>\n",
       "    .dataframe tbody tr th:only-of-type {\n",
       "        vertical-align: middle;\n",
       "    }\n",
       "\n",
       "    .dataframe tbody tr th {\n",
       "        vertical-align: top;\n",
       "    }\n",
       "\n",
       "    .dataframe thead th {\n",
       "        text-align: right;\n",
       "    }\n",
       "</style>\n",
       "<table border=\"1\" class=\"dataframe\">\n",
       "  <thead>\n",
       "    <tr style=\"text-align: right;\">\n",
       "      <th></th>\n",
       "      <th>Product_Fat_Content</th>\n",
       "      <th>Product_Supermarket_Sales</th>\n",
       "    </tr>\n",
       "  </thead>\n",
       "  <tbody>\n",
       "    <tr>\n",
       "      <th>0</th>\n",
       "      <td>Low Fat</td>\n",
       "      <td>6038.504696</td>\n",
       "    </tr>\n",
       "    <tr>\n",
       "      <th>1</th>\n",
       "      <td>Normal Fat</td>\n",
       "      <td>6287.411447</td>\n",
       "    </tr>\n",
       "    <tr>\n",
       "      <th>2</th>\n",
       "      <td>Ultra Low fat</td>\n",
       "      <td>5343.226899</td>\n",
       "    </tr>\n",
       "  </tbody>\n",
       "</table>\n",
       "</div>"
      ],
      "text/plain": [
       "  Product_Fat_Content  Product_Supermarket_Sales\n",
       "0             Low Fat                6038.504696\n",
       "1          Normal Fat                6287.411447\n",
       "2       Ultra Low fat                5343.226899"
      ]
     },
     "execution_count": 24,
     "metadata": {},
     "output_type": "execute_result"
    }
   ],
   "source": [
    "grouped_4=df[['Product_Fat_Content', 'Product_Supermarket_Sales']]\n",
    "grpd_4=grouped_4.groupby(['Product_Fat_Content'],as_index=False).mean()\n",
    "grpd_4"
   ]
  },
  {
   "cell_type": "markdown",
   "metadata": {},
   "source": [
    "# Encoding"
   ]
  },
  {
   "cell_type": "code",
   "execution_count": 25,
   "metadata": {},
   "outputs": [],
   "source": [
    "df['Product_Fat_Content'].replace('Low Fat',3, inplace=True)\n",
    "df['Product_Fat_Content'].replace('Normal Fat',2, inplace=True)\n",
    "df['Product_Fat_Content'].replace('Ultra Low fat',1, inplace=True)\n",
    "# df['Product_Fat_Content'].value_counts()\n",
    "df2['Product_Fat_Content'].replace('Low Fat',3, inplace=True)\n",
    "df2['Product_Fat_Content'].replace('Normal Fat',2, inplace=True)\n",
    "df2['Product_Fat_Content'].replace('Ultra Low fat',1, inplace=True)\n",
    "# df2['Product_Fat_Content'].value_counts()"
   ]
  },
  {
   "cell_type": "code",
   "execution_count": 26,
   "metadata": {},
   "outputs": [],
   "source": [
    "# sns.boxplot(x='Product_Fat_Content', y='Product_Supermarket_Sales', data=df)"
   ]
  },
  {
   "cell_type": "code",
   "execution_count": 27,
   "metadata": {},
   "outputs": [],
   "source": [
    "# grpd_4=grouped_4.groupby(['Product_Fat_Content'],as_index=False)\n",
    "# f_val, p_val = stats.f_oneway(grpd_4.get_group('Low Fat')['Product_Supermarket_Sales'], grpd_4.get_group('Normal Fat')['Product_Supermarket_Sales'], grpd_4.get_group('Ultra Low fat')['Product_Supermarket_Sales'])  \n",
    "# print( \"ANOVA results: F=\", f_val, \", P =\", p_val)   "
   ]
  },
  {
   "cell_type": "markdown",
   "metadata": {},
   "source": [
    "# supermarket_size analysis"
   ]
  },
  {
   "cell_type": "code",
   "execution_count": 28,
   "metadata": {},
   "outputs": [
    {
     "data": {
      "text/plain": [
       "Medium    2281\n",
       "Small     1015\n",
       "High       446\n",
       "Name: Supermarket _Size, dtype: int64"
      ]
     },
     "execution_count": 28,
     "metadata": {},
     "output_type": "execute_result"
    }
   ],
   "source": [
    "df['Supermarket _Size'].value_counts()"
   ]
  },
  {
   "cell_type": "code",
   "execution_count": 29,
   "metadata": {},
   "outputs": [
    {
     "data": {
      "text/html": [
       "<div>\n",
       "<style scoped>\n",
       "    .dataframe tbody tr th:only-of-type {\n",
       "        vertical-align: middle;\n",
       "    }\n",
       "\n",
       "    .dataframe tbody tr th {\n",
       "        vertical-align: top;\n",
       "    }\n",
       "\n",
       "    .dataframe thead th {\n",
       "        text-align: right;\n",
       "    }\n",
       "</style>\n",
       "<table border=\"1\" class=\"dataframe\">\n",
       "  <thead>\n",
       "    <tr style=\"text-align: right;\">\n",
       "      <th></th>\n",
       "      <th>Supermarket _Size</th>\n",
       "      <th>Product_Supermarket_Sales</th>\n",
       "    </tr>\n",
       "  </thead>\n",
       "  <tbody>\n",
       "    <tr>\n",
       "      <th>0</th>\n",
       "      <td>High</td>\n",
       "      <td>3998.670359</td>\n",
       "    </tr>\n",
       "    <tr>\n",
       "      <th>1</th>\n",
       "      <td>Medium</td>\n",
       "      <td>6844.184498</td>\n",
       "    </tr>\n",
       "    <tr>\n",
       "      <th>2</th>\n",
       "      <td>Small</td>\n",
       "      <td>5364.715143</td>\n",
       "    </tr>\n",
       "  </tbody>\n",
       "</table>\n",
       "</div>"
      ],
      "text/plain": [
       "  Supermarket _Size  Product_Supermarket_Sales\n",
       "0              High                3998.670359\n",
       "1            Medium                6844.184498\n",
       "2             Small                5364.715143"
      ]
     },
     "execution_count": 29,
     "metadata": {},
     "output_type": "execute_result"
    }
   ],
   "source": [
    "grouped_5=df[['Supermarket _Size', 'Product_Supermarket_Sales']]\n",
    "grpd_5=grouped_5.groupby(['Supermarket _Size'],as_index=False).mean()\n",
    "grpd_5"
   ]
  },
  {
   "cell_type": "markdown",
   "metadata": {},
   "source": [
    "# Encoding"
   ]
  },
  {
   "cell_type": "code",
   "execution_count": 30,
   "metadata": {},
   "outputs": [],
   "source": [
    "df['Supermarket _Size'].replace('Medium',3, inplace=True)\n",
    "df['Supermarket _Size'].replace('Small',2, inplace=True)\n",
    "df['Supermarket _Size'].replace('High',1, inplace=True)\n",
    "\n",
    "df2['Supermarket _Size'].replace('Medium',3, inplace=True)\n",
    "df2['Supermarket _Size'].replace('Small',2, inplace=True)\n",
    "df2['Supermarket _Size'].replace('High',1, inplace=True)"
   ]
  },
  {
   "cell_type": "code",
   "execution_count": 31,
   "metadata": {},
   "outputs": [
    {
     "data": {
      "text/plain": [
       "<matplotlib.axes._subplots.AxesSubplot at 0x2ddc763b648>"
      ]
     },
     "execution_count": 31,
     "metadata": {},
     "output_type": "execute_result"
    },
    {
     "data": {
      "image/png": "[encoded data removed]",
      "text/plain": [
       "<Figure size 432x288 with 1 Axes>"
      ]
     },
     "metadata": {
      "needs_background": "light"
     },
     "output_type": "display_data"
    }
   ],
   "source": [
    "sns.boxplot(x='Supermarket _Size', y='Product_Supermarket_Sales', data=df)"
   ]
  },
  {
   "cell_type": "code",
   "execution_count": 32,
   "metadata": {},
   "outputs": [],
   "source": [
    "# grpd_5=grouped_5.groupby(['Supermarket _Size'],as_index=False)\n",
    "# f_val, p_val = stats.f_oneway(grpd_5.get_group('Medium')['Product_Supermarket_Sales'], grpd_5.get_group('Small')['Product_Supermarket_Sales'],grpd_5.get_group('High')['Product_Supermarket_Sales'])  \n",
    "# print( \"ANOVA results: F=\", f_val, \", P =\", p_val) "
   ]
  },
  {
   "cell_type": "markdown",
   "metadata": {},
   "source": [
    "# Product_Type analysis"
   ]
  },
  {
   "cell_type": "code",
   "execution_count": 33,
   "metadata": {},
   "outputs": [
    {
     "data": {
      "text/plain": [
       "Snack Foods              563\n",
       "Fruits and Vegetables    556\n",
       "Household                414\n",
       "Frozen Foods             334\n",
       "Canned                   294\n",
       "Dairy                    263\n",
       "Baking Goods             259\n",
       "Health and Hygiene       222\n",
       "Meat                     202\n",
       "Soft Drinks              193\n",
       "Breads                   115\n",
       "Hard Drinks               97\n",
       "Others                    82\n",
       "Starchy Foods             62\n",
       "Breakfast                 54\n",
       "Seafood                   32\n",
       "Name: Product_Type, dtype: int64"
      ]
     },
     "execution_count": 33,
     "metadata": {},
     "output_type": "execute_result"
    }
   ],
   "source": [
    "df['Product_Type'].value_counts()"
   ]
  },
  {
   "cell_type": "markdown",
   "metadata": {},
   "source": [
    "# One hot encodiing of of top 11 product type"
   ]
  },
  {
   "cell_type": "code",
   "execution_count": 34,
   "metadata": {},
   "outputs": [],
   "source": [
    "# rdf= [x for x in df.Product_Type.value_counts().sort_values(ascending=False).head(11).index]\n",
    "# for label in rdf:\n",
    "#     df['Product_Type'+ label]=np.where(df['Product_Type']==label,1,0)\n",
    "# for label in rdf:\n",
    "#     df2['Product_Type'+ label]=np.where(df2['Product_Type']==label,1,0)"
   ]
  },
  {
   "cell_type": "code",
   "execution_count": 35,
   "metadata": {},
   "outputs": [
    {
     "data": {
      "text/plain": [
       "Snack Foods              563\n",
       "Fruits and Vegetables    556\n",
       "Household                414\n",
       "Frozen Foods             334\n",
       "Canned                   294\n",
       "Dairy                    263\n",
       "Baking Goods             259\n",
       "Health and Hygiene       222\n",
       "Meat                     202\n",
       "Soft Drinks              193\n",
       "Breads                   115\n",
       "Hard Drinks               97\n",
       "Others                    82\n",
       "Starchy Foods             62\n",
       "Breakfast                 54\n",
       "Seafood                   32\n",
       "Name: Product_Type, dtype: int64"
      ]
     },
     "execution_count": 35,
     "metadata": {},
     "output_type": "execute_result"
    }
   ],
   "source": [
    "type_count= df['Product_Type'].value_counts().sort_values( ascending=False)\n",
    "type_count\n",
    "# grouped_11=df[['Product_Type','Product_Supermarket_Sales']]\n",
    "# # grpd_11=grouped_11.groupby(['Product_Type'],as_index=False).sum()\n",
    "# # grpd_11=grpd_11.sort_values(['Product_Supermarket_Sales'], ascending=False)\n",
    "# # grpd_11"
   ]
  },
  {
   "cell_type": "code",
   "execution_count": 36,
   "metadata": {},
   "outputs": [
    {
     "data": {
      "text/plain": [
       "Index(['Snack Foods', 'Fruits and Vegetables', 'Household', 'Frozen Foods',\n",
       "       'Canned', 'Dairy', 'Baking Goods', 'Health and Hygiene', 'Meat',\n",
       "       'Soft Drinks', 'Breads', 'Hard Drinks', 'Others', 'Starchy Foods',\n",
       "       'Breakfast', 'Seafood'],\n",
       "      dtype='object')"
      ]
     },
     "execution_count": 36,
     "metadata": {},
     "output_type": "execute_result"
    }
   ],
   "source": [
    "type_count.index"
   ]
  },
  {
   "cell_type": "code",
   "execution_count": 37,
   "metadata": {},
   "outputs": [
    {
     "data": {
      "text/plain": [
       "{'Snack Foods': 16,\n",
       " 'Fruits and Vegetables': 15,\n",
       " 'Household': 14,\n",
       " 'Frozen Foods': 13,\n",
       " 'Canned': 12,\n",
       " 'Dairy': 11,\n",
       " 'Baking Goods': 10,\n",
       " 'Health and Hygiene': 9,\n",
       " 'Meat': 8,\n",
       " 'Soft Drinks': 7,\n",
       " 'Breads': 6,\n",
       " 'Hard Drinks': 5,\n",
       " 'Others': 4,\n",
       " 'Starchy Foods': 3,\n",
       " 'Breakfast': 2,\n",
       " 'Seafood': 1}"
      ]
     },
     "execution_count": 37,
     "metadata": {},
     "output_type": "execute_result"
    }
   ],
   "source": [
    "ptype_encode = {}\n",
    "ptype_encode_values = range(16,0,-1)\n",
    "for i,k in zip(type_count.index,ptype_encode_values):\n",
    "    ptype_encode[i]=k\n",
    "ptype_encode"
   ]
  },
  {
   "cell_type": "code",
   "execution_count": 38,
   "metadata": {},
   "outputs": [],
   "source": [
    "df['Product_Type'] = df['Product_Type'].map(ptype_encode)"
   ]
  },
  {
   "cell_type": "code",
   "execution_count": 39,
   "metadata": {},
   "outputs": [
    {
     "data": {
      "text/html": [
       "<div>\n",
       "<style scoped>\n",
       "    .dataframe tbody tr th:only-of-type {\n",
       "        vertical-align: middle;\n",
       "    }\n",
       "\n",
       "    .dataframe tbody tr th {\n",
       "        vertical-align: top;\n",
       "    }\n",
       "\n",
       "    .dataframe thead th {\n",
       "        text-align: right;\n",
       "    }\n",
       "</style>\n",
       "<table border=\"1\" class=\"dataframe\">\n",
       "  <thead>\n",
       "    <tr style=\"text-align: right;\">\n",
       "      <th></th>\n",
       "      <th>Product_Identifier</th>\n",
       "      <th>Supermarket_Identifier</th>\n",
       "      <th>Product_Supermarket_Identifier</th>\n",
       "      <th>Product_Weight</th>\n",
       "      <th>Product_Fat_Content</th>\n",
       "      <th>Product_Shelf_Visibility</th>\n",
       "      <th>Product_Type</th>\n",
       "      <th>Product_Price</th>\n",
       "      <th>Supermarket_Opening_Year</th>\n",
       "      <th>Supermarket _Size</th>\n",
       "      <th>Supermarket_Location_Type</th>\n",
       "      <th>Supermarket_Type</th>\n",
       "      <th>Product_Supermarket_Sales</th>\n",
       "    </tr>\n",
       "  </thead>\n",
       "  <tbody>\n",
       "    <tr>\n",
       "      <th>0</th>\n",
       "      <td>DRB24</td>\n",
       "      <td>CHUKWUDI017</td>\n",
       "      <td>DRB24_CHUKWUDI017</td>\n",
       "      <td>8.785</td>\n",
       "      <td>3</td>\n",
       "      <td>0.020694</td>\n",
       "      <td>7</td>\n",
       "      <td>382.91</td>\n",
       "      <td>2014</td>\n",
       "      <td>3</td>\n",
       "      <td>3</td>\n",
       "      <td>3</td>\n",
       "      <td>4633.97</td>\n",
       "    </tr>\n",
       "    <tr>\n",
       "      <th>1</th>\n",
       "      <td>FDR31</td>\n",
       "      <td>CHUKWUDI019</td>\n",
       "      <td>FDR31_CHUKWUDI019</td>\n",
       "      <td>6.460</td>\n",
       "      <td>2</td>\n",
       "      <td>0.086078</td>\n",
       "      <td>15</td>\n",
       "      <td>359.53</td>\n",
       "      <td>1992</td>\n",
       "      <td>2</td>\n",
       "      <td>1</td>\n",
       "      <td>1</td>\n",
       "      <td>729.05</td>\n",
       "    </tr>\n",
       "    <tr>\n",
       "      <th>2</th>\n",
       "      <td>FDP16</td>\n",
       "      <td>CHUKWUDI017</td>\n",
       "      <td>FDP16_CHUKWUDI017</td>\n",
       "      <td>18.600</td>\n",
       "      <td>3</td>\n",
       "      <td>0.039517</td>\n",
       "      <td>13</td>\n",
       "      <td>609.20</td>\n",
       "      <td>2014</td>\n",
       "      <td>3</td>\n",
       "      <td>3</td>\n",
       "      <td>3</td>\n",
       "      <td>14740.81</td>\n",
       "    </tr>\n",
       "    <tr>\n",
       "      <th>3</th>\n",
       "      <td>FDY16</td>\n",
       "      <td>CHUKWUDI027</td>\n",
       "      <td>FDY16_CHUKWUDI027</td>\n",
       "      <td>18.350</td>\n",
       "      <td>2</td>\n",
       "      <td>0.091780</td>\n",
       "      <td>13</td>\n",
       "      <td>456.32</td>\n",
       "      <td>1992</td>\n",
       "      <td>3</td>\n",
       "      <td>2</td>\n",
       "      <td>4</td>\n",
       "      <td>16137.33</td>\n",
       "    </tr>\n",
       "    <tr>\n",
       "      <th>4</th>\n",
       "      <td>FDY48</td>\n",
       "      <td>CHUKWUDI046</td>\n",
       "      <td>FDY48_CHUKWUDI046</td>\n",
       "      <td>14.000</td>\n",
       "      <td>3</td>\n",
       "      <td>0.023735</td>\n",
       "      <td>10</td>\n",
       "      <td>258.08</td>\n",
       "      <td>2004</td>\n",
       "      <td>2</td>\n",
       "      <td>1</td>\n",
       "      <td>3</td>\n",
       "      <td>4613.99</td>\n",
       "    </tr>\n",
       "    <tr>\n",
       "      <th>...</th>\n",
       "      <td>...</td>\n",
       "      <td>...</td>\n",
       "      <td>...</td>\n",
       "      <td>...</td>\n",
       "      <td>...</td>\n",
       "      <td>...</td>\n",
       "      <td>...</td>\n",
       "      <td>...</td>\n",
       "      <td>...</td>\n",
       "      <td>...</td>\n",
       "      <td>...</td>\n",
       "      <td>...</td>\n",
       "      <td>...</td>\n",
       "    </tr>\n",
       "    <tr>\n",
       "      <th>3737</th>\n",
       "      <td>FDK10</td>\n",
       "      <td>CHUKWUDI017</td>\n",
       "      <td>FDK10_CHUKWUDI017</td>\n",
       "      <td>5.785</td>\n",
       "      <td>2</td>\n",
       "      <td>0.040587</td>\n",
       "      <td>16</td>\n",
       "      <td>450.92</td>\n",
       "      <td>2014</td>\n",
       "      <td>3</td>\n",
       "      <td>3</td>\n",
       "      <td>3</td>\n",
       "      <td>3145.91</td>\n",
       "    </tr>\n",
       "    <tr>\n",
       "      <th>3738</th>\n",
       "      <td>DRC27</td>\n",
       "      <td>CHUKWUDI045</td>\n",
       "      <td>DRC27_CHUKWUDI045</td>\n",
       "      <td>13.800</td>\n",
       "      <td>3</td>\n",
       "      <td>0.058220</td>\n",
       "      <td>11</td>\n",
       "      <td>618.70</td>\n",
       "      <td>2009</td>\n",
       "      <td>3</td>\n",
       "      <td>3</td>\n",
       "      <td>3</td>\n",
       "      <td>3685.20</td>\n",
       "    </tr>\n",
       "    <tr>\n",
       "      <th>3739</th>\n",
       "      <td>FDW57</td>\n",
       "      <td>CHUKWUDI046</td>\n",
       "      <td>FDW57_CHUKWUDI046</td>\n",
       "      <td>8.310</td>\n",
       "      <td>2</td>\n",
       "      <td>0.000000</td>\n",
       "      <td>16</td>\n",
       "      <td>443.51</td>\n",
       "      <td>2004</td>\n",
       "      <td>2</td>\n",
       "      <td>1</td>\n",
       "      <td>3</td>\n",
       "      <td>9740.65</td>\n",
       "    </tr>\n",
       "    <tr>\n",
       "      <th>3740</th>\n",
       "      <td>NCF30</td>\n",
       "      <td>CHUKWUDI018</td>\n",
       "      <td>NCF30_CHUKWUDI018</td>\n",
       "      <td>17.000</td>\n",
       "      <td>3</td>\n",
       "      <td>0.126758</td>\n",
       "      <td>14</td>\n",
       "      <td>311.34</td>\n",
       "      <td>2016</td>\n",
       "      <td>3</td>\n",
       "      <td>2</td>\n",
       "      <td>2</td>\n",
       "      <td>2831.31</td>\n",
       "    </tr>\n",
       "    <tr>\n",
       "      <th>3741</th>\n",
       "      <td>FDS49</td>\n",
       "      <td>CHUKWUDI013</td>\n",
       "      <td>FDS49_CHUKWUDI013</td>\n",
       "      <td>9.000</td>\n",
       "      <td>3</td>\n",
       "      <td>0.079279</td>\n",
       "      <td>12</td>\n",
       "      <td>193.16</td>\n",
       "      <td>1994</td>\n",
       "      <td>1</td>\n",
       "      <td>2</td>\n",
       "      <td>3</td>\n",
       "      <td>3338.99</td>\n",
       "    </tr>\n",
       "  </tbody>\n",
       "</table>\n",
       "<p>3742 rows × 13 columns</p>\n",
       "</div>"
      ],
      "text/plain": [
       "     Product_Identifier Supermarket_Identifier Product_Supermarket_Identifier  \\\n",
       "0                 DRB24            CHUKWUDI017              DRB24_CHUKWUDI017   \n",
       "1                 FDR31            CHUKWUDI019              FDR31_CHUKWUDI019   \n",
       "2                 FDP16            CHUKWUDI017              FDP16_CHUKWUDI017   \n",
       "3                 FDY16            CHUKWUDI027              FDY16_CHUKWUDI027   \n",
       "4                 FDY48            CHUKWUDI046              FDY48_CHUKWUDI046   \n",
       "...                 ...                    ...                            ...   \n",
       "3737              FDK10            CHUKWUDI017              FDK10_CHUKWUDI017   \n",
       "3738              DRC27            CHUKWUDI045              DRC27_CHUKWUDI045   \n",
       "3739              FDW57            CHUKWUDI046              FDW57_CHUKWUDI046   \n",
       "3740              NCF30            CHUKWUDI018              NCF30_CHUKWUDI018   \n",
       "3741              FDS49            CHUKWUDI013              FDS49_CHUKWUDI013   \n",
       "\n",
       "      Product_Weight  Product_Fat_Content  Product_Shelf_Visibility  \\\n",
       "0              8.785                    3                  0.020694   \n",
       "1              6.460                    2                  0.086078   \n",
       "2             18.600                    3                  0.039517   \n",
       "3             18.350                    2                  0.091780   \n",
       "4             14.000                    3                  0.023735   \n",
       "...              ...                  ...                       ...   \n",
       "3737           5.785                    2                  0.040587   \n",
       "3738          13.800                    3                  0.058220   \n",
       "3739           8.310                    2                  0.000000   \n",
       "3740          17.000                    3                  0.126758   \n",
       "3741           9.000                    3                  0.079279   \n",
       "\n",
       "      Product_Type  Product_Price  Supermarket_Opening_Year  \\\n",
       "0                7         382.91                      2014   \n",
       "1               15         359.53                      1992   \n",
       "2               13         609.20                      2014   \n",
       "3               13         456.32                      1992   \n",
       "4               10         258.08                      2004   \n",
       "...            ...            ...                       ...   \n",
       "3737            16         450.92                      2014   \n",
       "3738            11         618.70                      2009   \n",
       "3739            16         443.51                      2004   \n",
       "3740            14         311.34                      2016   \n",
       "3741            12         193.16                      1994   \n",
       "\n",
       "      Supermarket _Size  Supermarket_Location_Type  Supermarket_Type  \\\n",
       "0                     3                          3                 3   \n",
       "1                     2                          1                 1   \n",
       "2                     3                          3                 3   \n",
       "3                     3                          2                 4   \n",
       "4                     2                          1                 3   \n",
       "...                 ...                        ...               ...   \n",
       "3737                  3                          3                 3   \n",
       "3738                  3                          3                 3   \n",
       "3739                  2                          1                 3   \n",
       "3740                  3                          2                 2   \n",
       "3741                  1                          2                 3   \n",
       "\n",
       "      Product_Supermarket_Sales  \n",
       "0                       4633.97  \n",
       "1                        729.05  \n",
       "2                      14740.81  \n",
       "3                      16137.33  \n",
       "4                       4613.99  \n",
       "...                         ...  \n",
       "3737                    3145.91  \n",
       "3738                    3685.20  \n",
       "3739                    9740.65  \n",
       "3740                    2831.31  \n",
       "3741                    3338.99  \n",
       "\n",
       "[3742 rows x 13 columns]"
      ]
     },
     "execution_count": 39,
     "metadata": {},
     "output_type": "execute_result"
    }
   ],
   "source": [
    "df"
   ]
  },
  {
   "cell_type": "code",
   "execution_count": 40,
   "metadata": {},
   "outputs": [
    {
     "data": {
      "text/html": [
       "<div>\n",
       "<style scoped>\n",
       "    .dataframe tbody tr th:only-of-type {\n",
       "        vertical-align: middle;\n",
       "    }\n",
       "\n",
       "    .dataframe tbody tr th {\n",
       "        vertical-align: top;\n",
       "    }\n",
       "\n",
       "    .dataframe thead th {\n",
       "        text-align: right;\n",
       "    }\n",
       "</style>\n",
       "<table border=\"1\" class=\"dataframe\">\n",
       "  <thead>\n",
       "    <tr style=\"text-align: right;\">\n",
       "      <th></th>\n",
       "      <th>Product_Identifier</th>\n",
       "      <th>Supermarket_Identifier</th>\n",
       "      <th>Product_Supermarket_Identifier</th>\n",
       "      <th>Product_Weight</th>\n",
       "      <th>Product_Fat_Content</th>\n",
       "      <th>Product_Shelf_Visibility</th>\n",
       "      <th>Product_Type</th>\n",
       "      <th>Product_Price</th>\n",
       "      <th>Supermarket_Opening_Year</th>\n",
       "      <th>Supermarket _Size</th>\n",
       "      <th>Supermarket_Location_Type</th>\n",
       "      <th>Supermarket_Type</th>\n",
       "    </tr>\n",
       "  </thead>\n",
       "  <tbody>\n",
       "    <tr>\n",
       "      <th>0</th>\n",
       "      <td>FDC15</td>\n",
       "      <td>CHUKWUDI049</td>\n",
       "      <td>FDC15_CHUKWUDI049</td>\n",
       "      <td>8.785</td>\n",
       "      <td>3</td>\n",
       "      <td>0.178246</td>\n",
       "      <td>11</td>\n",
       "      <td>395.32</td>\n",
       "      <td>2006</td>\n",
       "      <td>3</td>\n",
       "      <td>1</td>\n",
       "      <td>3</td>\n",
       "    </tr>\n",
       "    <tr>\n",
       "      <th>1</th>\n",
       "      <td>NCY06</td>\n",
       "      <td>CHUKWUDI018</td>\n",
       "      <td>NCY06_CHUKWUDI018</td>\n",
       "      <td>6.460</td>\n",
       "      <td>3</td>\n",
       "      <td>0.061434</td>\n",
       "      <td>14</td>\n",
       "      <td>327.49</td>\n",
       "      <td>2016</td>\n",
       "      <td>3</td>\n",
       "      <td>2</td>\n",
       "      <td>2</td>\n",
       "    </tr>\n",
       "    <tr>\n",
       "      <th>2</th>\n",
       "      <td>DRB24</td>\n",
       "      <td>CHUKWUDI035</td>\n",
       "      <td>DRB24_CHUKWUDI035</td>\n",
       "      <td>18.600</td>\n",
       "      <td>3</td>\n",
       "      <td>0.020573</td>\n",
       "      <td>7</td>\n",
       "      <td>391.16</td>\n",
       "      <td>2011</td>\n",
       "      <td>2</td>\n",
       "      <td>3</td>\n",
       "      <td>3</td>\n",
       "    </tr>\n",
       "    <tr>\n",
       "      <th>3</th>\n",
       "      <td>NCG54</td>\n",
       "      <td>CHUKWUDI018</td>\n",
       "      <td>NCG54_CHUKWUDI018</td>\n",
       "      <td>18.350</td>\n",
       "      <td>3</td>\n",
       "      <td>0.080131</td>\n",
       "      <td>14</td>\n",
       "      <td>427.28</td>\n",
       "      <td>2016</td>\n",
       "      <td>3</td>\n",
       "      <td>2</td>\n",
       "      <td>2</td>\n",
       "    </tr>\n",
       "    <tr>\n",
       "      <th>4</th>\n",
       "      <td>NCA42</td>\n",
       "      <td>CHUKWUDI017</td>\n",
       "      <td>NCA42_CHUKWUDI017</td>\n",
       "      <td>14.000</td>\n",
       "      <td>3</td>\n",
       "      <td>0.028710</td>\n",
       "      <td>14</td>\n",
       "      <td>395.40</td>\n",
       "      <td>2014</td>\n",
       "      <td>3</td>\n",
       "      <td>3</td>\n",
       "      <td>3</td>\n",
       "    </tr>\n",
       "    <tr>\n",
       "      <th>...</th>\n",
       "      <td>...</td>\n",
       "      <td>...</td>\n",
       "      <td>...</td>\n",
       "      <td>...</td>\n",
       "      <td>...</td>\n",
       "      <td>...</td>\n",
       "      <td>...</td>\n",
       "      <td>...</td>\n",
       "      <td>...</td>\n",
       "      <td>...</td>\n",
       "      <td>...</td>\n",
       "      <td>...</td>\n",
       "    </tr>\n",
       "    <tr>\n",
       "      <th>1243</th>\n",
       "      <td>FDW39</td>\n",
       "      <td>CHUKWUDI018</td>\n",
       "      <td>FDW39_CHUKWUDI018</td>\n",
       "      <td>8.760</td>\n",
       "      <td>2</td>\n",
       "      <td>0.037061</td>\n",
       "      <td>8</td>\n",
       "      <td>442.09</td>\n",
       "      <td>2016</td>\n",
       "      <td>3</td>\n",
       "      <td>2</td>\n",
       "      <td>2</td>\n",
       "    </tr>\n",
       "    <tr>\n",
       "      <th>1244</th>\n",
       "      <td>FDB40</td>\n",
       "      <td>CHUKWUDI018</td>\n",
       "      <td>FDB40_CHUKWUDI018</td>\n",
       "      <td>6.095</td>\n",
       "      <td>2</td>\n",
       "      <td>0.007571</td>\n",
       "      <td>11</td>\n",
       "      <td>361.53</td>\n",
       "      <td>2016</td>\n",
       "      <td>3</td>\n",
       "      <td>2</td>\n",
       "      <td>2</td>\n",
       "    </tr>\n",
       "    <tr>\n",
       "      <th>1245</th>\n",
       "      <td>FDX32</td>\n",
       "      <td>CHUKWUDI018</td>\n",
       "      <td>FDX32_CHUKWUDI018</td>\n",
       "      <td>10.800</td>\n",
       "      <td>2</td>\n",
       "      <td>0.100265</td>\n",
       "      <td>15</td>\n",
       "      <td>356.45</td>\n",
       "      <td>2016</td>\n",
       "      <td>3</td>\n",
       "      <td>2</td>\n",
       "      <td>2</td>\n",
       "    </tr>\n",
       "    <tr>\n",
       "      <th>1246</th>\n",
       "      <td>FDX37</td>\n",
       "      <td>CHUKWUDI049</td>\n",
       "      <td>FDX37_CHUKWUDI049</td>\n",
       "      <td>14.100</td>\n",
       "      <td>3</td>\n",
       "      <td>0.063127</td>\n",
       "      <td>12</td>\n",
       "      <td>251.18</td>\n",
       "      <td>2006</td>\n",
       "      <td>3</td>\n",
       "      <td>1</td>\n",
       "      <td>3</td>\n",
       "    </tr>\n",
       "    <tr>\n",
       "      <th>1247</th>\n",
       "      <td>FDZ35</td>\n",
       "      <td>CHUKWUDI049</td>\n",
       "      <td>FDZ35_CHUKWUDI049</td>\n",
       "      <td>20.250</td>\n",
       "      <td>2</td>\n",
       "      <td>0.000000</td>\n",
       "      <td>6</td>\n",
       "      <td>254.25</td>\n",
       "      <td>2006</td>\n",
       "      <td>3</td>\n",
       "      <td>1</td>\n",
       "      <td>3</td>\n",
       "    </tr>\n",
       "  </tbody>\n",
       "</table>\n",
       "<p>1248 rows × 12 columns</p>\n",
       "</div>"
      ],
      "text/plain": [
       "     Product_Identifier Supermarket_Identifier Product_Supermarket_Identifier  \\\n",
       "0                 FDC15            CHUKWUDI049              FDC15_CHUKWUDI049   \n",
       "1                 NCY06            CHUKWUDI018              NCY06_CHUKWUDI018   \n",
       "2                 DRB24            CHUKWUDI035              DRB24_CHUKWUDI035   \n",
       "3                 NCG54            CHUKWUDI018              NCG54_CHUKWUDI018   \n",
       "4                 NCA42            CHUKWUDI017              NCA42_CHUKWUDI017   \n",
       "...                 ...                    ...                            ...   \n",
       "1243              FDW39            CHUKWUDI018              FDW39_CHUKWUDI018   \n",
       "1244              FDB40            CHUKWUDI018              FDB40_CHUKWUDI018   \n",
       "1245              FDX32            CHUKWUDI018              FDX32_CHUKWUDI018   \n",
       "1246              FDX37            CHUKWUDI049              FDX37_CHUKWUDI049   \n",
       "1247              FDZ35            CHUKWUDI049              FDZ35_CHUKWUDI049   \n",
       "\n",
       "      Product_Weight  Product_Fat_Content  Product_Shelf_Visibility  \\\n",
       "0              8.785                    3                  0.178246   \n",
       "1              6.460                    3                  0.061434   \n",
       "2             18.600                    3                  0.020573   \n",
       "3             18.350                    3                  0.080131   \n",
       "4             14.000                    3                  0.028710   \n",
       "...              ...                  ...                       ...   \n",
       "1243           8.760                    2                  0.037061   \n",
       "1244           6.095                    2                  0.007571   \n",
       "1245          10.800                    2                  0.100265   \n",
       "1246          14.100                    3                  0.063127   \n",
       "1247          20.250                    2                  0.000000   \n",
       "\n",
       "      Product_Type  Product_Price  Supermarket_Opening_Year  \\\n",
       "0               11         395.32                      2006   \n",
       "1               14         327.49                      2016   \n",
       "2                7         391.16                      2011   \n",
       "3               14         427.28                      2016   \n",
       "4               14         395.40                      2014   \n",
       "...            ...            ...                       ...   \n",
       "1243             8         442.09                      2016   \n",
       "1244            11         361.53                      2016   \n",
       "1245            15         356.45                      2016   \n",
       "1246            12         251.18                      2006   \n",
       "1247             6         254.25                      2006   \n",
       "\n",
       "      Supermarket _Size  Supermarket_Location_Type  Supermarket_Type  \n",
       "0                     3                          1                 3  \n",
       "1                     3                          2                 2  \n",
       "2                     2                          3                 3  \n",
       "3                     3                          2                 2  \n",
       "4                     3                          3                 3  \n",
       "...                 ...                        ...               ...  \n",
       "1243                  3                          2                 2  \n",
       "1244                  3                          2                 2  \n",
       "1245                  3                          2                 2  \n",
       "1246                  3                          1                 3  \n",
       "1247                  3                          1                 3  \n",
       "\n",
       "[1248 rows x 12 columns]"
      ]
     },
     "execution_count": 40,
     "metadata": {},
     "output_type": "execute_result"
    }
   ],
   "source": [
    "df2['Product_Type'] = df2['Product_Type'].map(ptype_encode)\n",
    "df2"
   ]
  },
  {
   "cell_type": "code",
   "execution_count": 41,
   "metadata": {},
   "outputs": [
    {
     "data": {
      "text/html": [
       "<div>\n",
       "<style scoped>\n",
       "    .dataframe tbody tr th:only-of-type {\n",
       "        vertical-align: middle;\n",
       "    }\n",
       "\n",
       "    .dataframe tbody tr th {\n",
       "        vertical-align: top;\n",
       "    }\n",
       "\n",
       "    .dataframe thead th {\n",
       "        text-align: right;\n",
       "    }\n",
       "</style>\n",
       "<table border=\"1\" class=\"dataframe\">\n",
       "  <thead>\n",
       "    <tr style=\"text-align: right;\">\n",
       "      <th></th>\n",
       "      <th>Supermarket_Opening_Year</th>\n",
       "      <th>Supermarket_Identifier</th>\n",
       "      <th>Product_Supermarket_Sales</th>\n",
       "    </tr>\n",
       "  </thead>\n",
       "  <tbody>\n",
       "    <tr>\n",
       "      <th>1</th>\n",
       "      <td>1992</td>\n",
       "      <td>CHUKWUDI027</td>\n",
       "      <td>12541.373382</td>\n",
       "    </tr>\n",
       "    <tr>\n",
       "      <th>7</th>\n",
       "      <td>2011</td>\n",
       "      <td>CHUKWUDI035</td>\n",
       "      <td>7907.270484</td>\n",
       "    </tr>\n",
       "    <tr>\n",
       "      <th>8</th>\n",
       "      <td>2014</td>\n",
       "      <td>CHUKWUDI017</td>\n",
       "      <td>7468.619197</td>\n",
       "    </tr>\n",
       "    <tr>\n",
       "      <th>6</th>\n",
       "      <td>2009</td>\n",
       "      <td>CHUKWUDI045</td>\n",
       "      <td>7398.398568</td>\n",
       "    </tr>\n",
       "    <tr>\n",
       "      <th>5</th>\n",
       "      <td>2006</td>\n",
       "      <td>CHUKWUDI049</td>\n",
       "      <td>6352.267561</td>\n",
       "    </tr>\n",
       "    <tr>\n",
       "      <th>3</th>\n",
       "      <td>2004</td>\n",
       "      <td>CHUKWUDI046</td>\n",
       "      <td>5753.361804</td>\n",
       "    </tr>\n",
       "    <tr>\n",
       "      <th>9</th>\n",
       "      <td>2016</td>\n",
       "      <td>CHUKWUDI018</td>\n",
       "      <td>5588.015335</td>\n",
       "    </tr>\n",
       "    <tr>\n",
       "      <th>2</th>\n",
       "      <td>1994</td>\n",
       "      <td>CHUKWUDI013</td>\n",
       "      <td>3998.670359</td>\n",
       "    </tr>\n",
       "    <tr>\n",
       "      <th>0</th>\n",
       "      <td>1992</td>\n",
       "      <td>CHUKWUDI019</td>\n",
       "      <td>1064.223020</td>\n",
       "    </tr>\n",
       "    <tr>\n",
       "      <th>4</th>\n",
       "      <td>2005</td>\n",
       "      <td>CHUKWUDI010</td>\n",
       "      <td>606.450625</td>\n",
       "    </tr>\n",
       "  </tbody>\n",
       "</table>\n",
       "</div>"
      ],
      "text/plain": [
       "   Supermarket_Opening_Year Supermarket_Identifier  Product_Supermarket_Sales\n",
       "1                      1992            CHUKWUDI027               12541.373382\n",
       "7                      2011            CHUKWUDI035                7907.270484\n",
       "8                      2014            CHUKWUDI017                7468.619197\n",
       "6                      2009            CHUKWUDI045                7398.398568\n",
       "5                      2006            CHUKWUDI049                6352.267561\n",
       "3                      2004            CHUKWUDI046                5753.361804\n",
       "9                      2016            CHUKWUDI018                5588.015335\n",
       "2                      1994            CHUKWUDI013                3998.670359\n",
       "0                      1992            CHUKWUDI019                1064.223020\n",
       "4                      2005            CHUKWUDI010                 606.450625"
      ]
     },
     "execution_count": 41,
     "metadata": {},
     "output_type": "execute_result"
    }
   ],
   "source": [
    "grouped_7=df[['Supermarket_Opening_Year','Supermarket_Identifier','Product_Supermarket_Sales']]\n",
    "grpd_7=grouped_7.groupby(['Supermarket_Opening_Year','Supermarket_Identifier'],as_index=False).mean()\n",
    "grpd_7.sort_values(['Product_Supermarket_Sales'], ascending=False)"
   ]
  },
  {
   "cell_type": "code",
   "execution_count": 42,
   "metadata": {},
   "outputs": [
    {
     "data": {
      "text/plain": [
       "(0, 13142.663740008982)"
      ]
     },
     "execution_count": 42,
     "metadata": {},
     "output_type": "execute_result"
    },
    {
     "data": {
      "image/png": "[encoded data removed]",
      "text/plain": [
       "<Figure size 432x288 with 1 Axes>"
      ]
     },
     "metadata": {
      "needs_background": "light"
     },
     "output_type": "display_data"
    }
   ],
   "source": [
    "# Engine size as potential predictor variable of price\n",
    "sns.regplot(x=\"Supermarket_Opening_Year\", y=\"Product_Supermarket_Sales\", data=grpd_7)\n",
    "plt.ylim(0,)"
   ]
  },
  {
   "cell_type": "code",
   "execution_count": 43,
   "metadata": {},
   "outputs": [
    {
     "data": {
      "text/html": [
       "<div>\n",
       "<style scoped>\n",
       "    .dataframe tbody tr th:only-of-type {\n",
       "        vertical-align: middle;\n",
       "    }\n",
       "\n",
       "    .dataframe tbody tr th {\n",
       "        vertical-align: top;\n",
       "    }\n",
       "\n",
       "    .dataframe thead th {\n",
       "        text-align: right;\n",
       "    }\n",
       "</style>\n",
       "<table border=\"1\" class=\"dataframe\">\n",
       "  <thead>\n",
       "    <tr style=\"text-align: right;\">\n",
       "      <th></th>\n",
       "      <th>Supermarket_Opening_Year</th>\n",
       "      <th>Product_Supermarket_Sales</th>\n",
       "    </tr>\n",
       "  </thead>\n",
       "  <tbody>\n",
       "    <tr>\n",
       "      <th>Supermarket_Opening_Year</th>\n",
       "      <td>1.000000</td>\n",
       "      <td>0.095753</td>\n",
       "    </tr>\n",
       "    <tr>\n",
       "      <th>Product_Supermarket_Sales</th>\n",
       "      <td>0.095753</td>\n",
       "      <td>1.000000</td>\n",
       "    </tr>\n",
       "  </tbody>\n",
       "</table>\n",
       "</div>"
      ],
      "text/plain": [
       "                           Supermarket_Opening_Year  Product_Supermarket_Sales\n",
       "Supermarket_Opening_Year                   1.000000                   0.095753\n",
       "Product_Supermarket_Sales                  0.095753                   1.000000"
      ]
     },
     "execution_count": 43,
     "metadata": {},
     "output_type": "execute_result"
    }
   ],
   "source": [
    "grpd_7.corr()"
   ]
  },
  {
   "cell_type": "code",
   "execution_count": 44,
   "metadata": {},
   "outputs": [
    {
     "data": {
      "text/html": [
       "<div>\n",
       "<style scoped>\n",
       "    .dataframe tbody tr th:only-of-type {\n",
       "        vertical-align: middle;\n",
       "    }\n",
       "\n",
       "    .dataframe tbody tr th {\n",
       "        vertical-align: top;\n",
       "    }\n",
       "\n",
       "    .dataframe thead th {\n",
       "        text-align: right;\n",
       "    }\n",
       "</style>\n",
       "<table border=\"1\" class=\"dataframe\">\n",
       "  <thead>\n",
       "    <tr style=\"text-align: right;\">\n",
       "      <th></th>\n",
       "      <th>Product_Weight</th>\n",
       "      <th>Product_Fat_Content</th>\n",
       "      <th>Product_Shelf_Visibility</th>\n",
       "      <th>Product_Type</th>\n",
       "      <th>Product_Price</th>\n",
       "      <th>Supermarket_Opening_Year</th>\n",
       "      <th>Supermarket _Size</th>\n",
       "      <th>Supermarket_Location_Type</th>\n",
       "      <th>Supermarket_Type</th>\n",
       "      <th>Product_Supermarket_Sales</th>\n",
       "    </tr>\n",
       "  </thead>\n",
       "  <tbody>\n",
       "    <tr>\n",
       "      <th>Product_Weight</th>\n",
       "      <td>1.000000</td>\n",
       "      <td>0.027850</td>\n",
       "      <td>-0.015260</td>\n",
       "      <td>0.063841</td>\n",
       "      <td>0.037564</td>\n",
       "      <td>0.000649</td>\n",
       "      <td>0.000428</td>\n",
       "      <td>-0.005736</td>\n",
       "      <td>-0.002608</td>\n",
       "      <td>0.015314</td>\n",
       "    </tr>\n",
       "    <tr>\n",
       "      <th>Product_Fat_Content</th>\n",
       "      <td>0.027850</td>\n",
       "      <td>1.000000</td>\n",
       "      <td>-0.055591</td>\n",
       "      <td>-0.026270</td>\n",
       "      <td>-0.000825</td>\n",
       "      <td>-0.005549</td>\n",
       "      <td>0.004177</td>\n",
       "      <td>-0.000871</td>\n",
       "      <td>0.022995</td>\n",
       "      <td>-0.005365</td>\n",
       "    </tr>\n",
       "    <tr>\n",
       "      <th>Product_Shelf_Visibility</th>\n",
       "      <td>-0.015260</td>\n",
       "      <td>-0.055591</td>\n",
       "      <td>1.000000</td>\n",
       "      <td>-0.004341</td>\n",
       "      <td>-0.028941</td>\n",
       "      <td>-0.084218</td>\n",
       "      <td>0.014576</td>\n",
       "      <td>-0.086771</td>\n",
       "      <td>-0.272450</td>\n",
       "      <td>-0.161008</td>\n",
       "    </tr>\n",
       "    <tr>\n",
       "      <th>Product_Type</th>\n",
       "      <td>0.063841</td>\n",
       "      <td>-0.026270</td>\n",
       "      <td>-0.004341</td>\n",
       "      <td>1.000000</td>\n",
       "      <td>0.021038</td>\n",
       "      <td>0.009036</td>\n",
       "      <td>0.005978</td>\n",
       "      <td>0.011903</td>\n",
       "      <td>0.017004</td>\n",
       "      <td>0.028915</td>\n",
       "    </tr>\n",
       "    <tr>\n",
       "      <th>Product_Price</th>\n",
       "      <td>0.037564</td>\n",
       "      <td>-0.000825</td>\n",
       "      <td>-0.028941</td>\n",
       "      <td>0.021038</td>\n",
       "      <td>1.000000</td>\n",
       "      <td>0.161113</td>\n",
       "      <td>0.313759</td>\n",
       "      <td>0.255820</td>\n",
       "      <td>0.207156</td>\n",
       "      <td>0.524002</td>\n",
       "    </tr>\n",
       "    <tr>\n",
       "      <th>Supermarket_Opening_Year</th>\n",
       "      <td>0.000649</td>\n",
       "      <td>-0.005549</td>\n",
       "      <td>-0.084218</td>\n",
       "      <td>0.009036</td>\n",
       "      <td>0.161113</td>\n",
       "      <td>1.000000</td>\n",
       "      <td>0.501893</td>\n",
       "      <td>0.459908</td>\n",
       "      <td>-0.080103</td>\n",
       "      <td>0.057508</td>\n",
       "    </tr>\n",
       "    <tr>\n",
       "      <th>Supermarket _Size</th>\n",
       "      <td>0.000428</td>\n",
       "      <td>0.004177</td>\n",
       "      <td>0.014576</td>\n",
       "      <td>0.005978</td>\n",
       "      <td>0.313759</td>\n",
       "      <td>0.501893</td>\n",
       "      <td>1.000000</td>\n",
       "      <td>0.161019</td>\n",
       "      <td>-0.022944</td>\n",
       "      <td>0.225555</td>\n",
       "    </tr>\n",
       "    <tr>\n",
       "      <th>Supermarket_Location_Type</th>\n",
       "      <td>-0.005736</td>\n",
       "      <td>-0.000871</td>\n",
       "      <td>-0.086771</td>\n",
       "      <td>0.011903</td>\n",
       "      <td>0.255820</td>\n",
       "      <td>0.459908</td>\n",
       "      <td>0.161019</td>\n",
       "      <td>1.000000</td>\n",
       "      <td>0.224456</td>\n",
       "      <td>0.236921</td>\n",
       "    </tr>\n",
       "    <tr>\n",
       "      <th>Supermarket_Type</th>\n",
       "      <td>-0.002608</td>\n",
       "      <td>0.022995</td>\n",
       "      <td>-0.272450</td>\n",
       "      <td>0.017004</td>\n",
       "      <td>0.207156</td>\n",
       "      <td>-0.080103</td>\n",
       "      <td>-0.022944</td>\n",
       "      <td>0.224456</td>\n",
       "      <td>1.000000</td>\n",
       "      <td>0.591609</td>\n",
       "    </tr>\n",
       "    <tr>\n",
       "      <th>Product_Supermarket_Sales</th>\n",
       "      <td>0.015314</td>\n",
       "      <td>-0.005365</td>\n",
       "      <td>-0.161008</td>\n",
       "      <td>0.028915</td>\n",
       "      <td>0.524002</td>\n",
       "      <td>0.057508</td>\n",
       "      <td>0.225555</td>\n",
       "      <td>0.236921</td>\n",
       "      <td>0.591609</td>\n",
       "      <td>1.000000</td>\n",
       "    </tr>\n",
       "  </tbody>\n",
       "</table>\n",
       "</div>"
      ],
      "text/plain": [
       "                           Product_Weight  Product_Fat_Content  \\\n",
       "Product_Weight                   1.000000             0.027850   \n",
       "Product_Fat_Content              0.027850             1.000000   \n",
       "Product_Shelf_Visibility        -0.015260            -0.055591   \n",
       "Product_Type                     0.063841            -0.026270   \n",
       "Product_Price                    0.037564            -0.000825   \n",
       "Supermarket_Opening_Year         0.000649            -0.005549   \n",
       "Supermarket _Size                0.000428             0.004177   \n",
       "Supermarket_Location_Type       -0.005736            -0.000871   \n",
       "Supermarket_Type                -0.002608             0.022995   \n",
       "Product_Supermarket_Sales        0.015314            -0.005365   \n",
       "\n",
       "                           Product_Shelf_Visibility  Product_Type  \\\n",
       "Product_Weight                            -0.015260      0.063841   \n",
       "Product_Fat_Content                       -0.055591     -0.026270   \n",
       "Product_Shelf_Visibility                   1.000000     -0.004341   \n",
       "Product_Type                              -0.004341      1.000000   \n",
       "Product_Price                             -0.028941      0.021038   \n",
       "Supermarket_Opening_Year                  -0.084218      0.009036   \n",
       "Supermarket _Size                          0.014576      0.005978   \n",
       "Supermarket_Location_Type                 -0.086771      0.011903   \n",
       "Supermarket_Type                          -0.272450      0.017004   \n",
       "Product_Supermarket_Sales                 -0.161008      0.028915   \n",
       "\n",
       "                           Product_Price  Supermarket_Opening_Year  \\\n",
       "Product_Weight                  0.037564                  0.000649   \n",
       "Product_Fat_Content            -0.000825                 -0.005549   \n",
       "Product_Shelf_Visibility       -0.028941                 -0.084218   \n",
       "Product_Type                    0.021038                  0.009036   \n",
       "Product_Price                   1.000000                  0.161113   \n",
       "Supermarket_Opening_Year        0.161113                  1.000000   \n",
       "Supermarket _Size               0.313759                  0.501893   \n",
       "Supermarket_Location_Type       0.255820                  0.459908   \n",
       "Supermarket_Type                0.207156                 -0.080103   \n",
       "Product_Supermarket_Sales       0.524002                  0.057508   \n",
       "\n",
       "                           Supermarket _Size  Supermarket_Location_Type  \\\n",
       "Product_Weight                      0.000428                  -0.005736   \n",
       "Product_Fat_Content                 0.004177                  -0.000871   \n",
       "Product_Shelf_Visibility            0.014576                  -0.086771   \n",
       "Product_Type                        0.005978                   0.011903   \n",
       "Product_Price                       0.313759                   0.255820   \n",
       "Supermarket_Opening_Year            0.501893                   0.459908   \n",
       "Supermarket _Size                   1.000000                   0.161019   \n",
       "Supermarket_Location_Type           0.161019                   1.000000   \n",
       "Supermarket_Type                   -0.022944                   0.224456   \n",
       "Product_Supermarket_Sales           0.225555                   0.236921   \n",
       "\n",
       "                           Supermarket_Type  Product_Supermarket_Sales  \n",
       "Product_Weight                    -0.002608                   0.015314  \n",
       "Product_Fat_Content                0.022995                  -0.005365  \n",
       "Product_Shelf_Visibility          -0.272450                  -0.161008  \n",
       "Product_Type                       0.017004                   0.028915  \n",
       "Product_Price                      0.207156                   0.524002  \n",
       "Supermarket_Opening_Year          -0.080103                   0.057508  \n",
       "Supermarket _Size                 -0.022944                   0.225555  \n",
       "Supermarket_Location_Type          0.224456                   0.236921  \n",
       "Supermarket_Type                   1.000000                   0.591609  \n",
       "Product_Supermarket_Sales          0.591609                   1.000000  "
      ]
     },
     "execution_count": 44,
     "metadata": {},
     "output_type": "execute_result"
    }
   ],
   "source": [
    "df.corr()"
   ]
  },
  {
   "cell_type": "markdown",
   "metadata": {},
   "source": [
    "NOT DONE WITH FEATURE ENGINEERING"
   ]
  },
  {
   "cell_type": "code",
   "execution_count": 45,
   "metadata": {},
   "outputs": [
    {
     "data": {
      "text/plain": [
       "Index(['Product_Identifier', 'Supermarket_Identifier',\n",
       "       'Product_Supermarket_Identifier', 'Product_Weight',\n",
       "       'Product_Fat_Content', 'Product_Shelf_Visibility', 'Product_Type',\n",
       "       'Product_Price', 'Supermarket_Opening_Year', 'Supermarket _Size',\n",
       "       'Supermarket_Location_Type', 'Supermarket_Type',\n",
       "       'Product_Supermarket_Sales'],\n",
       "      dtype='object')"
      ]
     },
     "execution_count": 45,
     "metadata": {},
     "output_type": "execute_result"
    }
   ],
   "source": [
    "df.columns"
   ]
  },
  {
   "cell_type": "code",
   "execution_count": 46,
   "metadata": {},
   "outputs": [],
   "source": [
    "# df.head()"
   ]
  },
  {
   "cell_type": "code",
   "execution_count": 47,
   "metadata": {},
   "outputs": [],
   "source": [
    "# df2.head()"
   ]
  },
  {
   "cell_type": "markdown",
   "metadata": {},
   "source": [
    "# Normalization"
   ]
  },
  {
   "cell_type": "code",
   "execution_count": 48,
   "metadata": {},
   "outputs": [],
   "source": [
    "# No need for normalizing for this the Tree based algos though\n",
    "\n",
    "# df['Product_Price']=df['Product_Price']/df['Product_Price'].max()\n",
    "# df2['Product_Price']=df2['Product_Price']/df2['Product_Price'].max()\n",
    "\n",
    "# df['Product_Weight']=df['Product_Weight']/df['Product_Weight'].max()\n",
    "# df2['Product_Weight']=df2['Product_Weight']/df2['Product_Weight'].max()\n",
    "# df.head()"
   ]
  },
  {
   "cell_type": "markdown",
   "metadata": {},
   "source": [
    "# Assigning Dependent and Independent Variables"
   ]
  },
  {
   "cell_type": "code",
   "execution_count": 49,
   "metadata": {},
   "outputs": [],
   "source": [
    "# X=df.drop(['Product_Identifier','Supermarket_Identifier','Product_Supermarket_Identifier','Product_Type','Product_Weight',\n",
    "#            'Supermarket_Opening_Year','Product_Fat_Content','Product_Supermarket_Sales'], axis=1)"
   ]
  },
  {
   "cell_type": "code",
   "execution_count": 50,
   "metadata": {},
   "outputs": [],
   "source": [
    "X=df.drop(['Product_Identifier','Product_Supermarket_Identifier','Product_Weight','Product_Supermarket_Sales'], axis=1)"
   ]
  },
  {
   "cell_type": "code",
   "execution_count": 51,
   "metadata": {},
   "outputs": [
    {
     "data": {
      "text/html": [
       "<div>\n",
       "<style scoped>\n",
       "    .dataframe tbody tr th:only-of-type {\n",
       "        vertical-align: middle;\n",
       "    }\n",
       "\n",
       "    .dataframe tbody tr th {\n",
       "        vertical-align: top;\n",
       "    }\n",
       "\n",
       "    .dataframe thead th {\n",
       "        text-align: right;\n",
       "    }\n",
       "</style>\n",
       "<table border=\"1\" class=\"dataframe\">\n",
       "  <thead>\n",
       "    <tr style=\"text-align: right;\">\n",
       "      <th></th>\n",
       "      <th>Supermarket_Identifier</th>\n",
       "      <th>Product_Fat_Content</th>\n",
       "      <th>Product_Shelf_Visibility</th>\n",
       "      <th>Product_Type</th>\n",
       "      <th>Product_Price</th>\n",
       "      <th>Supermarket_Opening_Year</th>\n",
       "      <th>Supermarket _Size</th>\n",
       "      <th>Supermarket_Location_Type</th>\n",
       "      <th>Supermarket_Type</th>\n",
       "    </tr>\n",
       "  </thead>\n",
       "  <tbody>\n",
       "    <tr>\n",
       "      <th>0</th>\n",
       "      <td>CHUKWUDI017</td>\n",
       "      <td>3</td>\n",
       "      <td>0.020694</td>\n",
       "      <td>7</td>\n",
       "      <td>382.91</td>\n",
       "      <td>2014</td>\n",
       "      <td>3</td>\n",
       "      <td>3</td>\n",
       "      <td>3</td>\n",
       "    </tr>\n",
       "    <tr>\n",
       "      <th>1</th>\n",
       "      <td>CHUKWUDI019</td>\n",
       "      <td>2</td>\n",
       "      <td>0.086078</td>\n",
       "      <td>15</td>\n",
       "      <td>359.53</td>\n",
       "      <td>1992</td>\n",
       "      <td>2</td>\n",
       "      <td>1</td>\n",
       "      <td>1</td>\n",
       "    </tr>\n",
       "    <tr>\n",
       "      <th>2</th>\n",
       "      <td>CHUKWUDI017</td>\n",
       "      <td>3</td>\n",
       "      <td>0.039517</td>\n",
       "      <td>13</td>\n",
       "      <td>609.20</td>\n",
       "      <td>2014</td>\n",
       "      <td>3</td>\n",
       "      <td>3</td>\n",
       "      <td>3</td>\n",
       "    </tr>\n",
       "    <tr>\n",
       "      <th>3</th>\n",
       "      <td>CHUKWUDI027</td>\n",
       "      <td>2</td>\n",
       "      <td>0.091780</td>\n",
       "      <td>13</td>\n",
       "      <td>456.32</td>\n",
       "      <td>1992</td>\n",
       "      <td>3</td>\n",
       "      <td>2</td>\n",
       "      <td>4</td>\n",
       "    </tr>\n",
       "    <tr>\n",
       "      <th>4</th>\n",
       "      <td>CHUKWUDI046</td>\n",
       "      <td>3</td>\n",
       "      <td>0.023735</td>\n",
       "      <td>10</td>\n",
       "      <td>258.08</td>\n",
       "      <td>2004</td>\n",
       "      <td>2</td>\n",
       "      <td>1</td>\n",
       "      <td>3</td>\n",
       "    </tr>\n",
       "  </tbody>\n",
       "</table>\n",
       "</div>"
      ],
      "text/plain": [
       "  Supermarket_Identifier  Product_Fat_Content  Product_Shelf_Visibility  \\\n",
       "0            CHUKWUDI017                    3                  0.020694   \n",
       "1            CHUKWUDI019                    2                  0.086078   \n",
       "2            CHUKWUDI017                    3                  0.039517   \n",
       "3            CHUKWUDI027                    2                  0.091780   \n",
       "4            CHUKWUDI046                    3                  0.023735   \n",
       "\n",
       "   Product_Type  Product_Price  Supermarket_Opening_Year  Supermarket _Size  \\\n",
       "0             7         382.91                      2014                  3   \n",
       "1            15         359.53                      1992                  2   \n",
       "2            13         609.20                      2014                  3   \n",
       "3            13         456.32                      1992                  3   \n",
       "4            10         258.08                      2004                  2   \n",
       "\n",
       "   Supermarket_Location_Type  Supermarket_Type  \n",
       "0                          3                 3  \n",
       "1                          1                 1  \n",
       "2                          3                 3  \n",
       "3                          2                 4  \n",
       "4                          1                 3  "
      ]
     },
     "execution_count": 51,
     "metadata": {},
     "output_type": "execute_result"
    }
   ],
   "source": [
    "X.head()"
   ]
  },
  {
   "cell_type": "code",
   "execution_count": 52,
   "metadata": {},
   "outputs": [
    {
     "data": {
      "text/plain": [
       "0     4633.97\n",
       "1      729.05\n",
       "2    14740.81\n",
       "3    16137.33\n",
       "4     4613.99\n",
       "Name: Product_Supermarket_Sales, dtype: float64"
      ]
     },
     "execution_count": 52,
     "metadata": {},
     "output_type": "execute_result"
    }
   ],
   "source": [
    "y=df.Product_Supermarket_Sales\n",
    "y.head()"
   ]
  },
  {
   "cell_type": "code",
   "execution_count": 149,
   "metadata": {},
   "outputs": [],
   "source": [
    "from sklearn.model_selection import train_test_split\n",
    "X_train, X_test, y_train, y_test = train_test_split(X, y, test_size=0.2, random_state=1)"
   ]
  },
  {
   "cell_type": "markdown",
   "metadata": {},
   "source": [
    "# GradientBoostingRegression Algo"
   ]
  },
  {
   "cell_type": "code",
   "execution_count": 150,
   "metadata": {},
   "outputs": [],
   "source": [
    "from sklearn.ensemble import GradientBoostingRegressor\n",
    "from sklearn.metrics import mean_squared_error"
   ]
  },
  {
   "cell_type": "code",
   "execution_count": 151,
   "metadata": {},
   "outputs": [],
   "source": [
    "params = {'n_estimators': 500,\n",
    "          'max_depth': 4,\n",
    "          'min_samples_split': 5,\n",
    "          'learning_rate': 0.01,\n",
    "          'loss': 'ls'}"
   ]
  },
  {
   "cell_type": "code",
   "execution_count": 152,
   "metadata": {},
   "outputs": [
    {
     "data": {
      "text/plain": [
       "GradientBoostingRegressor(alpha=0.9, ccp_alpha=0.0, criterion='friedman_mse',\n",
       "                          init=None, learning_rate=0.1, loss='ls', max_depth=3,\n",
       "                          max_features=None, max_leaf_nodes=None,\n",
       "                          min_impurity_decrease=0.0, min_impurity_split=None,\n",
       "                          min_samples_leaf=1, min_samples_split=2,\n",
       "                          min_weight_fraction_leaf=0.0, n_estimators=100,\n",
       "                          n_iter_no_change=None, presort='deprecated',\n",
       "                          random_state=None, subsample=1.0, tol=0.0001,\n",
       "                          validation_fraction=0.1, verbose=0, warm_start=False)"
      ]
     },
     "execution_count": 152,
     "metadata": {},
     "output_type": "execute_result"
    }
   ],
   "source": [
    "reg = GradientBoostingRegressor()#**params)\n",
    "reg.fit(X_train, y_train)"
   ]
  },
  {
   "cell_type": "code",
   "execution_count": 153,
   "metadata": {},
   "outputs": [
    {
     "name": "stdout",
     "output_type": "stream",
     "text": [
      "The mean squared error (MSE) on test set: 6978052.7162\n",
      "0.6399340589860796\n"
     ]
    }
   ],
   "source": [
    "mse = mean_squared_error(y_train, reg.predict(X_train))\n",
    "print(\"The mean squared error (MSE) on test set: {:.4f}\".format(mse))\n",
    "print(reg.score(X_train,y_train))"
   ]
  },
  {
   "cell_type": "code",
   "execution_count": 154,
   "metadata": {},
   "outputs": [
    {
     "name": "stdout",
     "output_type": "stream",
     "text": [
      "The mean squared error (MSE) on test set: 9343816.5547\n",
      "0.5669768463312622\n"
     ]
    }
   ],
   "source": [
    "mse = mean_squared_error(y_test, reg.predict(X_test))\n",
    "print(\"The mean squared error (MSE) on test set: {:.4f}\".format(mse))\n",
    "print(reg.score(X_test,y_test))"
   ]
  },
  {
   "cell_type": "code",
   "execution_count": 224,
   "metadata": {},
   "outputs": [
    {
     "name": "stdout",
     "output_type": "stream",
     "text": [
      "Fitting 5 folds for each of 3 candidates, totalling 15 fits\n"
     ]
    },
    {
     "name": "stderr",
     "output_type": "stream",
     "text": [
      "[Parallel(n_jobs=-1)]: Using backend LokyBackend with 2 concurrent workers.\n",
      "[Parallel(n_jobs=-1)]: Done  15 out of  15 | elapsed:  2.3min finished\n"
     ]
    },
    {
     "data": {
      "text/plain": [
       "RandomizedSearchCV(cv=5, error_score=nan,\n",
       "                   estimator=GradientBoostingRegressor(alpha=0.9, ccp_alpha=0.0,\n",
       "                                                       criterion='friedman_mse',\n",
       "                                                       init=None,\n",
       "                                                       learning_rate=0.1,\n",
       "                                                       loss='ls', max_depth=3,\n",
       "                                                       max_features=None,\n",
       "                                                       max_leaf_nodes=None,\n",
       "                                                       min_impurity_decrease=0.0,\n",
       "                                                       min_impurity_split=None,\n",
       "                                                       min_samples_leaf=1,\n",
       "                                                       min_samples_split=2,\n",
       "                                                       min_weight_fraction_leaf=0.0,\n",
       "                                                       n_estimators=2000,\n",
       "                                                       n...\n",
       "                                                       random_state=None,\n",
       "                                                       subsample=1.0,\n",
       "                                                       tol=0.0001,\n",
       "                                                       validation_fraction=0.1,\n",
       "                                                       verbose=0,\n",
       "                                                       warm_start=False),\n",
       "                   iid='deprecated', n_iter=3, n_jobs=-1,\n",
       "                   param_distributions={'learning_rate': [0.1, 0.05, 0.02,\n",
       "                                                          0.01],\n",
       "                                        'max_depth': [4, 6],\n",
       "                                        'max_features': [1.0, 0.3, 0.1],\n",
       "                                        'min_samples_leaf': [3, 5, 9, 17]},\n",
       "                   pre_dispatch='2*n_jobs', random_state=100, refit=True,\n",
       "                   return_train_score=False, scoring=None, verbose=2)"
      ]
     },
     "execution_count": 224,
     "metadata": {},
     "output_type": "execute_result"
    }
   ],
   "source": [
    "import numpy as np\n",
    "from sklearn.model_selection import RandomizedSearchCV\n",
    "reg = GradientBoostingRegressor(n_estimators=2000)\n",
    "# n_estimators = [int(x) for x in np.linspace(start = 200, stop = 2000, num = 10)]\n",
    "max_features = [1.0, 0.3,0.1]\n",
    "max_depth = [4,6]\n",
    "learning_rate = [0.1,0.05,0.02,0.01]\n",
    "min_samples_leaf = [3,5,9,17]\n",
    "# Create the random grid\n",
    "random_grid = {'max_features': max_features,\n",
    "               'max_depth': max_depth,\n",
    "               'min_samples_leaf': min_samples_leaf,\n",
    "               'learning_rate':learning_rate\n",
    "              }\n",
    "\n",
    "reg_randomcv=RandomizedSearchCV(reg,param_distributions=random_grid,n_iter=3,cv=5,verbose=2,\n",
    "                               random_state=100,n_jobs=-1)\n",
    "### fit the randomized model\n",
    "reg_randomcv.fit(X,y)"
   ]
  },
  {
   "cell_type": "code",
   "execution_count": 225,
   "metadata": {},
   "outputs": [
    {
     "data": {
      "text/plain": [
       "{'min_samples_leaf': 5,\n",
       " 'max_features': 0.1,\n",
       " 'max_depth': 4,\n",
       " 'learning_rate': 0.01}"
      ]
     },
     "execution_count": 225,
     "metadata": {},
     "output_type": "execute_result"
    }
   ],
   "source": [
    "reg_randomcv.best_params_\n"
   ]
  },
  {
   "cell_type": "code",
   "execution_count": 226,
   "metadata": {},
   "outputs": [
    {
     "data": {
      "text/plain": [
       "0.5471858696755487"
      ]
     },
     "execution_count": 226,
     "metadata": {},
     "output_type": "execute_result"
    }
   ],
   "source": [
    "reg_randomcv.best_score_"
   ]
  },
  {
   "cell_type": "markdown",
   "metadata": {},
   "source": [
    "# predicting the test data"
   ]
  },
  {
   "cell_type": "code",
   "execution_count": 155,
   "metadata": {},
   "outputs": [],
   "source": [
    "# X2=df2.drop(['Product_Identifier','Supermarket_Identifier','Product_Supermarket_Identifier','Product_Fat_Content','Supermarket_Opening_Year'], axis=1)\n",
    "# X2=pd.get_dummies(X2)\n",
    "# X2.head()"
   ]
  },
  {
   "cell_type": "code",
   "execution_count": 156,
   "metadata": {},
   "outputs": [],
   "source": [
    "# test_pred = reg.predict(X2) #predict on the test set for submission\n",
    "# df3= {'Product_Supermarket_Identifier': df2['Product_Supermarket_Identifier'], 'Product_Supermarket_Sales': test_pred}\n",
    "# sub = pd.DataFrame(data=df3)\n",
    "# sub = sub[['Product_Supermarket_Identifier', 'Product_Supermarket_Sales']]"
   ]
  },
  {
   "cell_type": "code",
   "execution_count": 157,
   "metadata": {},
   "outputs": [],
   "source": [
    "# sub.shape"
   ]
  },
  {
   "cell_type": "code",
   "execution_count": 158,
   "metadata": {},
   "outputs": [],
   "source": [
    "# # sub.to_csv('submission.csv', index = False)"
   ]
  },
  {
   "cell_type": "code",
   "execution_count": 159,
   "metadata": {},
   "outputs": [],
   "source": [
    "# subxamp=pd.read_csv('sample_submission.csv')\n",
    "# subxamp.head()"
   ]
  },
  {
   "cell_type": "markdown",
   "metadata": {},
   "source": [
    "# XGBRFRegressor Algo"
   ]
  },
  {
   "cell_type": "code",
   "execution_count": 160,
   "metadata": {},
   "outputs": [],
   "source": [
    "from xgboost import XGBRFRegressor"
   ]
  },
  {
   "cell_type": "code",
   "execution_count": 161,
   "metadata": {},
   "outputs": [
    {
     "data": {
      "text/plain": [
       "XGBRFRegressor(base_score=0.5, booster='gbtree', colsample_bylevel=1,\n",
       "               colsample_bynode=0.8, colsample_bytree=1, gamma=0, gpu_id=-1,\n",
       "               importance_type='gain', interaction_constraints='',\n",
       "               learning_rate=1, max_delta_step=0, max_depth=6,\n",
       "               min_child_weight=1, missing=nan, monotone_constraints='()',\n",
       "               n_estimators=100, n_jobs=0, num_parallel_tree=100,\n",
       "               objective='reg:squarederror', random_state=0, reg_alpha=0,\n",
       "               reg_lambda=1e-05, scale_pos_weight=1, subsample=0.8,\n",
       "               tree_method='exact', validate_parameters=1, verbosity=None)"
      ]
     },
     "execution_count": 161,
     "metadata": {},
     "output_type": "execute_result"
    }
   ],
   "source": [
    "clf = XGBRFRegressor()#random_state = 1,reg_alpha=1,n_estimators=100 ,learning_rate=1)#**params)\n",
    "clf.fit(X_train, y_train)"
   ]
  },
  {
   "cell_type": "code",
   "execution_count": 162,
   "metadata": {},
   "outputs": [
    {
     "name": "stdout",
     "output_type": "stream",
     "text": [
      "The mean squared error (MSE) on test set: 7481524.2777\n",
      "0.6139550403501894\n"
     ]
    }
   ],
   "source": [
    "mse = mean_squared_error(y_train, clf.predict(X_train))\n",
    "print(\"The mean squared error (MSE) on test set: {:.4f}\".format(mse))\n",
    "print(clf.score(X_train,y_train))"
   ]
  },
  {
   "cell_type": "code",
   "execution_count": 215,
   "metadata": {},
   "outputs": [
    {
     "name": "stdout",
     "output_type": "stream",
     "text": [
      "The mean squared error (MSE) on test set: 9180936.6113\n",
      "0.5745252379717908\n"
     ]
    }
   ],
   "source": [
    "mse = mean_squared_error(y_test, clf.predict(X_test))\n",
    "print(\"The mean squared error (MSE) on test set: {:.4f}\".format(mse))\n",
    "print(clf.score(X_test,y_test))"
   ]
  },
  {
   "cell_type": "code",
   "execution_count": null,
   "metadata": {},
   "outputs": [],
   "source": []
  },
  {
   "cell_type": "markdown",
   "metadata": {},
   "source": [
    "# XGBRegressor Algo"
   ]
  },
  {
   "cell_type": "code",
   "execution_count": null,
   "metadata": {},
   "outputs": [],
   "source": [
    "from xgboost import XGBRegressor\n",
    "parame = {\"n_jobs\":-1,'n_estimators':127,'learning_rate':0.08,\n",
    "                    'max_depth':3,'subsample':0.9,'random_state':1,\n",
    "                    'colsample_bylevel':0.9,'min_child_weight':2,\n",
    "                    'reg_alpha':1\n",
    "        }\n",
    "\n",
    "clf1 = XGBRegressor()\n",
    "clf1.fit(X_train, y_train)"
   ]
  },
  {
   "cell_type": "code",
   "execution_count": 166,
   "metadata": {},
   "outputs": [
    {
     "data": {
      "text/plain": [
       "XGBRegressor(base_score=0.5, booster='gbtree', colsample_bylevel=1,\n",
       "             colsample_bynode=1, colsample_bytree=1, gamma=0, gpu_id=-1,\n",
       "             importance_type='gain', interaction_constraints='',\n",
       "             learning_rate=0.07, max_delta_step=0, max_depth=5,\n",
       "             min_child_weight=2, missing=nan, monotone_constraints='()',\n",
       "             n_estimators=62, n_jobs=0, num_parallel_tree=1,\n",
       "             objective='reg:squarederror', random_state=0, reg_alpha=1,\n",
       "             reg_lambda=1, scale_pos_weight=1, subsample=0.7,\n",
       "             tree_method='exact', validate_parameters=1, verbosity=None)"
      ]
     },
     "execution_count": 166,
     "metadata": {},
     "output_type": "execute_result"
    }
   ],
   "source": [
    "#very latest best\n",
    "clf1 = XGBRegressor(n_estimators=62,learning_rate=0.07,max_depth=5,\n",
    "                      subsample=0.7, min_child_weight=2,reg_alpha=1)\n",
    "clf1.fit(X_train, y_train)"
   ]
  },
  {
   "cell_type": "code",
   "execution_count": 167,
   "metadata": {},
   "outputs": [
    {
     "data": {
      "text/plain": [
       "XGBRegressor(base_score=0.5, booster='gbtree', colsample_bylevel=1,\n",
       "             colsample_bynode=1, colsample_bytree=1, gamma=0, gpu_id=-1,\n",
       "             importance_type='gain', interaction_constraints='',\n",
       "             learning_rate=0.07, max_delta_step=0, max_depth=5,\n",
       "             min_child_weight=2, missing=nan, monotone_constraints='()',\n",
       "             n_estimators=62, n_jobs=0, num_parallel_tree=1,\n",
       "             objective='reg:squarederror', random_state=0, reg_alpha=0.8,\n",
       "             reg_lambda=1, scale_pos_weight=1, subsample=0.7,\n",
       "             tree_method='exact', validate_parameters=1, verbosity=None)"
      ]
     },
     "execution_count": 167,
     "metadata": {},
     "output_type": "execute_result"
    }
   ],
   "source": [
    "clf1 = XGBRegressor(n_estimators=62,learning_rate=0.07,max_depth=5,\n",
    "                      subsample=0.7, min_child_weight=2,reg_alpha=0.8)\n",
    "clf1.fit(X_train, y_train)"
   ]
  },
  {
   "cell_type": "code",
   "execution_count": 168,
   "metadata": {},
   "outputs": [
    {
     "name": "stdout",
     "output_type": "stream",
     "text": [
      "The mean squared error (MSE) on train set: 6709120.3805\n",
      "0.6538109066513328\n"
     ]
    }
   ],
   "source": [
    "mse = mean_squared_error(y_train, clf1.predict(X_train))\n",
    "print(\"The mean squared error (MSE) on train set: {:.4f}\".format(mse))\n",
    "print(clf1.score(X_train,y_train))\n"
   ]
  },
  {
   "cell_type": "code",
   "execution_count": 169,
   "metadata": {},
   "outputs": [
    {
     "name": "stdout",
     "output_type": "stream",
     "text": [
      "The mean squared error (MSE) on test set: 9125586.7604\n",
      "0.5770903318864908\n"
     ]
    }
   ],
   "source": [
    "mse = mean_squared_error(y_test, clf1.predict(X_test))\n",
    "print(\"The mean squared error (MSE) on test set: {:.4f}\".format(mse))\n",
    "print(clf1.score(X_test,y_test))"
   ]
  },
  {
   "cell_type": "markdown",
   "metadata": {},
   "source": [
    "# catBOOST"
   ]
  },
  {
   "cell_type": "code",
   "execution_count": 171,
   "metadata": {},
   "outputs": [],
   "source": [
    "from catboost import CatBoostRegressor"
   ]
  },
  {
   "cell_type": "code",
   "execution_count": 211,
   "metadata": {},
   "outputs": [
    {
     "name": "stdout",
     "output_type": "stream",
     "text": [
      "0:\tlearn: 4358.4500132\ttotal: 5.56ms\tremaining: 1.5s\n",
      "1:\tlearn: 4317.3679198\ttotal: 8.86ms\tremaining: 1.19s\n",
      "2:\tlearn: 4275.5881942\ttotal: 13.5ms\tremaining: 1.2s\n",
      "3:\tlearn: 4237.7933039\ttotal: 16.7ms\tremaining: 1.11s\n",
      "4:\tlearn: 4199.2400446\ttotal: 20.2ms\tremaining: 1.07s\n",
      "5:\tlearn: 4160.3257766\ttotal: 24.4ms\tremaining: 1.07s\n",
      "6:\tlearn: 4121.7248814\ttotal: 29.7ms\tremaining: 1.11s\n",
      "7:\tlearn: 4085.4549320\ttotal: 34ms\tremaining: 1.11s\n",
      "8:\tlearn: 4051.1234706\ttotal: 38.2ms\tremaining: 1.11s\n",
      "9:\tlearn: 4016.1706145\ttotal: 43ms\tremaining: 1.12s\n",
      "10:\tlearn: 3982.5301573\ttotal: 47.3ms\tremaining: 1.11s\n",
      "11:\tlearn: 3948.8424290\ttotal: 51.6ms\tremaining: 1.11s\n",
      "12:\tlearn: 3917.8584623\ttotal: 71.1ms\tremaining: 1.41s\n",
      "13:\tlearn: 3886.1082792\ttotal: 80ms\tremaining: 1.46s\n",
      "14:\tlearn: 3856.7152953\ttotal: 96.7ms\tremaining: 1.64s\n",
      "15:\tlearn: 3827.2278033\ttotal: 103ms\tremaining: 1.63s\n",
      "16:\tlearn: 3800.2843129\ttotal: 107ms\tremaining: 1.59s\n",
      "17:\tlearn: 3773.0261154\ttotal: 111ms\tremaining: 1.55s\n",
      "18:\tlearn: 3745.2554486\ttotal: 116ms\tremaining: 1.53s\n",
      "19:\tlearn: 3718.4254699\ttotal: 120ms\tremaining: 1.5s\n",
      "20:\tlearn: 3693.6336229\ttotal: 125ms\tremaining: 1.48s\n",
      "21:\tlearn: 3668.6046235\ttotal: 129ms\tremaining: 1.46s\n",
      "22:\tlearn: 3647.1459944\ttotal: 136ms\tremaining: 1.46s\n",
      "23:\tlearn: 3623.3466426\ttotal: 142ms\tremaining: 1.46s\n",
      "24:\tlearn: 3600.6139160\ttotal: 152ms\tremaining: 1.49s\n",
      "25:\tlearn: 3579.9627874\ttotal: 167ms\tremaining: 1.56s\n",
      "26:\tlearn: 3558.7022767\ttotal: 170ms\tremaining: 1.53s\n",
      "27:\tlearn: 3537.5221719\ttotal: 177ms\tremaining: 1.53s\n",
      "28:\tlearn: 3519.9314397\ttotal: 184ms\tremaining: 1.53s\n",
      "29:\tlearn: 3501.1058933\ttotal: 193ms\tremaining: 1.54s\n",
      "30:\tlearn: 3481.5319085\ttotal: 201ms\tremaining: 1.55s\n",
      "31:\tlearn: 3464.1663274\ttotal: 206ms\tremaining: 1.53s\n",
      "32:\tlearn: 3445.9539126\ttotal: 210ms\tremaining: 1.51s\n",
      "33:\tlearn: 3428.9594034\ttotal: 214ms\tremaining: 1.49s\n",
      "34:\tlearn: 3412.3427198\ttotal: 219ms\tremaining: 1.47s\n",
      "35:\tlearn: 3396.9115336\ttotal: 225ms\tremaining: 1.46s\n",
      "36:\tlearn: 3382.4696714\ttotal: 230ms\tremaining: 1.45s\n",
      "37:\tlearn: 3366.1695959\ttotal: 238ms\tremaining: 1.45s\n",
      "38:\tlearn: 3351.7311513\ttotal: 246ms\tremaining: 1.46s\n",
      "39:\tlearn: 3336.7368587\ttotal: 253ms\tremaining: 1.45s\n",
      "40:\tlearn: 3322.4826278\ttotal: 257ms\tremaining: 1.44s\n",
      "41:\tlearn: 3309.4395038\ttotal: 263ms\tremaining: 1.43s\n",
      "42:\tlearn: 3295.2513335\ttotal: 267ms\tremaining: 1.41s\n",
      "43:\tlearn: 3282.0500960\ttotal: 271ms\tremaining: 1.39s\n",
      "44:\tlearn: 3270.3409050\ttotal: 276ms\tremaining: 1.38s\n",
      "45:\tlearn: 3257.5995361\ttotal: 280ms\tremaining: 1.36s\n",
      "46:\tlearn: 3246.7171851\ttotal: 283ms\tremaining: 1.34s\n",
      "47:\tlearn: 3235.0193386\ttotal: 287ms\tremaining: 1.33s\n",
      "48:\tlearn: 3223.8600163\ttotal: 291ms\tremaining: 1.31s\n",
      "49:\tlearn: 3213.5139751\ttotal: 295ms\tremaining: 1.3s\n",
      "50:\tlearn: 3201.9994037\ttotal: 299ms\tremaining: 1.28s\n",
      "51:\tlearn: 3192.3626622\ttotal: 303ms\tremaining: 1.27s\n",
      "52:\tlearn: 3181.6846476\ttotal: 308ms\tremaining: 1.26s\n",
      "53:\tlearn: 3172.6408697\ttotal: 312ms\tremaining: 1.25s\n",
      "54:\tlearn: 3163.1905275\ttotal: 316ms\tremaining: 1.24s\n",
      "55:\tlearn: 3154.9115542\ttotal: 319ms\tremaining: 1.22s\n",
      "56:\tlearn: 3147.0444002\ttotal: 324ms\tremaining: 1.21s\n",
      "57:\tlearn: 3139.0244936\ttotal: 328ms\tremaining: 1.2s\n",
      "58:\tlearn: 3131.0402148\ttotal: 332ms\tremaining: 1.19s\n",
      "59:\tlearn: 3123.1447337\ttotal: 339ms\tremaining: 1.19s\n",
      "60:\tlearn: 3115.2493789\ttotal: 345ms\tremaining: 1.18s\n",
      "61:\tlearn: 3108.2572301\ttotal: 350ms\tremaining: 1.18s\n",
      "62:\tlearn: 3100.6837272\ttotal: 357ms\tremaining: 1.17s\n",
      "63:\tlearn: 3095.4124435\ttotal: 366ms\tremaining: 1.18s\n",
      "64:\tlearn: 3087.6338279\ttotal: 373ms\tremaining: 1.18s\n",
      "65:\tlearn: 3080.5048638\ttotal: 379ms\tremaining: 1.17s\n",
      "66:\tlearn: 3073.7206139\ttotal: 383ms\tremaining: 1.16s\n",
      "67:\tlearn: 3066.3491698\ttotal: 388ms\tremaining: 1.15s\n",
      "68:\tlearn: 3059.7305839\ttotal: 393ms\tremaining: 1.14s\n",
      "69:\tlearn: 3053.6121386\ttotal: 397ms\tremaining: 1.14s\n",
      "70:\tlearn: 3048.1906535\ttotal: 404ms\tremaining: 1.13s\n",
      "71:\tlearn: 3042.4924098\ttotal: 412ms\tremaining: 1.13s\n",
      "72:\tlearn: 3036.9287487\ttotal: 421ms\tremaining: 1.14s\n",
      "73:\tlearn: 3031.8802999\ttotal: 428ms\tremaining: 1.13s\n",
      "74:\tlearn: 3027.0060938\ttotal: 436ms\tremaining: 1.13s\n",
      "75:\tlearn: 3021.8271861\ttotal: 441ms\tremaining: 1.13s\n",
      "76:\tlearn: 3016.7012718\ttotal: 450ms\tremaining: 1.13s\n",
      "77:\tlearn: 3012.2029292\ttotal: 456ms\tremaining: 1.12s\n",
      "78:\tlearn: 3007.7476345\ttotal: 460ms\tremaining: 1.11s\n",
      "79:\tlearn: 3002.7589257\ttotal: 466ms\tremaining: 1.1s\n",
      "80:\tlearn: 2998.2418038\ttotal: 470ms\tremaining: 1.1s\n",
      "81:\tlearn: 2994.0649083\ttotal: 476ms\tremaining: 1.09s\n",
      "82:\tlearn: 2989.8811480\ttotal: 484ms\tremaining: 1.09s\n",
      "83:\tlearn: 2985.9131184\ttotal: 488ms\tremaining: 1.08s\n",
      "84:\tlearn: 2982.0355703\ttotal: 492ms\tremaining: 1.07s\n",
      "85:\tlearn: 2978.0752868\ttotal: 500ms\tremaining: 1.07s\n",
      "86:\tlearn: 2974.4289534\ttotal: 505ms\tremaining: 1.06s\n",
      "87:\tlearn: 2970.6026733\ttotal: 510ms\tremaining: 1.05s\n",
      "88:\tlearn: 2967.0142106\ttotal: 514ms\tremaining: 1.04s\n",
      "89:\tlearn: 2963.7674482\ttotal: 522ms\tremaining: 1.04s\n",
      "90:\tlearn: 2960.2149530\ttotal: 526ms\tremaining: 1.03s\n",
      "91:\tlearn: 2956.9327253\ttotal: 531ms\tremaining: 1.03s\n",
      "92:\tlearn: 2953.9437771\ttotal: 536ms\tremaining: 1.02s\n",
      "93:\tlearn: 2951.1878858\ttotal: 541ms\tremaining: 1.01s\n",
      "94:\tlearn: 2948.2588458\ttotal: 545ms\tremaining: 1s\n",
      "95:\tlearn: 2945.4366864\ttotal: 551ms\tremaining: 999ms\n",
      "96:\tlearn: 2942.9364983\ttotal: 557ms\tremaining: 993ms\n",
      "97:\tlearn: 2940.4986381\ttotal: 560ms\tremaining: 983ms\n",
      "98:\tlearn: 2937.9407418\ttotal: 565ms\tremaining: 975ms\n",
      "99:\tlearn: 2935.5357133\ttotal: 568ms\tremaining: 966ms\n",
      "100:\tlearn: 2933.2241238\ttotal: 573ms\tremaining: 959ms\n",
      "101:\tlearn: 2931.2141144\ttotal: 580ms\tremaining: 956ms\n",
      "102:\tlearn: 2928.3717965\ttotal: 585ms\tremaining: 948ms\n",
      "103:\tlearn: 2925.9460813\ttotal: 592ms\tremaining: 945ms\n",
      "104:\tlearn: 2923.8545411\ttotal: 599ms\tremaining: 941ms\n",
      "105:\tlearn: 2921.6756594\ttotal: 604ms\tremaining: 934ms\n",
      "106:\tlearn: 2919.9591394\ttotal: 609ms\tremaining: 928ms\n",
      "107:\tlearn: 2918.0652430\ttotal: 617ms\tremaining: 925ms\n",
      "108:\tlearn: 2916.1601688\ttotal: 621ms\tremaining: 917ms\n",
      "109:\tlearn: 2914.3623293\ttotal: 628ms\tremaining: 913ms\n",
      "110:\tlearn: 2912.2940541\ttotal: 634ms\tremaining: 909ms\n",
      "111:\tlearn: 2911.2667061\ttotal: 637ms\tremaining: 899ms\n",
      "112:\tlearn: 2909.2789322\ttotal: 644ms\tremaining: 895ms\n",
      "113:\tlearn: 2907.3495343\ttotal: 652ms\tremaining: 892ms\n",
      "114:\tlearn: 2905.5492679\ttotal: 656ms\tremaining: 884ms\n",
      "115:\tlearn: 2904.7524012\ttotal: 659ms\tremaining: 874ms\n",
      "116:\tlearn: 2903.2413037\ttotal: 664ms\tremaining: 868ms\n",
      "117:\tlearn: 2901.8900165\ttotal: 668ms\tremaining: 861ms\n",
      "118:\tlearn: 2900.4404555\ttotal: 674ms\tremaining: 855ms\n",
      "119:\tlearn: 2899.0195196\ttotal: 680ms\tremaining: 851ms\n",
      "120:\tlearn: 2897.8505013\ttotal: 688ms\tremaining: 847ms\n",
      "121:\tlearn: 2896.3821671\ttotal: 692ms\tremaining: 840ms\n",
      "122:\tlearn: 2895.0267371\ttotal: 697ms\tremaining: 833ms\n",
      "123:\tlearn: 2893.9243027\ttotal: 702ms\tremaining: 827ms\n",
      "124:\tlearn: 2892.5566046\ttotal: 707ms\tremaining: 820ms\n",
      "125:\tlearn: 2891.3594679\ttotal: 711ms\tremaining: 812ms\n",
      "126:\tlearn: 2889.9596531\ttotal: 735ms\tremaining: 828ms\n",
      "127:\tlearn: 2888.8728913\ttotal: 743ms\tremaining: 824ms\n",
      "128:\tlearn: 2887.9062897\ttotal: 750ms\tremaining: 820ms\n",
      "129:\tlearn: 2886.7388670\ttotal: 777ms\tremaining: 837ms\n",
      "130:\tlearn: 2885.5489982\ttotal: 781ms\tremaining: 829ms\n",
      "131:\tlearn: 2884.9510099\ttotal: 786ms\tremaining: 821ms\n",
      "132:\tlearn: 2883.7919890\ttotal: 793ms\tremaining: 817ms\n",
      "133:\tlearn: 2882.7557894\ttotal: 798ms\tremaining: 810ms\n",
      "134:\tlearn: 2881.8168687\ttotal: 802ms\tremaining: 802ms\n",
      "135:\tlearn: 2880.6538696\ttotal: 808ms\tremaining: 796ms\n",
      "136:\tlearn: 2879.6305198\ttotal: 813ms\tremaining: 790ms\n",
      "137:\tlearn: 2878.7332820\ttotal: 819ms\tremaining: 783ms\n",
      "138:\tlearn: 2878.0692871\ttotal: 824ms\tremaining: 776ms\n",
      "139:\tlearn: 2876.9133624\ttotal: 828ms\tremaining: 769ms\n",
      "140:\tlearn: 2876.0796533\ttotal: 832ms\tremaining: 761ms\n",
      "141:\tlearn: 2875.2076038\ttotal: 837ms\tremaining: 754ms\n",
      "142:\tlearn: 2874.3756894\ttotal: 853ms\tremaining: 758ms\n",
      "143:\tlearn: 2873.5552851\ttotal: 858ms\tremaining: 751ms\n",
      "144:\tlearn: 2872.7281042\ttotal: 862ms\tremaining: 743ms\n",
      "145:\tlearn: 2871.5956195\ttotal: 867ms\tremaining: 736ms\n",
      "146:\tlearn: 2871.0431135\ttotal: 870ms\tremaining: 728ms\n",
      "147:\tlearn: 2870.4695347\ttotal: 875ms\tremaining: 721ms\n",
      "148:\tlearn: 2869.7487420\ttotal: 880ms\tremaining: 715ms\n",
      "149:\tlearn: 2869.0551973\ttotal: 886ms\tremaining: 709ms\n",
      "150:\tlearn: 2868.2220077\ttotal: 898ms\tremaining: 708ms\n",
      "151:\tlearn: 2867.1987692\ttotal: 902ms\tremaining: 700ms\n",
      "152:\tlearn: 2866.5229973\ttotal: 907ms\tremaining: 694ms\n",
      "153:\tlearn: 2865.6593772\ttotal: 914ms\tremaining: 689ms\n",
      "154:\tlearn: 2865.0795935\ttotal: 921ms\tremaining: 683ms\n",
      "155:\tlearn: 2864.2795783\ttotal: 925ms\tremaining: 676ms\n",
      "156:\tlearn: 2863.7183829\ttotal: 941ms\tremaining: 677ms\n",
      "157:\tlearn: 2862.8044095\ttotal: 946ms\tremaining: 670ms\n",
      "158:\tlearn: 2862.3835744\ttotal: 951ms\tremaining: 664ms\n"
     ]
    },
    {
     "name": "stdout",
     "output_type": "stream",
     "text": [
      "159:\tlearn: 2861.8018565\ttotal: 957ms\tremaining: 658ms\n",
      "160:\tlearn: 2861.3116153\ttotal: 962ms\tremaining: 651ms\n",
      "161:\tlearn: 2860.4072445\ttotal: 968ms\tremaining: 645ms\n",
      "162:\tlearn: 2860.0835314\ttotal: 985ms\tremaining: 647ms\n",
      "163:\tlearn: 2859.3669434\ttotal: 992ms\tremaining: 641ms\n",
      "164:\tlearn: 2858.5291864\ttotal: 997ms\tremaining: 634ms\n",
      "165:\tlearn: 2857.8325658\ttotal: 1s\tremaining: 627ms\n",
      "166:\tlearn: 2857.7212084\ttotal: 1s\tremaining: 618ms\n",
      "167:\tlearn: 2857.1591793\ttotal: 1.01s\tremaining: 612ms\n",
      "168:\tlearn: 2856.5593848\ttotal: 1.01s\tremaining: 605ms\n",
      "169:\tlearn: 2856.2245209\ttotal: 1.02s\tremaining: 599ms\n",
      "170:\tlearn: 2855.5933283\ttotal: 1.02s\tremaining: 592ms\n",
      "171:\tlearn: 2855.1304393\ttotal: 1.03s\tremaining: 585ms\n",
      "172:\tlearn: 2854.6996527\ttotal: 1.03s\tremaining: 578ms\n",
      "173:\tlearn: 2854.0637430\ttotal: 1.04s\tremaining: 573ms\n",
      "174:\tlearn: 2853.6111218\ttotal: 1.05s\tremaining: 569ms\n",
      "175:\tlearn: 2853.3103864\ttotal: 1.05s\tremaining: 563ms\n",
      "176:\tlearn: 2852.7602865\ttotal: 1.06s\tremaining: 557ms\n",
      "177:\tlearn: 2852.1507450\ttotal: 1.06s\tremaining: 551ms\n",
      "178:\tlearn: 2851.6928110\ttotal: 1.07s\tremaining: 544ms\n",
      "179:\tlearn: 2851.1290717\ttotal: 1.07s\tremaining: 537ms\n",
      "180:\tlearn: 2850.5048392\ttotal: 1.08s\tremaining: 531ms\n",
      "181:\tlearn: 2850.1740027\ttotal: 1.08s\tremaining: 524ms\n",
      "182:\tlearn: 2849.4949254\ttotal: 1.09s\tremaining: 517ms\n",
      "183:\tlearn: 2849.1565350\ttotal: 1.09s\tremaining: 511ms\n",
      "184:\tlearn: 2848.6414798\ttotal: 1.1s\tremaining: 504ms\n",
      "185:\tlearn: 2848.2321528\ttotal: 1.1s\tremaining: 497ms\n",
      "186:\tlearn: 2847.5484577\ttotal: 1.11s\tremaining: 491ms\n",
      "187:\tlearn: 2846.8570239\ttotal: 1.11s\tremaining: 486ms\n",
      "188:\tlearn: 2846.2657090\ttotal: 1.12s\tremaining: 481ms\n",
      "189:\tlearn: 2845.8913992\ttotal: 1.13s\tremaining: 476ms\n",
      "190:\tlearn: 2845.6189626\ttotal: 1.14s\tremaining: 471ms\n",
      "191:\tlearn: 2845.1951936\ttotal: 1.15s\tremaining: 466ms\n",
      "192:\tlearn: 2844.3634809\ttotal: 1.15s\tremaining: 459ms\n",
      "193:\tlearn: 2843.6819230\ttotal: 1.16s\tremaining: 453ms\n",
      "194:\tlearn: 2843.3291241\ttotal: 1.16s\tremaining: 447ms\n",
      "195:\tlearn: 2842.8844487\ttotal: 1.17s\tremaining: 440ms\n",
      "196:\tlearn: 2842.3754062\ttotal: 1.17s\tremaining: 434ms\n",
      "197:\tlearn: 2841.8841198\ttotal: 1.18s\tremaining: 427ms\n",
      "198:\tlearn: 2841.6010004\ttotal: 1.18s\tremaining: 421ms\n",
      "199:\tlearn: 2840.7760582\ttotal: 1.18s\tremaining: 414ms\n",
      "200:\tlearn: 2840.1984099\ttotal: 1.19s\tremaining: 408ms\n",
      "201:\tlearn: 2839.6555876\ttotal: 1.19s\tremaining: 402ms\n",
      "202:\tlearn: 2839.3215431\ttotal: 1.2s\tremaining: 395ms\n",
      "203:\tlearn: 2839.0597785\ttotal: 1.2s\tremaining: 389ms\n",
      "204:\tlearn: 2838.2895192\ttotal: 1.21s\tremaining: 382ms\n",
      "205:\tlearn: 2838.0255844\ttotal: 1.21s\tremaining: 376ms\n",
      "206:\tlearn: 2837.6715942\ttotal: 1.21s\tremaining: 369ms\n",
      "207:\tlearn: 2837.2975066\ttotal: 1.22s\tremaining: 365ms\n",
      "208:\tlearn: 2837.0846920\ttotal: 1.23s\tremaining: 359ms\n",
      "209:\tlearn: 2836.3477471\ttotal: 1.23s\tremaining: 353ms\n",
      "210:\tlearn: 2835.8115590\ttotal: 1.24s\tremaining: 346ms\n",
      "211:\tlearn: 2835.5439910\ttotal: 1.25s\tremaining: 341ms\n",
      "212:\tlearn: 2835.1196745\ttotal: 1.25s\tremaining: 335ms\n",
      "213:\tlearn: 2834.4994382\ttotal: 1.26s\tremaining: 330ms\n",
      "214:\tlearn: 2833.8043361\ttotal: 1.29s\tremaining: 329ms\n",
      "215:\tlearn: 2833.8043352\ttotal: 1.29s\tremaining: 322ms\n",
      "216:\tlearn: 2833.4606863\ttotal: 1.29s\tremaining: 316ms\n",
      "217:\tlearn: 2833.2280872\ttotal: 1.3s\tremaining: 310ms\n",
      "218:\tlearn: 2832.8640776\ttotal: 1.3s\tremaining: 303ms\n",
      "219:\tlearn: 2832.7457878\ttotal: 1.31s\tremaining: 297ms\n",
      "220:\tlearn: 2832.0972986\ttotal: 1.31s\tremaining: 291ms\n",
      "221:\tlearn: 2831.6306532\ttotal: 1.31s\tremaining: 284ms\n",
      "222:\tlearn: 2831.3004460\ttotal: 1.32s\tremaining: 279ms\n",
      "223:\tlearn: 2830.8953920\ttotal: 1.33s\tremaining: 273ms\n",
      "224:\tlearn: 2830.3823884\ttotal: 1.33s\tremaining: 267ms\n",
      "225:\tlearn: 2830.1140176\ttotal: 1.34s\tremaining: 261ms\n",
      "226:\tlearn: 2829.6468436\ttotal: 1.34s\tremaining: 255ms\n",
      "227:\tlearn: 2829.5411499\ttotal: 1.35s\tremaining: 248ms\n",
      "228:\tlearn: 2829.1806264\ttotal: 1.35s\tremaining: 242ms\n",
      "229:\tlearn: 2828.9314544\ttotal: 1.36s\tremaining: 237ms\n",
      "230:\tlearn: 2828.4404290\ttotal: 1.37s\tremaining: 231ms\n",
      "231:\tlearn: 2828.0994514\ttotal: 1.37s\tremaining: 225ms\n",
      "232:\tlearn: 2827.4230710\ttotal: 1.38s\tremaining: 219ms\n",
      "233:\tlearn: 2827.3973078\ttotal: 1.38s\tremaining: 212ms\n",
      "234:\tlearn: 2826.8725339\ttotal: 1.38s\tremaining: 206ms\n",
      "235:\tlearn: 2826.4999797\ttotal: 1.39s\tremaining: 200ms\n",
      "236:\tlearn: 2826.0414489\ttotal: 1.43s\tremaining: 200ms\n",
      "237:\tlearn: 2825.4982618\ttotal: 1.44s\tremaining: 193ms\n",
      "238:\tlearn: 2825.4556624\ttotal: 1.44s\tremaining: 187ms\n",
      "239:\tlearn: 2825.0260137\ttotal: 1.45s\tremaining: 181ms\n",
      "240:\tlearn: 2824.8863659\ttotal: 1.45s\tremaining: 175ms\n",
      "241:\tlearn: 2824.4528094\ttotal: 1.46s\tremaining: 169ms\n",
      "242:\tlearn: 2824.4097102\ttotal: 1.46s\tremaining: 162ms\n",
      "243:\tlearn: 2823.8025528\ttotal: 1.49s\tremaining: 159ms\n",
      "244:\tlearn: 2823.4541722\ttotal: 1.5s\tremaining: 154ms\n",
      "245:\tlearn: 2823.2933742\ttotal: 1.51s\tremaining: 147ms\n",
      "246:\tlearn: 2822.4958517\ttotal: 1.51s\tremaining: 141ms\n",
      "247:\tlearn: 2821.9408678\ttotal: 1.52s\tremaining: 135ms\n",
      "248:\tlearn: 2821.3729662\ttotal: 1.52s\tremaining: 128ms\n",
      "249:\tlearn: 2820.5487180\ttotal: 1.53s\tremaining: 122ms\n",
      "250:\tlearn: 2820.0425971\ttotal: 1.54s\tremaining: 117ms\n",
      "251:\tlearn: 2819.6590512\ttotal: 1.55s\tremaining: 110ms\n",
      "252:\tlearn: 2819.2086156\ttotal: 1.55s\tremaining: 104ms\n",
      "253:\tlearn: 2818.8674664\ttotal: 1.56s\tremaining: 98ms\n",
      "254:\tlearn: 2818.6811262\ttotal: 1.56s\tremaining: 91.8ms\n",
      "255:\tlearn: 2818.3023849\ttotal: 1.57s\tremaining: 85.7ms\n",
      "256:\tlearn: 2818.0551652\ttotal: 1.57s\tremaining: 79.5ms\n",
      "257:\tlearn: 2817.5868320\ttotal: 1.58s\tremaining: 73.3ms\n",
      "258:\tlearn: 2817.5071167\ttotal: 1.58s\tremaining: 67.1ms\n",
      "259:\tlearn: 2817.2337142\ttotal: 1.58s\tremaining: 60.9ms\n",
      "260:\tlearn: 2816.9478413\ttotal: 1.59s\tremaining: 54.8ms\n",
      "261:\tlearn: 2816.5277261\ttotal: 1.59s\tremaining: 48.6ms\n",
      "262:\tlearn: 2816.0217548\ttotal: 1.6s\tremaining: 42.5ms\n",
      "263:\tlearn: 2815.9651613\ttotal: 1.6s\tremaining: 36.3ms\n",
      "264:\tlearn: 2815.7467608\ttotal: 1.6s\tremaining: 30.2ms\n",
      "265:\tlearn: 2815.4010428\ttotal: 1.6s\tremaining: 24.1ms\n",
      "266:\tlearn: 2815.2990739\ttotal: 1.61s\tremaining: 18.1ms\n",
      "267:\tlearn: 2814.9183146\ttotal: 1.61s\tremaining: 12.1ms\n",
      "268:\tlearn: 2814.2180277\ttotal: 1.62s\tremaining: 6.03ms\n",
      "269:\tlearn: 2813.8512757\ttotal: 1.63s\tremaining: 0us\n"
     ]
    },
    {
     "data": {
      "text/plain": [
       "<catboost.core.CatBoostRegressor at 0x1b74968b7c8>"
      ]
     },
     "execution_count": 211,
     "metadata": {},
     "output_type": "execute_result"
    }
   ],
   "source": [
    "ctb = CatBoostRegressor(depth=6, learning_rate=0.019, n_estimators=270)\n",
    "ctb.fit(X_train,y_train)"
   ]
  },
  {
   "cell_type": "code",
   "execution_count": 212,
   "metadata": {},
   "outputs": [
    {
     "data": {
      "text/plain": [
       "0.572592870483724"
      ]
     },
     "execution_count": 212,
     "metadata": {},
     "output_type": "execute_result"
    }
   ],
   "source": [
    "coeff_score = ctb.score(X_test,y_test)\n",
    "coeff_score"
   ]
  },
  {
   "cell_type": "code",
   "execution_count": 209,
   "metadata": {},
   "outputs": [
    {
     "data": {
      "text/plain": [
       "0.5934237029090792"
      ]
     },
     "execution_count": 209,
     "metadata": {},
     "output_type": "execute_result"
    }
   ],
   "source": [
    "ctb.score(X_train,y_train)"
   ]
  },
  {
   "cell_type": "code",
   "execution_count": 210,
   "metadata": {},
   "outputs": [],
   "source": [
    "# from sklearn.model_selection import GridSearchCV, RandomizedSearchCV\n",
    "# model = CatBoostRegressor()\n",
    "# parameters = {'depth'         : [6,8,10],\n",
    "#                   'learning_rate' : [0.01, 0.02, 0.03, 0.04,0.5, 0.06,0.07,0.08,0.09,0.1],\n",
    "#                   'n_estimators':[90,125,150,200,250,300,350]\n",
    "#                  }\n",
    "# grid = GridSearchCV(estimator=model, param_grid = parameters, cv = 5, n_jobs=-1)\n",
    "# grid.fit(X,y)\n",
    "\n"
   ]
  },
  {
   "cell_type": "code",
   "execution_count": null,
   "metadata": {},
   "outputs": [],
   "source": []
  },
  {
   "cell_type": "code",
   "execution_count": 189,
   "metadata": {},
   "outputs": [],
   "source": [
    "# # Results from Grid Search\n",
    "# print(\" Results from Grid Search \" )\n",
    "# print(\"\\n The best estimator across ALL searched params:\\n\",grid.best_estimator_)\n",
    "# print(\"\\n The best score across ALL searched params:\\n\",grid.best_score_)\n",
    "# print(\"\\n The best parameters across ALL searched params:\\n\",grid.best_params_)\n",
    "# print(\"\\n ====================\")"
   ]
  },
  {
   "cell_type": "markdown",
   "metadata": {},
   "source": [
    "# predicting the test data"
   ]
  },
  {
   "cell_type": "code",
   "execution_count": 213,
   "metadata": {},
   "outputs": [
    {
     "data": {
      "text/html": [
       "<div>\n",
       "<style scoped>\n",
       "    .dataframe tbody tr th:only-of-type {\n",
       "        vertical-align: middle;\n",
       "    }\n",
       "\n",
       "    .dataframe tbody tr th {\n",
       "        vertical-align: top;\n",
       "    }\n",
       "\n",
       "    .dataframe thead th {\n",
       "        text-align: right;\n",
       "    }\n",
       "</style>\n",
       "<table border=\"1\" class=\"dataframe\">\n",
       "  <thead>\n",
       "    <tr style=\"text-align: right;\">\n",
       "      <th></th>\n",
       "      <th>Product_Shelf_Visibility</th>\n",
       "      <th>Product_Price</th>\n",
       "      <th>Supermarket _Size</th>\n",
       "      <th>Supermarket_Location_Type</th>\n",
       "      <th>Supermarket_Type</th>\n",
       "    </tr>\n",
       "  </thead>\n",
       "  <tbody>\n",
       "    <tr>\n",
       "      <th>0</th>\n",
       "      <td>0.178246</td>\n",
       "      <td>395.32</td>\n",
       "      <td>3</td>\n",
       "      <td>1</td>\n",
       "      <td>3</td>\n",
       "    </tr>\n",
       "    <tr>\n",
       "      <th>1</th>\n",
       "      <td>0.061434</td>\n",
       "      <td>327.49</td>\n",
       "      <td>3</td>\n",
       "      <td>2</td>\n",
       "      <td>2</td>\n",
       "    </tr>\n",
       "    <tr>\n",
       "      <th>2</th>\n",
       "      <td>0.020573</td>\n",
       "      <td>391.16</td>\n",
       "      <td>2</td>\n",
       "      <td>3</td>\n",
       "      <td>3</td>\n",
       "    </tr>\n",
       "    <tr>\n",
       "      <th>3</th>\n",
       "      <td>0.080131</td>\n",
       "      <td>427.28</td>\n",
       "      <td>3</td>\n",
       "      <td>2</td>\n",
       "      <td>2</td>\n",
       "    </tr>\n",
       "    <tr>\n",
       "      <th>4</th>\n",
       "      <td>0.028710</td>\n",
       "      <td>395.40</td>\n",
       "      <td>3</td>\n",
       "      <td>3</td>\n",
       "      <td>3</td>\n",
       "    </tr>\n",
       "  </tbody>\n",
       "</table>\n",
       "</div>"
      ],
      "text/plain": [
       "   Product_Shelf_Visibility  Product_Price  Supermarket _Size  \\\n",
       "0                  0.178246         395.32                  3   \n",
       "1                  0.061434         327.49                  3   \n",
       "2                  0.020573         391.16                  2   \n",
       "3                  0.080131         427.28                  3   \n",
       "4                  0.028710         395.40                  3   \n",
       "\n",
       "   Supermarket_Location_Type  Supermarket_Type  \n",
       "0                          1                 3  \n",
       "1                          2                 2  \n",
       "2                          3                 3  \n",
       "3                          2                 2  \n",
       "4                          3                 3  "
      ]
     },
     "execution_count": 213,
     "metadata": {},
     "output_type": "execute_result"
    }
   ],
   "source": [
    "X2=df2.drop(['Product_Identifier','Supermarket_Identifier','Product_Supermarket_Identifier','Product_Type','Product_Weight',\n",
    "           'Supermarket_Opening_Year','Product_Fat_Content'], axis=1)\n",
    "X2.head()"
   ]
  },
  {
   "cell_type": "code",
   "execution_count": 214,
   "metadata": {},
   "outputs": [
    {
     "data": {
      "text/html": [
       "<div>\n",
       "<style scoped>\n",
       "    .dataframe tbody tr th:only-of-type {\n",
       "        vertical-align: middle;\n",
       "    }\n",
       "\n",
       "    .dataframe tbody tr th {\n",
       "        vertical-align: top;\n",
       "    }\n",
       "\n",
       "    .dataframe thead th {\n",
       "        text-align: right;\n",
       "    }\n",
       "</style>\n",
       "<table border=\"1\" class=\"dataframe\">\n",
       "  <thead>\n",
       "    <tr style=\"text-align: right;\">\n",
       "      <th></th>\n",
       "      <th>Product_Supermarket_Identifier</th>\n",
       "      <th>Product_Supermarket_Sales</th>\n",
       "    </tr>\n",
       "  </thead>\n",
       "  <tbody>\n",
       "    <tr>\n",
       "      <th>0</th>\n",
       "      <td>FDC15_CHUKWUDI049</td>\n",
       "      <td>6067.513607</td>\n",
       "    </tr>\n",
       "    <tr>\n",
       "      <th>1</th>\n",
       "      <td>NCY06_CHUKWUDI018</td>\n",
       "      <td>4550.491348</td>\n",
       "    </tr>\n",
       "    <tr>\n",
       "      <th>2</th>\n",
       "      <td>DRB24_CHUKWUDI035</td>\n",
       "      <td>7023.887896</td>\n",
       "    </tr>\n",
       "    <tr>\n",
       "      <th>3</th>\n",
       "      <td>NCG54_CHUKWUDI018</td>\n",
       "      <td>6061.489532</td>\n",
       "    </tr>\n",
       "    <tr>\n",
       "      <th>4</th>\n",
       "      <td>NCA42_CHUKWUDI017</td>\n",
       "      <td>6442.460982</td>\n",
       "    </tr>\n",
       "  </tbody>\n",
       "</table>\n",
       "</div>"
      ],
      "text/plain": [
       "  Product_Supermarket_Identifier  Product_Supermarket_Sales\n",
       "0              FDC15_CHUKWUDI049                6067.513607\n",
       "1              NCY06_CHUKWUDI018                4550.491348\n",
       "2              DRB24_CHUKWUDI035                7023.887896\n",
       "3              NCG54_CHUKWUDI018                6061.489532\n",
       "4              NCA42_CHUKWUDI017                6442.460982"
      ]
     },
     "execution_count": 214,
     "metadata": {},
     "output_type": "execute_result"
    }
   ],
   "source": [
    "test_pred = ctb.predict(X2) #predict on the test set for submission\n",
    "df3= {'Product_Supermarket_Identifier': df2['Product_Supermarket_Identifier'], 'Product_Supermarket_Sales': test_pred}\n",
    "sub = pd.DataFrame(data=df3)\n",
    "sub = sub[['Product_Supermarket_Identifier', 'Product_Supermarket_Sales']]\n",
    "\n",
    "sub.to_csv('submission_recent2.csv', index = False)\n",
    "sub.head()"
   ]
  },
  {
   "cell_type": "markdown",
   "metadata": {},
   "source": [
    "Croos validation"
   ]
  },
  {
   "cell_type": "code",
   "execution_count": null,
   "metadata": {},
   "outputs": [],
   "source": []
  }
 ],
 "metadata": {
  "kernelspec": {
   "display_name": "Python 3",
   "language": "python",
   "name": "python3"
  },
  "language_info": {
   "codemirror_mode": {
    "name": "ipython",
    "version": 3
   },
   "file_extension": ".py",
   "mimetype": "text/x-python",
   "name": "python",
   "nbconvert_exporter": "python",
   "pygments_lexer": "ipython3",
   "version": "3.7.6"
  }
 },
 "nbformat": 4,
 "nbformat_minor": 2
}
