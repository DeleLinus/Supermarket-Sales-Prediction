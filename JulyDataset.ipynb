{
 "cells": [
  {
   "cell_type": "code",
   "execution_count": 11,
   "metadata": {
    "collapsed": true
   },
   "outputs": [],
   "source": [
    "%matplotlib inline\n",
    "import pandas as pd\n",
    "import numpy as np\n",
    "import matplotlib.pyplot as plt\n",
    "from scipy import stats\n",
    "import seaborn as sns"
   ]
  },
  {
   "cell_type": "code",
   "execution_count": 12,
   "metadata": {},
   "outputs": [
    {
     "data": {
      "text/html": [
       "<div>\n",
       "<style>\n",
       "    .dataframe thead tr:only-child th {\n",
       "        text-align: right;\n",
       "    }\n",
       "\n",
       "    .dataframe thead th {\n",
       "        text-align: left;\n",
       "    }\n",
       "\n",
       "    .dataframe tbody tr th {\n",
       "        vertical-align: top;\n",
       "    }\n",
       "</style>\n",
       "<table border=\"1\" class=\"dataframe\">\n",
       "  <thead>\n",
       "    <tr style=\"text-align: right;\">\n",
       "      <th></th>\n",
       "      <th>Product_Identifier</th>\n",
       "      <th>Supermarket_Identifier</th>\n",
       "      <th>Product_Supermarket_Identifier</th>\n",
       "      <th>Product_Weight</th>\n",
       "      <th>Product_Fat_Content</th>\n",
       "      <th>Product_Shelf_Visibility</th>\n",
       "      <th>Product_Type</th>\n",
       "      <th>Product_Price</th>\n",
       "      <th>Supermarket_Opening_Year</th>\n",
       "      <th>Supermarket _Size</th>\n",
       "      <th>Supermarket_Location_Type</th>\n",
       "      <th>Supermarket_Type</th>\n",
       "      <th>Product_Supermarket_Sales</th>\n",
       "    </tr>\n",
       "  </thead>\n",
       "  <tbody>\n",
       "    <tr>\n",
       "      <th>0</th>\n",
       "      <td>DRB24</td>\n",
       "      <td>CHUKWUDI017</td>\n",
       "      <td>DRB24_CHUKWUDI017</td>\n",
       "      <td>8.785</td>\n",
       "      <td>Low Fat</td>\n",
       "      <td>0.020694</td>\n",
       "      <td>Soft Drinks</td>\n",
       "      <td>382.91</td>\n",
       "      <td>2014</td>\n",
       "      <td>NaN</td>\n",
       "      <td>Cluster 2</td>\n",
       "      <td>Supermarket Type1</td>\n",
       "      <td>4633.97</td>\n",
       "    </tr>\n",
       "    <tr>\n",
       "      <th>1</th>\n",
       "      <td>FDR31</td>\n",
       "      <td>CHUKWUDI019</td>\n",
       "      <td>FDR31_CHUKWUDI019</td>\n",
       "      <td>NaN</td>\n",
       "      <td>Normal Fat</td>\n",
       "      <td>0.086078</td>\n",
       "      <td>Fruits and Vegetables</td>\n",
       "      <td>359.53</td>\n",
       "      <td>1992</td>\n",
       "      <td>Small</td>\n",
       "      <td>Cluster 1</td>\n",
       "      <td>Grocery Store</td>\n",
       "      <td>729.05</td>\n",
       "    </tr>\n",
       "    <tr>\n",
       "      <th>2</th>\n",
       "      <td>FDP16</td>\n",
       "      <td>CHUKWUDI017</td>\n",
       "      <td>FDP16_CHUKWUDI017</td>\n",
       "      <td>18.600</td>\n",
       "      <td>Low Fat</td>\n",
       "      <td>0.039517</td>\n",
       "      <td>Frozen Foods</td>\n",
       "      <td>609.20</td>\n",
       "      <td>2014</td>\n",
       "      <td>NaN</td>\n",
       "      <td>Cluster 2</td>\n",
       "      <td>Supermarket Type1</td>\n",
       "      <td>14740.81</td>\n",
       "    </tr>\n",
       "    <tr>\n",
       "      <th>3</th>\n",
       "      <td>FDY16</td>\n",
       "      <td>CHUKWUDI027</td>\n",
       "      <td>FDY16_CHUKWUDI027</td>\n",
       "      <td>NaN</td>\n",
       "      <td>Normal Fat</td>\n",
       "      <td>0.091780</td>\n",
       "      <td>Frozen Foods</td>\n",
       "      <td>456.32</td>\n",
       "      <td>1992</td>\n",
       "      <td>Medium</td>\n",
       "      <td>Cluster 3</td>\n",
       "      <td>Supermarket Type3</td>\n",
       "      <td>16137.33</td>\n",
       "    </tr>\n",
       "    <tr>\n",
       "      <th>4</th>\n",
       "      <td>FDY48</td>\n",
       "      <td>CHUKWUDI046</td>\n",
       "      <td>FDY48_CHUKWUDI046</td>\n",
       "      <td>14.000</td>\n",
       "      <td>Low Fat</td>\n",
       "      <td>0.023735</td>\n",
       "      <td>Baking Goods</td>\n",
       "      <td>258.08</td>\n",
       "      <td>2004</td>\n",
       "      <td>Small</td>\n",
       "      <td>Cluster 1</td>\n",
       "      <td>Supermarket Type1</td>\n",
       "      <td>4613.99</td>\n",
       "    </tr>\n",
       "  </tbody>\n",
       "</table>\n",
       "</div>"
      ],
      "text/plain": [
       "  Product_Identifier Supermarket_Identifier Product_Supermarket_Identifier  \\\n",
       "0              DRB24            CHUKWUDI017              DRB24_CHUKWUDI017   \n",
       "1              FDR31            CHUKWUDI019              FDR31_CHUKWUDI019   \n",
       "2              FDP16            CHUKWUDI017              FDP16_CHUKWUDI017   \n",
       "3              FDY16            CHUKWUDI027              FDY16_CHUKWUDI027   \n",
       "4              FDY48            CHUKWUDI046              FDY48_CHUKWUDI046   \n",
       "\n",
       "   Product_Weight Product_Fat_Content  Product_Shelf_Visibility  \\\n",
       "0           8.785             Low Fat                  0.020694   \n",
       "1             NaN          Normal Fat                  0.086078   \n",
       "2          18.600             Low Fat                  0.039517   \n",
       "3             NaN          Normal Fat                  0.091780   \n",
       "4          14.000             Low Fat                  0.023735   \n",
       "\n",
       "            Product_Type  Product_Price  Supermarket_Opening_Year  \\\n",
       "0            Soft Drinks         382.91                      2014   \n",
       "1  Fruits and Vegetables         359.53                      1992   \n",
       "2           Frozen Foods         609.20                      2014   \n",
       "3           Frozen Foods         456.32                      1992   \n",
       "4           Baking Goods         258.08                      2004   \n",
       "\n",
       "  Supermarket _Size Supermarket_Location_Type   Supermarket_Type  \\\n",
       "0               NaN                 Cluster 2  Supermarket Type1   \n",
       "1             Small                 Cluster 1      Grocery Store   \n",
       "2               NaN                 Cluster 2  Supermarket Type1   \n",
       "3            Medium                 Cluster 3  Supermarket Type3   \n",
       "4             Small                 Cluster 1  Supermarket Type1   \n",
       "\n",
       "   Product_Supermarket_Sales  \n",
       "0                    4633.97  \n",
       "1                     729.05  \n",
       "2                   14740.81  \n",
       "3                   16137.33  \n",
       "4                    4613.99  "
      ]
     },
     "execution_count": 12,
     "metadata": {},
     "output_type": "execute_result"
    }
   ],
   "source": [
    "file_path='train.csv'\n",
    "df=pd.read_csv(file_path)\n",
    "df.head()"
   ]
  },
  {
   "cell_type": "code",
   "execution_count": 13,
   "metadata": {},
   "outputs": [
    {
     "data": {
      "text/html": [
       "<div>\n",
       "<style>\n",
       "    .dataframe thead tr:only-child th {\n",
       "        text-align: right;\n",
       "    }\n",
       "\n",
       "    .dataframe thead th {\n",
       "        text-align: left;\n",
       "    }\n",
       "\n",
       "    .dataframe tbody tr th {\n",
       "        vertical-align: top;\n",
       "    }\n",
       "</style>\n",
       "<table border=\"1\" class=\"dataframe\">\n",
       "  <thead>\n",
       "    <tr style=\"text-align: right;\">\n",
       "      <th></th>\n",
       "      <th>Product_Identifier</th>\n",
       "      <th>Supermarket_Identifier</th>\n",
       "      <th>Product_Supermarket_Identifier</th>\n",
       "      <th>Product_Weight</th>\n",
       "      <th>Product_Fat_Content</th>\n",
       "      <th>Product_Shelf_Visibility</th>\n",
       "      <th>Product_Type</th>\n",
       "      <th>Product_Price</th>\n",
       "      <th>Supermarket_Opening_Year</th>\n",
       "      <th>Supermarket _Size</th>\n",
       "      <th>Supermarket_Location_Type</th>\n",
       "      <th>Supermarket_Type</th>\n",
       "    </tr>\n",
       "  </thead>\n",
       "  <tbody>\n",
       "    <tr>\n",
       "      <th>0</th>\n",
       "      <td>FDC15</td>\n",
       "      <td>CHUKWUDI049</td>\n",
       "      <td>FDC15_CHUKWUDI049</td>\n",
       "      <td>18.100</td>\n",
       "      <td>Low Fat</td>\n",
       "      <td>0.178246</td>\n",
       "      <td>Dairy</td>\n",
       "      <td>395.32</td>\n",
       "      <td>2006</td>\n",
       "      <td>Medium</td>\n",
       "      <td>Cluster 1</td>\n",
       "      <td>Supermarket Type1</td>\n",
       "    </tr>\n",
       "    <tr>\n",
       "      <th>1</th>\n",
       "      <td>NCY06</td>\n",
       "      <td>CHUKWUDI018</td>\n",
       "      <td>NCY06_CHUKWUDI018</td>\n",
       "      <td>15.250</td>\n",
       "      <td>Low Fat</td>\n",
       "      <td>0.061434</td>\n",
       "      <td>Household</td>\n",
       "      <td>327.49</td>\n",
       "      <td>2016</td>\n",
       "      <td>Medium</td>\n",
       "      <td>Cluster 3</td>\n",
       "      <td>Supermarket Type2</td>\n",
       "    </tr>\n",
       "    <tr>\n",
       "      <th>2</th>\n",
       "      <td>DRB24</td>\n",
       "      <td>CHUKWUDI035</td>\n",
       "      <td>DRB24_CHUKWUDI035</td>\n",
       "      <td>8.785</td>\n",
       "      <td>Low Fat</td>\n",
       "      <td>0.020573</td>\n",
       "      <td>Soft Drinks</td>\n",
       "      <td>391.16</td>\n",
       "      <td>2011</td>\n",
       "      <td>Small</td>\n",
       "      <td>Cluster 2</td>\n",
       "      <td>Supermarket Type1</td>\n",
       "    </tr>\n",
       "    <tr>\n",
       "      <th>3</th>\n",
       "      <td>NCG54</td>\n",
       "      <td>CHUKWUDI018</td>\n",
       "      <td>NCG54_CHUKWUDI018</td>\n",
       "      <td>12.100</td>\n",
       "      <td>Low Fat</td>\n",
       "      <td>0.080131</td>\n",
       "      <td>Household</td>\n",
       "      <td>427.28</td>\n",
       "      <td>2016</td>\n",
       "      <td>Medium</td>\n",
       "      <td>Cluster 3</td>\n",
       "      <td>Supermarket Type2</td>\n",
       "    </tr>\n",
       "    <tr>\n",
       "      <th>4</th>\n",
       "      <td>NCA42</td>\n",
       "      <td>CHUKWUDI017</td>\n",
       "      <td>NCA42_CHUKWUDI017</td>\n",
       "      <td>6.965</td>\n",
       "      <td>Low Fat</td>\n",
       "      <td>0.028710</td>\n",
       "      <td>Household</td>\n",
       "      <td>395.40</td>\n",
       "      <td>2014</td>\n",
       "      <td>NaN</td>\n",
       "      <td>Cluster 2</td>\n",
       "      <td>Supermarket Type1</td>\n",
       "    </tr>\n",
       "  </tbody>\n",
       "</table>\n",
       "</div>"
      ],
      "text/plain": [
       "  Product_Identifier Supermarket_Identifier Product_Supermarket_Identifier  \\\n",
       "0              FDC15            CHUKWUDI049              FDC15_CHUKWUDI049   \n",
       "1              NCY06            CHUKWUDI018              NCY06_CHUKWUDI018   \n",
       "2              DRB24            CHUKWUDI035              DRB24_CHUKWUDI035   \n",
       "3              NCG54            CHUKWUDI018              NCG54_CHUKWUDI018   \n",
       "4              NCA42            CHUKWUDI017              NCA42_CHUKWUDI017   \n",
       "\n",
       "   Product_Weight Product_Fat_Content  Product_Shelf_Visibility Product_Type  \\\n",
       "0          18.100             Low Fat                  0.178246        Dairy   \n",
       "1          15.250             Low Fat                  0.061434    Household   \n",
       "2           8.785             Low Fat                  0.020573  Soft Drinks   \n",
       "3          12.100             Low Fat                  0.080131    Household   \n",
       "4           6.965             Low Fat                  0.028710    Household   \n",
       "\n",
       "   Product_Price  Supermarket_Opening_Year Supermarket _Size  \\\n",
       "0         395.32                      2006            Medium   \n",
       "1         327.49                      2016            Medium   \n",
       "2         391.16                      2011             Small   \n",
       "3         427.28                      2016            Medium   \n",
       "4         395.40                      2014               NaN   \n",
       "\n",
       "  Supermarket_Location_Type   Supermarket_Type  \n",
       "0                 Cluster 1  Supermarket Type1  \n",
       "1                 Cluster 3  Supermarket Type2  \n",
       "2                 Cluster 2  Supermarket Type1  \n",
       "3                 Cluster 3  Supermarket Type2  \n",
       "4                 Cluster 2  Supermarket Type1  "
      ]
     },
     "execution_count": 13,
     "metadata": {},
     "output_type": "execute_result"
    }
   ],
   "source": [
    "path='test.csv'\n",
    "df2=pd.read_csv(path)\n",
    "df2.head()\n",
    "# df2.isnull().sum()"
   ]
  },
  {
   "cell_type": "code",
   "execution_count": 14,
   "metadata": {},
   "outputs": [
    {
     "data": {
      "text/html": [
       "<div>\n",
       "<style>\n",
       "    .dataframe thead tr:only-child th {\n",
       "        text-align: right;\n",
       "    }\n",
       "\n",
       "    .dataframe thead th {\n",
       "        text-align: left;\n",
       "    }\n",
       "\n",
       "    .dataframe tbody tr th {\n",
       "        vertical-align: top;\n",
       "    }\n",
       "</style>\n",
       "<table border=\"1\" class=\"dataframe\">\n",
       "  <thead>\n",
       "    <tr style=\"text-align: right;\">\n",
       "      <th></th>\n",
       "      <th>Product_Identifier</th>\n",
       "      <th>Supermarket_Identifier</th>\n",
       "      <th>Product_Supermarket_Identifier</th>\n",
       "      <th>Product_Weight</th>\n",
       "      <th>Product_Fat_Content</th>\n",
       "      <th>Product_Shelf_Visibility</th>\n",
       "      <th>Product_Type</th>\n",
       "      <th>Product_Price</th>\n",
       "      <th>Supermarket_Opening_Year</th>\n",
       "      <th>Supermarket _Size</th>\n",
       "      <th>Supermarket_Location_Type</th>\n",
       "      <th>Supermarket_Type</th>\n",
       "      <th>Product_Supermarket_Sales</th>\n",
       "    </tr>\n",
       "  </thead>\n",
       "  <tbody>\n",
       "    <tr>\n",
       "      <th>count</th>\n",
       "      <td>3742</td>\n",
       "      <td>3742</td>\n",
       "      <td>3742</td>\n",
       "      <td>3141.000000</td>\n",
       "      <td>3742</td>\n",
       "      <td>3742.000000</td>\n",
       "      <td>3742</td>\n",
       "      <td>3742.000000</td>\n",
       "      <td>3742.000000</td>\n",
       "      <td>2616</td>\n",
       "      <td>3742</td>\n",
       "      <td>3742</td>\n",
       "      <td>3742.000000</td>\n",
       "    </tr>\n",
       "    <tr>\n",
       "      <th>unique</th>\n",
       "      <td>1367</td>\n",
       "      <td>10</td>\n",
       "      <td>3742</td>\n",
       "      <td>NaN</td>\n",
       "      <td>3</td>\n",
       "      <td>NaN</td>\n",
       "      <td>16</td>\n",
       "      <td>NaN</td>\n",
       "      <td>NaN</td>\n",
       "      <td>3</td>\n",
       "      <td>3</td>\n",
       "      <td>4</td>\n",
       "      <td>NaN</td>\n",
       "    </tr>\n",
       "    <tr>\n",
       "      <th>top</th>\n",
       "      <td>NCL31</td>\n",
       "      <td>CHUKWUDI017</td>\n",
       "      <td>FDK28_CHUKWUDI027</td>\n",
       "      <td>NaN</td>\n",
       "      <td>Low Fat</td>\n",
       "      <td>NaN</td>\n",
       "      <td>Snack Foods</td>\n",
       "      <td>NaN</td>\n",
       "      <td>NaN</td>\n",
       "      <td>Medium</td>\n",
       "      <td>Cluster 3</td>\n",
       "      <td>Supermarket Type1</td>\n",
       "      <td>NaN</td>\n",
       "    </tr>\n",
       "    <tr>\n",
       "      <th>freq</th>\n",
       "      <td>9</td>\n",
       "      <td>461</td>\n",
       "      <td>1</td>\n",
       "      <td>NaN</td>\n",
       "      <td>2272</td>\n",
       "      <td>NaN</td>\n",
       "      <td>563</td>\n",
       "      <td>NaN</td>\n",
       "      <td>NaN</td>\n",
       "      <td>1155</td>\n",
       "      <td>1438</td>\n",
       "      <td>2495</td>\n",
       "      <td>NaN</td>\n",
       "    </tr>\n",
       "    <tr>\n",
       "      <th>mean</th>\n",
       "      <td>NaN</td>\n",
       "      <td>NaN</td>\n",
       "      <td>NaN</td>\n",
       "      <td>12.870640</td>\n",
       "      <td>NaN</td>\n",
       "      <td>0.066613</td>\n",
       "      <td>NaN</td>\n",
       "      <td>391.815315</td>\n",
       "      <td>2004.778461</td>\n",
       "      <td>NaN</td>\n",
       "      <td>NaN</td>\n",
       "      <td>NaN</td>\n",
       "      <td>6103.735353</td>\n",
       "    </tr>\n",
       "    <tr>\n",
       "      <th>std</th>\n",
       "      <td>NaN</td>\n",
       "      <td>NaN</td>\n",
       "      <td>NaN</td>\n",
       "      <td>4.730432</td>\n",
       "      <td>NaN</td>\n",
       "      <td>0.052951</td>\n",
       "      <td>NaN</td>\n",
       "      <td>120.204222</td>\n",
       "      <td>8.276712</td>\n",
       "      <td>NaN</td>\n",
       "      <td>NaN</td>\n",
       "      <td>NaN</td>\n",
       "      <td>4456.169125</td>\n",
       "    </tr>\n",
       "    <tr>\n",
       "      <th>min</th>\n",
       "      <td>NaN</td>\n",
       "      <td>NaN</td>\n",
       "      <td>NaN</td>\n",
       "      <td>4.555000</td>\n",
       "      <td>NaN</td>\n",
       "      <td>0.000000</td>\n",
       "      <td>NaN</td>\n",
       "      <td>78.730000</td>\n",
       "      <td>1992.000000</td>\n",
       "      <td>NaN</td>\n",
       "      <td>NaN</td>\n",
       "      <td>NaN</td>\n",
       "      <td>83.230000</td>\n",
       "    </tr>\n",
       "    <tr>\n",
       "      <th>25%</th>\n",
       "      <td>NaN</td>\n",
       "      <td>NaN</td>\n",
       "      <td>NaN</td>\n",
       "      <td>8.630000</td>\n",
       "      <td>NaN</td>\n",
       "      <td>0.026971</td>\n",
       "      <td>NaN</td>\n",
       "      <td>308.392500</td>\n",
       "      <td>1994.000000</td>\n",
       "      <td>NaN</td>\n",
       "      <td>NaN</td>\n",
       "      <td>NaN</td>\n",
       "      <td>2728.120000</td>\n",
       "    </tr>\n",
       "    <tr>\n",
       "      <th>50%</th>\n",
       "      <td>NaN</td>\n",
       "      <td>NaN</td>\n",
       "      <td>NaN</td>\n",
       "      <td>12.600000</td>\n",
       "      <td>NaN</td>\n",
       "      <td>0.053517</td>\n",
       "      <td>NaN</td>\n",
       "      <td>393.910000</td>\n",
       "      <td>2006.000000</td>\n",
       "      <td>NaN</td>\n",
       "      <td>NaN</td>\n",
       "      <td>NaN</td>\n",
       "      <td>5374.675000</td>\n",
       "    </tr>\n",
       "    <tr>\n",
       "      <th>75%</th>\n",
       "      <td>NaN</td>\n",
       "      <td>NaN</td>\n",
       "      <td>NaN</td>\n",
       "      <td>17.100000</td>\n",
       "      <td>NaN</td>\n",
       "      <td>0.095094</td>\n",
       "      <td>NaN</td>\n",
       "      <td>466.480000</td>\n",
       "      <td>2011.000000</td>\n",
       "      <td>NaN</td>\n",
       "      <td>NaN</td>\n",
       "      <td>NaN</td>\n",
       "      <td>8524.737500</td>\n",
       "    </tr>\n",
       "    <tr>\n",
       "      <th>max</th>\n",
       "      <td>NaN</td>\n",
       "      <td>NaN</td>\n",
       "      <td>NaN</td>\n",
       "      <td>21.350000</td>\n",
       "      <td>NaN</td>\n",
       "      <td>0.328391</td>\n",
       "      <td>NaN</td>\n",
       "      <td>667.220000</td>\n",
       "      <td>2016.000000</td>\n",
       "      <td>NaN</td>\n",
       "      <td>NaN</td>\n",
       "      <td>NaN</td>\n",
       "      <td>28612.760000</td>\n",
       "    </tr>\n",
       "  </tbody>\n",
       "</table>\n",
       "</div>"
      ],
      "text/plain": [
       "       Product_Identifier Supermarket_Identifier  \\\n",
       "count                3742                   3742   \n",
       "unique               1367                     10   \n",
       "top                 NCL31            CHUKWUDI017   \n",
       "freq                    9                    461   \n",
       "mean                  NaN                    NaN   \n",
       "std                   NaN                    NaN   \n",
       "min                   NaN                    NaN   \n",
       "25%                   NaN                    NaN   \n",
       "50%                   NaN                    NaN   \n",
       "75%                   NaN                    NaN   \n",
       "max                   NaN                    NaN   \n",
       "\n",
       "       Product_Supermarket_Identifier  Product_Weight Product_Fat_Content  \\\n",
       "count                            3742     3141.000000                3742   \n",
       "unique                           3742             NaN                   3   \n",
       "top                 FDK28_CHUKWUDI027             NaN             Low Fat   \n",
       "freq                                1             NaN                2272   \n",
       "mean                              NaN       12.870640                 NaN   \n",
       "std                               NaN        4.730432                 NaN   \n",
       "min                               NaN        4.555000                 NaN   \n",
       "25%                               NaN        8.630000                 NaN   \n",
       "50%                               NaN       12.600000                 NaN   \n",
       "75%                               NaN       17.100000                 NaN   \n",
       "max                               NaN       21.350000                 NaN   \n",
       "\n",
       "        Product_Shelf_Visibility Product_Type  Product_Price  \\\n",
       "count                3742.000000         3742    3742.000000   \n",
       "unique                       NaN           16            NaN   \n",
       "top                          NaN  Snack Foods            NaN   \n",
       "freq                         NaN          563            NaN   \n",
       "mean                    0.066613          NaN     391.815315   \n",
       "std                     0.052951          NaN     120.204222   \n",
       "min                     0.000000          NaN      78.730000   \n",
       "25%                     0.026971          NaN     308.392500   \n",
       "50%                     0.053517          NaN     393.910000   \n",
       "75%                     0.095094          NaN     466.480000   \n",
       "max                     0.328391          NaN     667.220000   \n",
       "\n",
       "        Supermarket_Opening_Year Supermarket _Size Supermarket_Location_Type  \\\n",
       "count                3742.000000              2616                      3742   \n",
       "unique                       NaN                 3                         3   \n",
       "top                          NaN            Medium                 Cluster 3   \n",
       "freq                         NaN              1155                      1438   \n",
       "mean                 2004.778461               NaN                       NaN   \n",
       "std                     8.276712               NaN                       NaN   \n",
       "min                  1992.000000               NaN                       NaN   \n",
       "25%                  1994.000000               NaN                       NaN   \n",
       "50%                  2006.000000               NaN                       NaN   \n",
       "75%                  2011.000000               NaN                       NaN   \n",
       "max                  2016.000000               NaN                       NaN   \n",
       "\n",
       "         Supermarket_Type  Product_Supermarket_Sales  \n",
       "count                3742                3742.000000  \n",
       "unique                  4                        NaN  \n",
       "top     Supermarket Type1                        NaN  \n",
       "freq                 2495                        NaN  \n",
       "mean                  NaN                6103.735353  \n",
       "std                   NaN                4456.169125  \n",
       "min                   NaN                  83.230000  \n",
       "25%                   NaN                2728.120000  \n",
       "50%                   NaN                5374.675000  \n",
       "75%                   NaN                8524.737500  \n",
       "max                   NaN               28612.760000  "
      ]
     },
     "execution_count": 14,
     "metadata": {},
     "output_type": "execute_result"
    }
   ],
   "source": [
    "df.describe(include='all')"
   ]
  },
  {
   "cell_type": "code",
   "execution_count": 15,
   "metadata": {},
   "outputs": [
    {
     "data": {
      "text/plain": [
       "Product_Identifier                   0\n",
       "Supermarket_Identifier               0\n",
       "Product_Supermarket_Identifier       0\n",
       "Product_Weight                     601\n",
       "Product_Fat_Content                  0\n",
       "Product_Shelf_Visibility             0\n",
       "Product_Type                         0\n",
       "Product_Price                        0\n",
       "Supermarket_Opening_Year             0\n",
       "Supermarket _Size                 1126\n",
       "Supermarket_Location_Type            0\n",
       "Supermarket_Type                     0\n",
       "Product_Supermarket_Sales            0\n",
       "dtype: int64"
      ]
     },
     "execution_count": 15,
     "metadata": {},
     "output_type": "execute_result"
    }
   ],
   "source": [
    "df.isnull().sum()"
   ]
  },
  {
   "cell_type": "code",
   "execution_count": 16,
   "metadata": {},
   "outputs": [
    {
     "data": {
      "text/plain": [
       "Product_Identifier                  0\n",
       "Supermarket_Identifier              0\n",
       "Product_Supermarket_Identifier      0\n",
       "Product_Weight                    201\n",
       "Product_Fat_Content                 0\n",
       "Product_Shelf_Visibility            0\n",
       "Product_Type                        0\n",
       "Product_Price                       0\n",
       "Supermarket_Opening_Year            0\n",
       "Supermarket _Size                 324\n",
       "Supermarket_Location_Type           0\n",
       "Supermarket_Type                    0\n",
       "dtype: int64"
      ]
     },
     "execution_count": 16,
     "metadata": {},
     "output_type": "execute_result"
    }
   ],
   "source": [
    "df2.isnull().sum()"
   ]
  },
  {
   "cell_type": "code",
   "execution_count": 17,
   "metadata": {},
   "outputs": [
    {
     "data": {
      "text/plain": [
       "'Medium'"
      ]
     },
     "execution_count": 17,
     "metadata": {},
     "output_type": "execute_result"
    }
   ],
   "source": [
    "#check the mode of the supermarket size values\n",
    "df['Supermarket _Size'].value_counts().idxmax()"
   ]
  },
  {
   "cell_type": "code",
   "execution_count": 18,
   "metadata": {},
   "outputs": [
    {
     "data": {
      "text/plain": [
       "'Medium'"
      ]
     },
     "execution_count": 18,
     "metadata": {},
     "output_type": "execute_result"
    }
   ],
   "source": [
    "df2['Supermarket _Size'].value_counts().idxmax()"
   ]
  },
  {
   "cell_type": "code",
   "execution_count": 19,
   "metadata": {
    "collapsed": true
   },
   "outputs": [],
   "source": [
    "#replace the missing 'Supermarket_Size' values by the most frequent \n",
    "df[\"Supermarket _Size\"].replace(np.nan, \"Medium\", inplace=True)\n",
    "df2[\"Supermarket _Size\"].replace(np.nan, \"Medium\", inplace=True)"
   ]
  },
  {
   "cell_type": "code",
   "execution_count": 20,
   "metadata": {},
   "outputs": [
    {
     "data": {
      "text/plain": [
       "Product_Identifier                  0\n",
       "Supermarket_Identifier              0\n",
       "Product_Supermarket_Identifier      0\n",
       "Product_Weight                    601\n",
       "Product_Fat_Content                 0\n",
       "Product_Shelf_Visibility            0\n",
       "Product_Type                        0\n",
       "Product_Price                       0\n",
       "Supermarket_Opening_Year            0\n",
       "Supermarket _Size                   0\n",
       "Supermarket_Location_Type           0\n",
       "Supermarket_Type                    0\n",
       "Product_Supermarket_Sales           0\n",
       "dtype: int64"
      ]
     },
     "execution_count": 20,
     "metadata": {},
     "output_type": "execute_result"
    }
   ],
   "source": [
    "df.isnull().sum()"
   ]
  },
  {
   "cell_type": "code",
   "execution_count": 21,
   "metadata": {},
   "outputs": [
    {
     "data": {
      "text/plain": [
       "Product_Identifier                  0\n",
       "Supermarket_Identifier              0\n",
       "Product_Supermarket_Identifier      0\n",
       "Product_Weight                    201\n",
       "Product_Fat_Content                 0\n",
       "Product_Shelf_Visibility            0\n",
       "Product_Type                        0\n",
       "Product_Price                       0\n",
       "Supermarket_Opening_Year            0\n",
       "Supermarket _Size                   0\n",
       "Supermarket_Location_Type           0\n",
       "Supermarket_Type                    0\n",
       "dtype: int64"
      ]
     },
     "execution_count": 21,
     "metadata": {},
     "output_type": "execute_result"
    }
   ],
   "source": [
    "df2.isnull().sum()"
   ]
  },
  {
   "cell_type": "code",
   "execution_count": 22,
   "metadata": {
    "collapsed": true
   },
   "outputs": [],
   "source": [
    "df.Product_Weight=df.sort_values(['Product_Identifier','Product_Weight']).Product_Weight.ffill( )\n"
   ]
  },
  {
   "cell_type": "code",
   "execution_count": 23,
   "metadata": {
    "collapsed": true
   },
   "outputs": [],
   "source": [
    "df2.Product_Weight=df.sort_values(['Product_Identifier','Product_Weight']).Product_Weight.ffill( )"
   ]
  },
  {
   "cell_type": "code",
   "execution_count": 24,
   "metadata": {},
   "outputs": [
    {
     "data": {
      "text/plain": [
       "Product_Identifier                0\n",
       "Supermarket_Identifier            0\n",
       "Product_Supermarket_Identifier    0\n",
       "Product_Weight                    0\n",
       "Product_Fat_Content               0\n",
       "Product_Shelf_Visibility          0\n",
       "Product_Type                      0\n",
       "Product_Price                     0\n",
       "Supermarket_Opening_Year          0\n",
       "Supermarket _Size                 0\n",
       "Supermarket_Location_Type         0\n",
       "Supermarket_Type                  0\n",
       "Product_Supermarket_Sales         0\n",
       "dtype: int64"
      ]
     },
     "execution_count": 24,
     "metadata": {},
     "output_type": "execute_result"
    }
   ],
   "source": [
    "df.isnull().sum()"
   ]
  },
  {
   "cell_type": "code",
   "execution_count": 25,
   "metadata": {},
   "outputs": [
    {
     "data": {
      "text/plain": [
       "Product_Identifier                0\n",
       "Supermarket_Identifier            0\n",
       "Product_Supermarket_Identifier    0\n",
       "Product_Weight                    0\n",
       "Product_Fat_Content               0\n",
       "Product_Shelf_Visibility          0\n",
       "Product_Type                      0\n",
       "Product_Price                     0\n",
       "Supermarket_Opening_Year          0\n",
       "Supermarket _Size                 0\n",
       "Supermarket_Location_Type         0\n",
       "Supermarket_Type                  0\n",
       "Product_Supermarket_Sales         0\n",
       "dtype: int64"
      ]
     },
     "execution_count": 25,
     "metadata": {},
     "output_type": "execute_result"
    }
   ],
   "source": [
    "df.isnull().sum()"
   ]
  },
  {
   "cell_type": "code",
   "execution_count": 26,
   "metadata": {
    "collapsed": true
   },
   "outputs": [],
   "source": [
    "# group 'Product_Identifier', 'Product_Weight' by 'Product_Identifier' so as to replace nan with the mean\n",
    "#of the corresponding 'Product_Identifier'\n",
    "df_gptest = df[['Product_Identifier', 'Product_Weight']]\n",
    "grouped_test1 = df_gptest.groupby(['Product_Identifier'],as_index=False).mean() "
   ]
  },
  {
   "cell_type": "code",
   "execution_count": 27,
   "metadata": {},
   "outputs": [
    {
     "data": {
      "text/html": [
       "<div>\n",
       "<style>\n",
       "    .dataframe thead tr:only-child th {\n",
       "        text-align: right;\n",
       "    }\n",
       "\n",
       "    .dataframe thead th {\n",
       "        text-align: left;\n",
       "    }\n",
       "\n",
       "    .dataframe tbody tr th {\n",
       "        vertical-align: top;\n",
       "    }\n",
       "</style>\n",
       "<table border=\"1\" class=\"dataframe\">\n",
       "  <thead>\n",
       "    <tr style=\"text-align: right;\">\n",
       "      <th></th>\n",
       "      <th>Product_Identifier</th>\n",
       "      <th>Supermarket_Identifier</th>\n",
       "      <th>Product_Supermarket_Identifier</th>\n",
       "      <th>Product_Weight</th>\n",
       "      <th>Product_Fat_Content</th>\n",
       "      <th>Product_Shelf_Visibility</th>\n",
       "      <th>Product_Type</th>\n",
       "      <th>Product_Price</th>\n",
       "      <th>Supermarket_Opening_Year</th>\n",
       "      <th>Supermarket _Size</th>\n",
       "      <th>Supermarket_Location_Type</th>\n",
       "      <th>Supermarket_Type</th>\n",
       "      <th>Product_Supermarket_Sales</th>\n",
       "    </tr>\n",
       "  </thead>\n",
       "  <tbody>\n",
       "    <tr>\n",
       "      <th>183</th>\n",
       "      <td>DRA12</td>\n",
       "      <td>CHUKWUDI010</td>\n",
       "      <td>DRA12_CHUKWUDI010</td>\n",
       "      <td>11.6</td>\n",
       "      <td>Low Fat</td>\n",
       "      <td>0.068535</td>\n",
       "      <td>Soft Drinks</td>\n",
       "      <td>357.54</td>\n",
       "      <td>2005</td>\n",
       "      <td>Medium</td>\n",
       "      <td>Cluster 3</td>\n",
       "      <td>Grocery Store</td>\n",
       "      <td>709.08</td>\n",
       "    </tr>\n",
       "    <tr>\n",
       "      <th>1391</th>\n",
       "      <td>DRA12</td>\n",
       "      <td>CHUKWUDI013</td>\n",
       "      <td>DRA12_CHUKWUDI013</td>\n",
       "      <td>11.6</td>\n",
       "      <td>Low Fat</td>\n",
       "      <td>0.040912</td>\n",
       "      <td>Soft Drinks</td>\n",
       "      <td>355.79</td>\n",
       "      <td>1994</td>\n",
       "      <td>High</td>\n",
       "      <td>Cluster 3</td>\n",
       "      <td>Supermarket Type1</td>\n",
       "      <td>6381.69</td>\n",
       "    </tr>\n",
       "    <tr>\n",
       "      <th>2103</th>\n",
       "      <td>DRA12</td>\n",
       "      <td>CHUKWUDI017</td>\n",
       "      <td>DRA12_CHUKWUDI017</td>\n",
       "      <td>11.6</td>\n",
       "      <td>Low Fat</td>\n",
       "      <td>0.041178</td>\n",
       "      <td>Soft Drinks</td>\n",
       "      <td>350.79</td>\n",
       "      <td>2014</td>\n",
       "      <td>Medium</td>\n",
       "      <td>Cluster 2</td>\n",
       "      <td>Supermarket Type1</td>\n",
       "      <td>6381.69</td>\n",
       "    </tr>\n",
       "    <tr>\n",
       "      <th>1719</th>\n",
       "      <td>DRA12</td>\n",
       "      <td>CHUKWUDI035</td>\n",
       "      <td>DRA12_CHUKWUDI035</td>\n",
       "      <td>11.6</td>\n",
       "      <td>Ultra Low fat</td>\n",
       "      <td>0.000000</td>\n",
       "      <td>Soft Drinks</td>\n",
       "      <td>354.79</td>\n",
       "      <td>2011</td>\n",
       "      <td>Small</td>\n",
       "      <td>Cluster 2</td>\n",
       "      <td>Supermarket Type1</td>\n",
       "      <td>2481.77</td>\n",
       "    </tr>\n",
       "    <tr>\n",
       "      <th>2592</th>\n",
       "      <td>DRA12</td>\n",
       "      <td>CHUKWUDI045</td>\n",
       "      <td>DRA12_CHUKWUDI045</td>\n",
       "      <td>11.6</td>\n",
       "      <td>Low Fat</td>\n",
       "      <td>0.000000</td>\n",
       "      <td>Soft Drinks</td>\n",
       "      <td>354.04</td>\n",
       "      <td>2009</td>\n",
       "      <td>Medium</td>\n",
       "      <td>Cluster 2</td>\n",
       "      <td>Supermarket Type1</td>\n",
       "      <td>9572.54</td>\n",
       "    </tr>\n",
       "  </tbody>\n",
       "</table>\n",
       "</div>"
      ],
      "text/plain": [
       "     Product_Identifier Supermarket_Identifier Product_Supermarket_Identifier  \\\n",
       "183               DRA12            CHUKWUDI010              DRA12_CHUKWUDI010   \n",
       "1391              DRA12            CHUKWUDI013              DRA12_CHUKWUDI013   \n",
       "2103              DRA12            CHUKWUDI017              DRA12_CHUKWUDI017   \n",
       "1719              DRA12            CHUKWUDI035              DRA12_CHUKWUDI035   \n",
       "2592              DRA12            CHUKWUDI045              DRA12_CHUKWUDI045   \n",
       "\n",
       "      Product_Weight Product_Fat_Content  Product_Shelf_Visibility  \\\n",
       "183             11.6             Low Fat                  0.068535   \n",
       "1391            11.6             Low Fat                  0.040912   \n",
       "2103            11.6             Low Fat                  0.041178   \n",
       "1719            11.6       Ultra Low fat                  0.000000   \n",
       "2592            11.6             Low Fat                  0.000000   \n",
       "\n",
       "     Product_Type  Product_Price  Supermarket_Opening_Year Supermarket _Size  \\\n",
       "183   Soft Drinks         357.54                      2005            Medium   \n",
       "1391  Soft Drinks         355.79                      1994              High   \n",
       "2103  Soft Drinks         350.79                      2014            Medium   \n",
       "1719  Soft Drinks         354.79                      2011             Small   \n",
       "2592  Soft Drinks         354.04                      2009            Medium   \n",
       "\n",
       "     Supermarket_Location_Type   Supermarket_Type  Product_Supermarket_Sales  \n",
       "183                  Cluster 3      Grocery Store                     709.08  \n",
       "1391                 Cluster 3  Supermarket Type1                    6381.69  \n",
       "2103                 Cluster 2  Supermarket Type1                    6381.69  \n",
       "1719                 Cluster 2  Supermarket Type1                    2481.77  \n",
       "2592                 Cluster 2  Supermarket Type1                    9572.54  "
      ]
     },
     "execution_count": 27,
     "metadata": {},
     "output_type": "execute_result"
    }
   ],
   "source": [
    "df.sort_values(['Product_Identifier','Supermarket_Identifier']).head()"
   ]
  },
  {
   "cell_type": "code",
   "execution_count": 28,
   "metadata": {},
   "outputs": [
    {
     "data": {
      "text/plain": [
       "Product_Identifier                 object\n",
       "Supermarket_Identifier             object\n",
       "Product_Supermarket_Identifier     object\n",
       "Product_Weight                    float64\n",
       "Product_Fat_Content                object\n",
       "Product_Shelf_Visibility          float64\n",
       "Product_Type                       object\n",
       "Product_Price                     float64\n",
       "Supermarket_Opening_Year            int64\n",
       "Supermarket _Size                  object\n",
       "Supermarket_Location_Type          object\n",
       "Supermarket_Type                   object\n",
       "Product_Supermarket_Sales         float64\n",
       "dtype: object"
      ]
     },
     "execution_count": 28,
     "metadata": {},
     "output_type": "execute_result"
    }
   ],
   "source": [
    "df.dtypes"
   ]
  },
  {
   "cell_type": "markdown",
   "metadata": {},
   "source": [
    "# product that gives a better margin at specific stores"
   ]
  },
  {
   "cell_type": "code",
   "execution_count": 29,
   "metadata": {},
   "outputs": [
    {
     "data": {
      "text/html": [
       "<div>\n",
       "<style>\n",
       "    .dataframe thead tr:only-child th {\n",
       "        text-align: right;\n",
       "    }\n",
       "\n",
       "    .dataframe thead th {\n",
       "        text-align: left;\n",
       "    }\n",
       "\n",
       "    .dataframe tbody tr th {\n",
       "        vertical-align: top;\n",
       "    }\n",
       "</style>\n",
       "<table border=\"1\" class=\"dataframe\">\n",
       "  <thead>\n",
       "    <tr style=\"text-align: right;\">\n",
       "      <th></th>\n",
       "      <th>Product_Type</th>\n",
       "      <th>Supermarket_Identifier</th>\n",
       "      <th>Product_Supermarket_Sales</th>\n",
       "    </tr>\n",
       "  </thead>\n",
       "  <tbody>\n",
       "    <tr>\n",
       "      <th>155</th>\n",
       "      <td>Starchy Foods</td>\n",
       "      <td>CHUKWUDI027</td>\n",
       "      <td>10260.930000</td>\n",
       "    </tr>\n",
       "    <tr>\n",
       "      <th>157</th>\n",
       "      <td>Starchy Foods</td>\n",
       "      <td>CHUKWUDI045</td>\n",
       "      <td>10196.014286</td>\n",
       "    </tr>\n",
       "    <tr>\n",
       "      <th>156</th>\n",
       "      <td>Starchy Foods</td>\n",
       "      <td>CHUKWUDI035</td>\n",
       "      <td>9732.888889</td>\n",
       "    </tr>\n",
       "    <tr>\n",
       "      <th>152</th>\n",
       "      <td>Starchy Foods</td>\n",
       "      <td>CHUKWUDI017</td>\n",
       "      <td>8741.955000</td>\n",
       "    </tr>\n",
       "    <tr>\n",
       "      <th>158</th>\n",
       "      <td>Starchy Foods</td>\n",
       "      <td>CHUKWUDI046</td>\n",
       "      <td>7449.885000</td>\n",
       "    </tr>\n",
       "  </tbody>\n",
       "</table>\n",
       "</div>"
      ],
      "text/plain": [
       "      Product_Type Supermarket_Identifier  Product_Supermarket_Sales\n",
       "155  Starchy Foods            CHUKWUDI027               10260.930000\n",
       "157  Starchy Foods            CHUKWUDI045               10196.014286\n",
       "156  Starchy Foods            CHUKWUDI035                9732.888889\n",
       "152  Starchy Foods            CHUKWUDI017                8741.955000\n",
       "158  Starchy Foods            CHUKWUDI046                7449.885000"
      ]
     },
     "execution_count": 29,
     "metadata": {},
     "output_type": "execute_result"
    }
   ],
   "source": [
    "grouped_1=df[['Product_Type','Supermarket_Identifier','Product_Supermarket_Sales']]\n",
    "grpd_1=grouped_1.groupby(['Product_Type','Supermarket_Identifier'],as_index=False).mean()\n",
    "grpd_1=grpd_1.sort_values(['Product_Type','Product_Supermarket_Sales'], ascending=False)\n",
    "grpd_1.head()"
   ]
  },
  {
   "cell_type": "code",
   "execution_count": 30,
   "metadata": {},
   "outputs": [
    {
     "data": {
      "text/html": [
       "<div>\n",
       "<style>\n",
       "    .dataframe thead tr:only-child th {\n",
       "        text-align: right;\n",
       "    }\n",
       "\n",
       "    .dataframe thead th {\n",
       "        text-align: left;\n",
       "    }\n",
       "\n",
       "    .dataframe tbody tr th {\n",
       "        vertical-align: top;\n",
       "    }\n",
       "</style>\n",
       "<table border=\"1\" class=\"dataframe\">\n",
       "  <thead>\n",
       "    <tr>\n",
       "      <th></th>\n",
       "      <th colspan=\"10\" halign=\"left\">Product_Supermarket_Sales</th>\n",
       "    </tr>\n",
       "    <tr>\n",
       "      <th>Supermarket_Identifier</th>\n",
       "      <th>CHUKWUDI010</th>\n",
       "      <th>CHUKWUDI013</th>\n",
       "      <th>CHUKWUDI017</th>\n",
       "      <th>CHUKWUDI018</th>\n",
       "      <th>CHUKWUDI019</th>\n",
       "      <th>CHUKWUDI027</th>\n",
       "      <th>CHUKWUDI035</th>\n",
       "      <th>CHUKWUDI045</th>\n",
       "      <th>CHUKWUDI046</th>\n",
       "      <th>CHUKWUDI049</th>\n",
       "    </tr>\n",
       "    <tr>\n",
       "      <th>Product_Type</th>\n",
       "      <th></th>\n",
       "      <th></th>\n",
       "      <th></th>\n",
       "      <th></th>\n",
       "      <th></th>\n",
       "      <th></th>\n",
       "      <th></th>\n",
       "      <th></th>\n",
       "      <th></th>\n",
       "      <th></th>\n",
       "    </tr>\n",
       "  </thead>\n",
       "  <tbody>\n",
       "    <tr>\n",
       "      <th>Baking Goods</th>\n",
       "      <td>613.550000</td>\n",
       "      <td>3587.723590</td>\n",
       "      <td>6559.312258</td>\n",
       "      <td>5965.102400</td>\n",
       "      <td>1046.508889</td>\n",
       "      <td>11339.289048</td>\n",
       "      <td>7919.274500</td>\n",
       "      <td>7974.258261</td>\n",
       "      <td>5415.839333</td>\n",
       "      <td>6617.995862</td>\n",
       "    </tr>\n",
       "    <tr>\n",
       "      <th>Breads</th>\n",
       "      <td>763.507000</td>\n",
       "      <td>3746.193571</td>\n",
       "      <td>7629.235833</td>\n",
       "      <td>5656.612308</td>\n",
       "      <td>994.956250</td>\n",
       "      <td>11683.730909</td>\n",
       "      <td>7699.560000</td>\n",
       "      <td>6673.813333</td>\n",
       "      <td>6085.041111</td>\n",
       "      <td>6195.625000</td>\n",
       "    </tr>\n",
       "    <tr>\n",
       "      <th>Breakfast</th>\n",
       "      <td>693.265000</td>\n",
       "      <td>2946.832000</td>\n",
       "      <td>5622.888750</td>\n",
       "      <td>5352.617500</td>\n",
       "      <td>1316.620000</td>\n",
       "      <td>14821.710000</td>\n",
       "      <td>9458.105000</td>\n",
       "      <td>6719.033333</td>\n",
       "      <td>4819.281667</td>\n",
       "      <td>6458.735714</td>\n",
       "    </tr>\n",
       "    <tr>\n",
       "      <th>Canned</th>\n",
       "      <td>530.643500</td>\n",
       "      <td>3624.978788</td>\n",
       "      <td>8348.507500</td>\n",
       "      <td>5003.372414</td>\n",
       "      <td>1382.552222</td>\n",
       "      <td>12930.907857</td>\n",
       "      <td>8100.884857</td>\n",
       "      <td>7754.750313</td>\n",
       "      <td>6586.063125</td>\n",
       "      <td>5926.381429</td>\n",
       "    </tr>\n",
       "    <tr>\n",
       "      <th>Dairy</th>\n",
       "      <td>457.737143</td>\n",
       "      <td>3265.642581</td>\n",
       "      <td>7984.103030</td>\n",
       "      <td>5170.873125</td>\n",
       "      <td>1020.339167</td>\n",
       "      <td>13586.066429</td>\n",
       "      <td>9339.110400</td>\n",
       "      <td>7125.349355</td>\n",
       "      <td>4966.000435</td>\n",
       "      <td>5452.311935</td>\n",
       "    </tr>\n",
       "    <tr>\n",
       "      <th>Frozen Foods</th>\n",
       "      <td>534.416000</td>\n",
       "      <td>3791.764118</td>\n",
       "      <td>7837.714773</td>\n",
       "      <td>5463.104194</td>\n",
       "      <td>1243.465000</td>\n",
       "      <td>12916.354000</td>\n",
       "      <td>8060.174667</td>\n",
       "      <td>7687.735161</td>\n",
       "      <td>5901.922368</td>\n",
       "      <td>5412.150345</td>\n",
       "    </tr>\n",
       "    <tr>\n",
       "      <th>Fruits and Vegetables</th>\n",
       "      <td>592.353750</td>\n",
       "      <td>4118.780000</td>\n",
       "      <td>7899.102615</td>\n",
       "      <td>5808.187069</td>\n",
       "      <td>941.421471</td>\n",
       "      <td>14136.566667</td>\n",
       "      <td>7355.703519</td>\n",
       "      <td>7706.371587</td>\n",
       "      <td>5637.889804</td>\n",
       "      <td>6832.300000</td>\n",
       "    </tr>\n",
       "    <tr>\n",
       "      <th>Hard Drinks</th>\n",
       "      <td>398.055714</td>\n",
       "      <td>3988.882222</td>\n",
       "      <td>7696.231667</td>\n",
       "      <td>4239.149000</td>\n",
       "      <td>778.986667</td>\n",
       "      <td>10890.160000</td>\n",
       "      <td>7246.494444</td>\n",
       "      <td>6792.184615</td>\n",
       "      <td>6333.837500</td>\n",
       "      <td>6414.151250</td>\n",
       "    </tr>\n",
       "    <tr>\n",
       "      <th>Health and Hygiene</th>\n",
       "      <td>740.175789</td>\n",
       "      <td>3934.721875</td>\n",
       "      <td>6172.311379</td>\n",
       "      <td>4447.233750</td>\n",
       "      <td>1367.443333</td>\n",
       "      <td>11163.900000</td>\n",
       "      <td>7693.403000</td>\n",
       "      <td>6909.424000</td>\n",
       "      <td>5986.590370</td>\n",
       "      <td>5986.467778</td>\n",
       "    </tr>\n",
       "    <tr>\n",
       "      <th>Household</th>\n",
       "      <td>662.520588</td>\n",
       "      <td>4196.722667</td>\n",
       "      <td>6869.570714</td>\n",
       "      <td>5811.509722</td>\n",
       "      <td>894.640690</td>\n",
       "      <td>12649.425814</td>\n",
       "      <td>7452.314375</td>\n",
       "      <td>7482.243243</td>\n",
       "      <td>5859.284878</td>\n",
       "      <td>6658.370667</td>\n",
       "    </tr>\n",
       "    <tr>\n",
       "      <th>Meat</th>\n",
       "      <td>511.491765</td>\n",
       "      <td>3366.414348</td>\n",
       "      <td>7271.476522</td>\n",
       "      <td>5985.542857</td>\n",
       "      <td>1296.646250</td>\n",
       "      <td>12450.377000</td>\n",
       "      <td>7929.263000</td>\n",
       "      <td>6776.178947</td>\n",
       "      <td>4983.976667</td>\n",
       "      <td>6489.953200</td>\n",
       "    </tr>\n",
       "    <tr>\n",
       "      <th>Others</th>\n",
       "      <td>434.100000</td>\n",
       "      <td>4682.239091</td>\n",
       "      <td>8639.797500</td>\n",
       "      <td>5373.377778</td>\n",
       "      <td>904.750000</td>\n",
       "      <td>10287.860000</td>\n",
       "      <td>6912.192857</td>\n",
       "      <td>5904.607500</td>\n",
       "      <td>5392.426667</td>\n",
       "      <td>7443.274444</td>\n",
       "    </tr>\n",
       "    <tr>\n",
       "      <th>Seafood</th>\n",
       "      <td>737.375000</td>\n",
       "      <td>2336.960000</td>\n",
       "      <td>5974.725000</td>\n",
       "      <td>9437.160000</td>\n",
       "      <td>633.760000</td>\n",
       "      <td>9053.217500</td>\n",
       "      <td>11183.776667</td>\n",
       "      <td>8572.173333</td>\n",
       "      <td>9235.897500</td>\n",
       "      <td>5468.300000</td>\n",
       "    </tr>\n",
       "    <tr>\n",
       "      <th>Snack Foods</th>\n",
       "      <td>733.046857</td>\n",
       "      <td>4782.435893</td>\n",
       "      <td>7583.069167</td>\n",
       "      <td>5809.803710</td>\n",
       "      <td>997.890270</td>\n",
       "      <td>11977.835000</td>\n",
       "      <td>8035.948448</td>\n",
       "      <td>7068.454074</td>\n",
       "      <td>5632.019831</td>\n",
       "      <td>6218.353289</td>\n",
       "    </tr>\n",
       "    <tr>\n",
       "      <th>Soft Drinks</th>\n",
       "      <td>607.543333</td>\n",
       "      <td>4864.068000</td>\n",
       "      <td>7583.601667</td>\n",
       "      <td>5281.458421</td>\n",
       "      <td>1021.106923</td>\n",
       "      <td>12308.851538</td>\n",
       "      <td>6992.748889</td>\n",
       "      <td>7468.335556</td>\n",
       "      <td>5514.552308</td>\n",
       "      <td>7328.415455</td>\n",
       "    </tr>\n",
       "    <tr>\n",
       "      <th>Starchy Foods</th>\n",
       "      <td>616.698333</td>\n",
       "      <td>3775.086000</td>\n",
       "      <td>8741.955000</td>\n",
       "      <td>6114.541667</td>\n",
       "      <td>665.800000</td>\n",
       "      <td>10260.930000</td>\n",
       "      <td>9732.888889</td>\n",
       "      <td>10196.014286</td>\n",
       "      <td>7449.885000</td>\n",
       "      <td>6649.261250</td>\n",
       "    </tr>\n",
       "  </tbody>\n",
       "</table>\n",
       "</div>"
      ],
      "text/plain": [
       "                       Product_Supermarket_Sales                            \\\n",
       "Supermarket_Identifier               CHUKWUDI010  CHUKWUDI013  CHUKWUDI017   \n",
       "Product_Type                                                                 \n",
       "Baking Goods                          613.550000  3587.723590  6559.312258   \n",
       "Breads                                763.507000  3746.193571  7629.235833   \n",
       "Breakfast                             693.265000  2946.832000  5622.888750   \n",
       "Canned                                530.643500  3624.978788  8348.507500   \n",
       "Dairy                                 457.737143  3265.642581  7984.103030   \n",
       "Frozen Foods                          534.416000  3791.764118  7837.714773   \n",
       "Fruits and Vegetables                 592.353750  4118.780000  7899.102615   \n",
       "Hard Drinks                           398.055714  3988.882222  7696.231667   \n",
       "Health and Hygiene                    740.175789  3934.721875  6172.311379   \n",
       "Household                             662.520588  4196.722667  6869.570714   \n",
       "Meat                                  511.491765  3366.414348  7271.476522   \n",
       "Others                                434.100000  4682.239091  8639.797500   \n",
       "Seafood                               737.375000  2336.960000  5974.725000   \n",
       "Snack Foods                           733.046857  4782.435893  7583.069167   \n",
       "Soft Drinks                           607.543333  4864.068000  7583.601667   \n",
       "Starchy Foods                         616.698333  3775.086000  8741.955000   \n",
       "\n",
       "                                                                              \\\n",
       "Supermarket_Identifier  CHUKWUDI018  CHUKWUDI019   CHUKWUDI027   CHUKWUDI035   \n",
       "Product_Type                                                                   \n",
       "Baking Goods            5965.102400  1046.508889  11339.289048   7919.274500   \n",
       "Breads                  5656.612308   994.956250  11683.730909   7699.560000   \n",
       "Breakfast               5352.617500  1316.620000  14821.710000   9458.105000   \n",
       "Canned                  5003.372414  1382.552222  12930.907857   8100.884857   \n",
       "Dairy                   5170.873125  1020.339167  13586.066429   9339.110400   \n",
       "Frozen Foods            5463.104194  1243.465000  12916.354000   8060.174667   \n",
       "Fruits and Vegetables   5808.187069   941.421471  14136.566667   7355.703519   \n",
       "Hard Drinks             4239.149000   778.986667  10890.160000   7246.494444   \n",
       "Health and Hygiene      4447.233750  1367.443333  11163.900000   7693.403000   \n",
       "Household               5811.509722   894.640690  12649.425814   7452.314375   \n",
       "Meat                    5985.542857  1296.646250  12450.377000   7929.263000   \n",
       "Others                  5373.377778   904.750000  10287.860000   6912.192857   \n",
       "Seafood                 9437.160000   633.760000   9053.217500  11183.776667   \n",
       "Snack Foods             5809.803710   997.890270  11977.835000   8035.948448   \n",
       "Soft Drinks             5281.458421  1021.106923  12308.851538   6992.748889   \n",
       "Starchy Foods           6114.541667   665.800000  10260.930000   9732.888889   \n",
       "\n",
       "                                                                \n",
       "Supermarket_Identifier   CHUKWUDI045  CHUKWUDI046  CHUKWUDI049  \n",
       "Product_Type                                                    \n",
       "Baking Goods             7974.258261  5415.839333  6617.995862  \n",
       "Breads                   6673.813333  6085.041111  6195.625000  \n",
       "Breakfast                6719.033333  4819.281667  6458.735714  \n",
       "Canned                   7754.750313  6586.063125  5926.381429  \n",
       "Dairy                    7125.349355  4966.000435  5452.311935  \n",
       "Frozen Foods             7687.735161  5901.922368  5412.150345  \n",
       "Fruits and Vegetables    7706.371587  5637.889804  6832.300000  \n",
       "Hard Drinks              6792.184615  6333.837500  6414.151250  \n",
       "Health and Hygiene       6909.424000  5986.590370  5986.467778  \n",
       "Household                7482.243243  5859.284878  6658.370667  \n",
       "Meat                     6776.178947  4983.976667  6489.953200  \n",
       "Others                   5904.607500  5392.426667  7443.274444  \n",
       "Seafood                  8572.173333  9235.897500  5468.300000  \n",
       "Snack Foods              7068.454074  5632.019831  6218.353289  \n",
       "Soft Drinks              7468.335556  5514.552308  7328.415455  \n",
       "Starchy Foods           10196.014286  7449.885000  6649.261250  "
      ]
     },
     "execution_count": 30,
     "metadata": {},
     "output_type": "execute_result"
    }
   ],
   "source": [
    "grouped_pivot = grpd_1.pivot(index='Product_Type',columns='Supermarket_Identifier')\n",
    "grouped_pivot"
   ]
  },
  {
   "cell_type": "code",
   "execution_count": 31,
   "metadata": {},
   "outputs": [
    {
     "data": {
      "image/png": "[encoded data removed]",
      "text/plain": [
       "<matplotlib.figure.Figure at 0x1bd2f200b70>"
      ]
     },
     "metadata": {},
     "output_type": "display_data"
    }
   ],
   "source": [
    "fig, ax = plt.subplots()\n",
    "im = ax.pcolor(grouped_pivot, cmap='RdBu')\n",
    "\n",
    "#label names\n",
    "row_labels = grouped_pivot.columns.levels[1]\n",
    "col_labels = grouped_pivot.index\n",
    "\n",
    "#move ticks and labels to the center\n",
    "ax.set_xticks(np.arange(grouped_pivot.shape[1]) + 0.5, minor=False)\n",
    "ax.set_yticks(np.arange(grouped_pivot.shape[0]) + 0.5, minor=False)\n",
    "\n",
    "#insert labels\n",
    "ax.set_xticklabels(row_labels, minor=False)\n",
    "ax.set_yticklabels(col_labels, minor=False)\n",
    "\n",
    "#rotate label if too long\n",
    "plt.xticks(rotation=90)\n",
    "\n",
    "fig.colorbar(im)\n",
    "plt.show()"
   ]
  },
  {
   "cell_type": "markdown",
   "metadata": {},
   "source": [
    "# Supermarket Type analysis"
   ]
  },
  {
   "cell_type": "code",
   "execution_count": 32,
   "metadata": {},
   "outputs": [
    {
     "data": {
      "text/html": [
       "<div>\n",
       "<style>\n",
       "    .dataframe thead tr:only-child th {\n",
       "        text-align: right;\n",
       "    }\n",
       "\n",
       "    .dataframe thead th {\n",
       "        text-align: left;\n",
       "    }\n",
       "\n",
       "    .dataframe tbody tr th {\n",
       "        vertical-align: top;\n",
       "    }\n",
       "</style>\n",
       "<table border=\"1\" class=\"dataframe\">\n",
       "  <thead>\n",
       "    <tr style=\"text-align: right;\">\n",
       "      <th></th>\n",
       "      <th>Supermarket_Type</th>\n",
       "      <th>Product_Supermarket_Sales</th>\n",
       "    </tr>\n",
       "  </thead>\n",
       "  <tbody>\n",
       "    <tr>\n",
       "      <th>0</th>\n",
       "      <td>Grocery Store</td>\n",
       "      <td>821.426611</td>\n",
       "    </tr>\n",
       "    <tr>\n",
       "      <th>1</th>\n",
       "      <td>Supermarket Type1</td>\n",
       "      <td>6434.596537</td>\n",
       "    </tr>\n",
       "    <tr>\n",
       "      <th>2</th>\n",
       "      <td>Supermarket Type2</td>\n",
       "      <td>5588.015335</td>\n",
       "    </tr>\n",
       "    <tr>\n",
       "      <th>3</th>\n",
       "      <td>Supermarket Type3</td>\n",
       "      <td>12541.373382</td>\n",
       "    </tr>\n",
       "  </tbody>\n",
       "</table>\n",
       "</div>"
      ],
      "text/plain": [
       "    Supermarket_Type  Product_Supermarket_Sales\n",
       "0      Grocery Store                 821.426611\n",
       "1  Supermarket Type1                6434.596537\n",
       "2  Supermarket Type2                5588.015335\n",
       "3  Supermarket Type3               12541.373382"
      ]
     },
     "execution_count": 32,
     "metadata": {},
     "output_type": "execute_result"
    }
   ],
   "source": [
    "grouped_2=df[['Supermarket_Type', 'Product_Supermarket_Sales']]\n",
    "grpd_2=grouped_2.groupby(['Supermarket_Type'],as_index=False).mean()\n",
    "grpd_2"
   ]
  },
  {
   "cell_type": "code",
   "execution_count": 33,
   "metadata": {},
   "outputs": [
    {
     "data": {
      "text/plain": [
       "<matplotlib.axes._subplots.AxesSubplot at 0x1bd2f200828>"
      ]
     },
     "execution_count": 33,
     "metadata": {},
     "output_type": "execute_result"
    },
    {
     "data": {
      "image/png": "[encoded data removed]",
      "text/plain": [
       "<matplotlib.figure.Figure at 0x1bd2f3880f0>"
      ]
     },
     "metadata": {},
     "output_type": "display_data"
    }
   ],
   "source": [
    "sns.boxplot(x=\"Supermarket_Type\", y=\"Product_Supermarket_Sales\", data=df)"
   ]
  },
  {
   "cell_type": "code",
   "execution_count": 34,
   "metadata": {},
   "outputs": [
    {
     "name": "stdout",
     "output_type": "stream",
     "text": [
      "ANOVA results: F= 837.407760675 , P = 0.0\n"
     ]
    }
   ],
   "source": [
    "grpd_2=grouped_2.groupby(['Supermarket_Type'],as_index=False)\n",
    "f_val, p_val = stats.f_oneway(grpd_2.get_group('Supermarket Type1')['Product_Supermarket_Sales'], grpd_2.get_group('Supermarket Type2')['Product_Supermarket_Sales'], grpd_2.get_group('Supermarket Type3')['Product_Supermarket_Sales'], grpd_2.get_group('Grocery Store')['Product_Supermarket_Sales'])  \n",
    "print( \"ANOVA results: F=\", f_val, \", P =\", p_val)   "
   ]
  },
  {
   "cell_type": "code",
   "execution_count": 35,
   "metadata": {},
   "outputs": [
    {
     "data": {
      "text/plain": [
       "Supermarket Type1    2495\n",
       "Grocery Store         543\n",
       "Supermarket Type2     358\n",
       "Supermarket Type3     346\n",
       "Name: Supermarket_Type, dtype: int64"
      ]
     },
     "execution_count": 35,
     "metadata": {},
     "output_type": "execute_result"
    }
   ],
   "source": [
    "df['Supermarket_Type'].value_counts()"
   ]
  },
  {
   "cell_type": "markdown",
   "metadata": {},
   "source": [
    "# Supermarket_Location_Type analysis"
   ]
  },
  {
   "cell_type": "code",
   "execution_count": 36,
   "metadata": {},
   "outputs": [
    {
     "data": {
      "text/html": [
       "<div>\n",
       "<style>\n",
       "    .dataframe thead tr:only-child th {\n",
       "        text-align: right;\n",
       "    }\n",
       "\n",
       "    .dataframe thead th {\n",
       "        text-align: left;\n",
       "    }\n",
       "\n",
       "    .dataframe tbody tr th {\n",
       "        vertical-align: top;\n",
       "    }\n",
       "</style>\n",
       "<table border=\"1\" class=\"dataframe\">\n",
       "  <thead>\n",
       "    <tr style=\"text-align: right;\">\n",
       "      <th></th>\n",
       "      <th>Supermarket_Location_Type</th>\n",
       "      <th>Product_Supermarket_Sales</th>\n",
       "    </tr>\n",
       "  </thead>\n",
       "  <tbody>\n",
       "    <tr>\n",
       "      <th>0</th>\n",
       "      <td>Cluster 1</td>\n",
       "      <td>4907.270494</td>\n",
       "    </tr>\n",
       "    <tr>\n",
       "      <th>1</th>\n",
       "      <td>Cluster 2</td>\n",
       "      <td>7581.598620</td>\n",
       "    </tr>\n",
       "    <tr>\n",
       "      <th>2</th>\n",
       "      <td>Cluster 3</td>\n",
       "      <td>5770.437719</td>\n",
       "    </tr>\n",
       "  </tbody>\n",
       "</table>\n",
       "</div>"
      ],
      "text/plain": [
       "  Supermarket_Location_Type  Product_Supermarket_Sales\n",
       "0                 Cluster 1                4907.270494\n",
       "1                 Cluster 2                7581.598620\n",
       "2                 Cluster 3                5770.437719"
      ]
     },
     "execution_count": 36,
     "metadata": {},
     "output_type": "execute_result"
    }
   ],
   "source": [
    "grouped_3=df[['Supermarket_Location_Type', 'Product_Supermarket_Sales']]\n",
    "grpd_3=grouped_3.groupby(['Supermarket_Location_Type'],as_index=False).mean()\n",
    "grpd_3"
   ]
  },
  {
   "cell_type": "code",
   "execution_count": 37,
   "metadata": {},
   "outputs": [
    {
     "data": {
      "text/plain": [
       "Cluster 3    1438\n",
       "Cluster 2    1210\n",
       "Cluster 1    1094\n",
       "Name: Supermarket_Location_Type, dtype: int64"
      ]
     },
     "execution_count": 37,
     "metadata": {},
     "output_type": "execute_result"
    }
   ],
   "source": [
    "df['Supermarket_Location_Type'].value_counts()"
   ]
  },
  {
   "cell_type": "code",
   "execution_count": 38,
   "metadata": {},
   "outputs": [
    {
     "data": {
      "text/plain": [
       "<matplotlib.axes._subplots.AxesSubplot at 0x1bd2f6619e8>"
      ]
     },
     "execution_count": 38,
     "metadata": {},
     "output_type": "execute_result"
    },
    {
     "data": {
      "image/png": "[encoded data removed]",
      "text/plain": [
       "<matplotlib.figure.Figure at 0x1bd2f5a12b0>"
      ]
     },
     "metadata": {},
     "output_type": "display_data"
    }
   ],
   "source": [
    "sns.boxplot(x=\"Supermarket_Location_Type\", y=\"Product_Supermarket_Sales\", data=df)"
   ]
  },
  {
   "cell_type": "code",
   "execution_count": 39,
   "metadata": {},
   "outputs": [
    {
     "name": "stdout",
     "output_type": "stream",
     "text": [
      "ANOVA results: F= 116.8087028 , P = 6.19975673543e-50\n"
     ]
    }
   ],
   "source": [
    "grpd_3=grouped_3.groupby(['Supermarket_Location_Type'],as_index=False)\n",
    "f_val, p_val = stats.f_oneway(grpd_3.get_group('Cluster 1')['Product_Supermarket_Sales'], grpd_3.get_group('Cluster 2')['Product_Supermarket_Sales'], grpd_3.get_group('Cluster 3')['Product_Supermarket_Sales'])  \n",
    "print( \"ANOVA results: F=\", f_val, \", P =\", p_val)   "
   ]
  },
  {
   "cell_type": "markdown",
   "metadata": {},
   "source": [
    "# Product_Fat_Content analysis"
   ]
  },
  {
   "cell_type": "code",
   "execution_count": 40,
   "metadata": {},
   "outputs": [
    {
     "data": {
      "text/plain": [
       "Low Fat          2272\n",
       "Normal Fat       1341\n",
       "Ultra Low fat     129\n",
       "Name: Product_Fat_Content, dtype: int64"
      ]
     },
     "execution_count": 40,
     "metadata": {},
     "output_type": "execute_result"
    }
   ],
   "source": [
    "df['Product_Fat_Content'].value_counts()"
   ]
  },
  {
   "cell_type": "code",
   "execution_count": 41,
   "metadata": {},
   "outputs": [
    {
     "data": {
      "text/html": [
       "<div>\n",
       "<style>\n",
       "    .dataframe thead tr:only-child th {\n",
       "        text-align: right;\n",
       "    }\n",
       "\n",
       "    .dataframe thead th {\n",
       "        text-align: left;\n",
       "    }\n",
       "\n",
       "    .dataframe tbody tr th {\n",
       "        vertical-align: top;\n",
       "    }\n",
       "</style>\n",
       "<table border=\"1\" class=\"dataframe\">\n",
       "  <thead>\n",
       "    <tr style=\"text-align: right;\">\n",
       "      <th></th>\n",
       "      <th>Product_Fat_Content</th>\n",
       "      <th>Product_Supermarket_Sales</th>\n",
       "    </tr>\n",
       "  </thead>\n",
       "  <tbody>\n",
       "    <tr>\n",
       "      <th>0</th>\n",
       "      <td>Low Fat</td>\n",
       "      <td>6038.504696</td>\n",
       "    </tr>\n",
       "    <tr>\n",
       "      <th>1</th>\n",
       "      <td>Normal Fat</td>\n",
       "      <td>6287.411447</td>\n",
       "    </tr>\n",
       "    <tr>\n",
       "      <th>2</th>\n",
       "      <td>Ultra Low fat</td>\n",
       "      <td>5343.226899</td>\n",
       "    </tr>\n",
       "  </tbody>\n",
       "</table>\n",
       "</div>"
      ],
      "text/plain": [
       "  Product_Fat_Content  Product_Supermarket_Sales\n",
       "0             Low Fat                6038.504696\n",
       "1          Normal Fat                6287.411447\n",
       "2       Ultra Low fat                5343.226899"
      ]
     },
     "execution_count": 41,
     "metadata": {},
     "output_type": "execute_result"
    }
   ],
   "source": [
    "grouped_4=df[['Product_Fat_Content', 'Product_Supermarket_Sales']]\n",
    "grpd_4=grouped_4.groupby(['Product_Fat_Content'],as_index=False).mean()\n",
    "grpd_4"
   ]
  },
  {
   "cell_type": "code",
   "execution_count": 42,
   "metadata": {},
   "outputs": [
    {
     "data": {
      "text/plain": [
       "<matplotlib.axes._subplots.AxesSubplot at 0x1bd2f73b470>"
      ]
     },
     "execution_count": 42,
     "metadata": {},
     "output_type": "execute_result"
    },
    {
     "data": {
      "image/png": "[encoded data removed]",
      "text/plain": [
       "<matplotlib.figure.Figure at 0x1bd2f6900b8>"
      ]
     },
     "metadata": {},
     "output_type": "display_data"
    }
   ],
   "source": [
    "sns.boxplot(x='Product_Fat_Content', y='Product_Supermarket_Sales', data=df)"
   ]
  },
  {
   "cell_type": "code",
   "execution_count": 43,
   "metadata": {},
   "outputs": [
    {
     "name": "stdout",
     "output_type": "stream",
     "text": [
      "ANOVA results: F= 3.26516400149 , P = 0.038299595627\n"
     ]
    }
   ],
   "source": [
    "grpd_4=grouped_4.groupby(['Product_Fat_Content'],as_index=False)\n",
    "f_val, p_val = stats.f_oneway(grpd_4.get_group('Low Fat')['Product_Supermarket_Sales'], grpd_4.get_group('Normal Fat')['Product_Supermarket_Sales'], grpd_4.get_group('Ultra Low fat')['Product_Supermarket_Sales'])  \n",
    "print( \"ANOVA results: F=\", f_val, \", P =\", p_val)   "
   ]
  },
  {
   "cell_type": "markdown",
   "metadata": {},
   "source": [
    "# supermarket_size analysis"
   ]
  },
  {
   "cell_type": "code",
   "execution_count": 44,
   "metadata": {},
   "outputs": [
    {
     "data": {
      "text/plain": [
       "Medium    2281\n",
       "Small     1015\n",
       "High       446\n",
       "Name: Supermarket _Size, dtype: int64"
      ]
     },
     "execution_count": 44,
     "metadata": {},
     "output_type": "execute_result"
    }
   ],
   "source": [
    "df['Supermarket _Size'].value_counts()"
   ]
  },
  {
   "cell_type": "code",
   "execution_count": 45,
   "metadata": {},
   "outputs": [
    {
     "data": {
      "text/html": [
       "<div>\n",
       "<style>\n",
       "    .dataframe thead tr:only-child th {\n",
       "        text-align: right;\n",
       "    }\n",
       "\n",
       "    .dataframe thead th {\n",
       "        text-align: left;\n",
       "    }\n",
       "\n",
       "    .dataframe tbody tr th {\n",
       "        vertical-align: top;\n",
       "    }\n",
       "</style>\n",
       "<table border=\"1\" class=\"dataframe\">\n",
       "  <thead>\n",
       "    <tr style=\"text-align: right;\">\n",
       "      <th></th>\n",
       "      <th>Supermarket _Size</th>\n",
       "      <th>Product_Supermarket_Sales</th>\n",
       "    </tr>\n",
       "  </thead>\n",
       "  <tbody>\n",
       "    <tr>\n",
       "      <th>0</th>\n",
       "      <td>High</td>\n",
       "      <td>3998.670359</td>\n",
       "    </tr>\n",
       "    <tr>\n",
       "      <th>1</th>\n",
       "      <td>Medium</td>\n",
       "      <td>6844.184498</td>\n",
       "    </tr>\n",
       "    <tr>\n",
       "      <th>2</th>\n",
       "      <td>Small</td>\n",
       "      <td>5364.715143</td>\n",
       "    </tr>\n",
       "  </tbody>\n",
       "</table>\n",
       "</div>"
      ],
      "text/plain": [
       "  Supermarket _Size  Product_Supermarket_Sales\n",
       "0              High                3998.670359\n",
       "1            Medium                6844.184498\n",
       "2             Small                5364.715143"
      ]
     },
     "execution_count": 45,
     "metadata": {},
     "output_type": "execute_result"
    }
   ],
   "source": [
    "grouped_5=df[['Supermarket _Size', 'Product_Supermarket_Sales']]\n",
    "grpd_5=grouped_5.groupby(['Supermarket _Size'],as_index=False).mean()\n",
    "grpd_5"
   ]
  },
  {
   "cell_type": "code",
   "execution_count": 46,
   "metadata": {},
   "outputs": [
    {
     "data": {
      "text/plain": [
       "<matplotlib.axes._subplots.AxesSubplot at 0x1bd2f772748>"
      ]
     },
     "execution_count": 46,
     "metadata": {},
     "output_type": "execute_result"
    },
    {
     "data": {
      "image/png": "[encoded data removed]",
      "text/plain": [
       "<matplotlib.figure.Figure at 0x1bd2f77f0b8>"
      ]
     },
     "metadata": {},
     "output_type": "display_data"
    }
   ],
   "source": [
    "sns.boxplot(x='Supermarket _Size', y='Product_Supermarket_Sales', data=df)"
   ]
  },
  {
   "cell_type": "code",
   "execution_count": 47,
   "metadata": {},
   "outputs": [
    {
     "name": "stdout",
     "output_type": "stream",
     "text": [
      "ANOVA results: F= 100.263671605 , P = 3.83319893268e-43\n"
     ]
    }
   ],
   "source": [
    "grpd_5=grouped_5.groupby(['Supermarket _Size'],as_index=False)\n",
    "f_val, p_val = stats.f_oneway(grpd_5.get_group('Medium')['Product_Supermarket_Sales'], grpd_5.get_group('Small')['Product_Supermarket_Sales'],grpd_5.get_group('High')['Product_Supermarket_Sales'])  \n",
    "print( \"ANOVA results: F=\", f_val, \", P =\", p_val) "
   ]
  },
  {
   "cell_type": "markdown",
   "metadata": {},
   "source": [
    "# Product_Type analysis"
   ]
  },
  {
   "cell_type": "code",
   "execution_count": 48,
   "metadata": {},
   "outputs": [
    {
     "data": {
      "text/plain": [
       "Snack Foods              563\n",
       "Fruits and Vegetables    556\n",
       "Household                414\n",
       "Frozen Foods             334\n",
       "Canned                   294\n",
       "Dairy                    263\n",
       "Baking Goods             259\n",
       "Health and Hygiene       222\n",
       "Meat                     202\n",
       "Soft Drinks              193\n",
       "Breads                   115\n",
       "Hard Drinks               97\n",
       "Others                    82\n",
       "Starchy Foods             62\n",
       "Breakfast                 54\n",
       "Seafood                   32\n",
       "Name: Product_Type, dtype: int64"
      ]
     },
     "execution_count": 48,
     "metadata": {},
     "output_type": "execute_result"
    }
   ],
   "source": [
    "df['Product_Type'].value_counts()"
   ]
  },
  {
   "cell_type": "code",
   "execution_count": 49,
   "metadata": {},
   "outputs": [
    {
     "data": {
      "text/html": [
       "<div>\n",
       "<style>\n",
       "    .dataframe thead tr:only-child th {\n",
       "        text-align: right;\n",
       "    }\n",
       "\n",
       "    .dataframe thead th {\n",
       "        text-align: left;\n",
       "    }\n",
       "\n",
       "    .dataframe tbody tr th {\n",
       "        vertical-align: top;\n",
       "    }\n",
       "</style>\n",
       "<table border=\"1\" class=\"dataframe\">\n",
       "  <thead>\n",
       "    <tr style=\"text-align: right;\">\n",
       "      <th></th>\n",
       "      <th>Product_Type</th>\n",
       "      <th>Product_Supermarket_Sales</th>\n",
       "    </tr>\n",
       "  </thead>\n",
       "  <tbody>\n",
       "    <tr>\n",
       "      <th>0</th>\n",
       "      <td>Baking Goods</td>\n",
       "      <td>5635.721351</td>\n",
       "    </tr>\n",
       "    <tr>\n",
       "      <th>1</th>\n",
       "      <td>Breads</td>\n",
       "      <td>5875.077043</td>\n",
       "    </tr>\n",
       "    <tr>\n",
       "      <th>2</th>\n",
       "      <td>Breakfast</td>\n",
       "      <td>5867.887222</td>\n",
       "    </tr>\n",
       "    <tr>\n",
       "      <th>3</th>\n",
       "      <td>Canned</td>\n",
       "      <td>6392.173197</td>\n",
       "    </tr>\n",
       "    <tr>\n",
       "      <th>4</th>\n",
       "      <td>Dairy</td>\n",
       "      <td>6081.969734</td>\n",
       "    </tr>\n",
       "    <tr>\n",
       "      <th>5</th>\n",
       "      <td>Frozen Foods</td>\n",
       "      <td>5980.055359</td>\n",
       "    </tr>\n",
       "    <tr>\n",
       "      <th>6</th>\n",
       "      <td>Fruits and Vegetables</td>\n",
       "      <td>6429.236259</td>\n",
       "    </tr>\n",
       "    <tr>\n",
       "      <th>7</th>\n",
       "      <td>Hard Drinks</td>\n",
       "      <td>6097.784845</td>\n",
       "    </tr>\n",
       "    <tr>\n",
       "      <th>8</th>\n",
       "      <td>Health and Hygiene</td>\n",
       "      <td>5476.370586</td>\n",
       "    </tr>\n",
       "    <tr>\n",
       "      <th>9</th>\n",
       "      <td>Household</td>\n",
       "      <td>6158.381329</td>\n",
       "    </tr>\n",
       "    <tr>\n",
       "      <th>10</th>\n",
       "      <td>Meat</td>\n",
       "      <td>5881.733663</td>\n",
       "    </tr>\n",
       "    <tr>\n",
       "      <th>11</th>\n",
       "      <td>Others</td>\n",
       "      <td>5460.596341</td>\n",
       "    </tr>\n",
       "    <tr>\n",
       "      <th>12</th>\n",
       "      <td>Seafood</td>\n",
       "      <td>6651.707500</td>\n",
       "    </tr>\n",
       "    <tr>\n",
       "      <th>13</th>\n",
       "      <td>Snack Foods</td>\n",
       "      <td>6280.732575</td>\n",
       "    </tr>\n",
       "    <tr>\n",
       "      <th>14</th>\n",
       "      <td>Soft Drinks</td>\n",
       "      <td>5965.085389</td>\n",
       "    </tr>\n",
       "    <tr>\n",
       "      <th>15</th>\n",
       "      <td>Starchy Foods</td>\n",
       "      <td>7166.425000</td>\n",
       "    </tr>\n",
       "  </tbody>\n",
       "</table>\n",
       "</div>"
      ],
      "text/plain": [
       "             Product_Type  Product_Supermarket_Sales\n",
       "0            Baking Goods                5635.721351\n",
       "1                  Breads                5875.077043\n",
       "2               Breakfast                5867.887222\n",
       "3                  Canned                6392.173197\n",
       "4                   Dairy                6081.969734\n",
       "5            Frozen Foods                5980.055359\n",
       "6   Fruits and Vegetables                6429.236259\n",
       "7             Hard Drinks                6097.784845\n",
       "8      Health and Hygiene                5476.370586\n",
       "9               Household                6158.381329\n",
       "10                   Meat                5881.733663\n",
       "11                 Others                5460.596341\n",
       "12                Seafood                6651.707500\n",
       "13            Snack Foods                6280.732575\n",
       "14            Soft Drinks                5965.085389\n",
       "15          Starchy Foods                7166.425000"
      ]
     },
     "execution_count": 49,
     "metadata": {},
     "output_type": "execute_result"
    }
   ],
   "source": [
    "grouped_6=df[['Product_Type','Product_Supermarket_Sales']]\n",
    "grpd_6=grouped_6.groupby(['Product_Type'],as_index=False).mean()\n",
    "grpd_6"
   ]
  },
  {
   "cell_type": "code",
   "execution_count": 50,
   "metadata": {},
   "outputs": [
    {
     "data": {
      "text/plain": [
       "(array([ 0,  1,  2,  3,  4,  5,  6,  7,  8,  9, 10, 11, 12, 13, 14, 15]),\n",
       " <a list of 16 Text xticklabel objects>)"
      ]
     },
     "execution_count": 50,
     "metadata": {},
     "output_type": "execute_result"
    },
    {
     "data": {
      "image/png": "[encoded data removed]",
      "text/plain": [
       "<matplotlib.figure.Figure at 0x1bd2f849e80>"
      ]
     },
     "metadata": {},
     "output_type": "display_data"
    }
   ],
   "source": [
    "sns.boxplot(x='Product_Type', y='Product_Supermarket_Sales', data=grpd_1)\n",
    "sns.plt.xticks(rotation=90)"
   ]
  },
  {
   "cell_type": "code",
   "execution_count": 51,
   "metadata": {},
   "outputs": [
    {
     "data": {
      "text/plain": [
       "['Soft Drinks',\n",
       " 'Fruits and Vegetables',\n",
       " 'Frozen Foods',\n",
       " 'Baking Goods',\n",
       " 'Seafood',\n",
       " 'Canned',\n",
       " 'Others',\n",
       " 'Snack Foods',\n",
       " 'Health and Hygiene',\n",
       " 'Dairy',\n",
       " 'Household',\n",
       " 'Breakfast',\n",
       " 'Hard Drinks',\n",
       " 'Starchy Foods',\n",
       " 'Meat',\n",
       " 'Breads']"
      ]
     },
     "execution_count": 51,
     "metadata": {},
     "output_type": "execute_result"
    }
   ],
   "source": [
    "list(df['Product_Type'].unique())"
   ]
  },
  {
   "cell_type": "code",
   "execution_count": 52,
   "metadata": {
    "collapsed": true
   },
   "outputs": [],
   "source": [
    "# grpd_6=grouped_6.groupby(['Supermarket _Size'],as_index=False)\n",
    "# for \n",
    "# f_val, p_val = stats.f_oneway(grpd_6.get_group('Medium')['Product_Supermarket_Sales'], grpd_6.get_group('Small')['Product_Supermarket_Sales'],grpd_5.get_group('High')['Product_Supermarket_Sales'])  \n",
    "# print( \"ANOVA results: F=\", f_val, \", P =\", p_val) "
   ]
  },
  {
   "cell_type": "code",
   "execution_count": 53,
   "metadata": {},
   "outputs": [
    {
     "data": {
      "text/html": [
       "<div>\n",
       "<style>\n",
       "    .dataframe thead tr:only-child th {\n",
       "        text-align: right;\n",
       "    }\n",
       "\n",
       "    .dataframe thead th {\n",
       "        text-align: left;\n",
       "    }\n",
       "\n",
       "    .dataframe tbody tr th {\n",
       "        vertical-align: top;\n",
       "    }\n",
       "</style>\n",
       "<table border=\"1\" class=\"dataframe\">\n",
       "  <thead>\n",
       "    <tr style=\"text-align: right;\">\n",
       "      <th></th>\n",
       "      <th>Supermarket_Opening_Year</th>\n",
       "      <th>Supermarket_Identifier</th>\n",
       "      <th>Product_Supermarket_Sales</th>\n",
       "    </tr>\n",
       "  </thead>\n",
       "  <tbody>\n",
       "    <tr>\n",
       "      <th>1</th>\n",
       "      <td>1992</td>\n",
       "      <td>CHUKWUDI027</td>\n",
       "      <td>12541.373382</td>\n",
       "    </tr>\n",
       "    <tr>\n",
       "      <th>7</th>\n",
       "      <td>2011</td>\n",
       "      <td>CHUKWUDI035</td>\n",
       "      <td>7907.270484</td>\n",
       "    </tr>\n",
       "    <tr>\n",
       "      <th>8</th>\n",
       "      <td>2014</td>\n",
       "      <td>CHUKWUDI017</td>\n",
       "      <td>7468.619197</td>\n",
       "    </tr>\n",
       "    <tr>\n",
       "      <th>6</th>\n",
       "      <td>2009</td>\n",
       "      <td>CHUKWUDI045</td>\n",
       "      <td>7398.398568</td>\n",
       "    </tr>\n",
       "    <tr>\n",
       "      <th>5</th>\n",
       "      <td>2006</td>\n",
       "      <td>CHUKWUDI049</td>\n",
       "      <td>6352.267561</td>\n",
       "    </tr>\n",
       "    <tr>\n",
       "      <th>3</th>\n",
       "      <td>2004</td>\n",
       "      <td>CHUKWUDI046</td>\n",
       "      <td>5753.361804</td>\n",
       "    </tr>\n",
       "    <tr>\n",
       "      <th>9</th>\n",
       "      <td>2016</td>\n",
       "      <td>CHUKWUDI018</td>\n",
       "      <td>5588.015335</td>\n",
       "    </tr>\n",
       "    <tr>\n",
       "      <th>2</th>\n",
       "      <td>1994</td>\n",
       "      <td>CHUKWUDI013</td>\n",
       "      <td>3998.670359</td>\n",
       "    </tr>\n",
       "    <tr>\n",
       "      <th>0</th>\n",
       "      <td>1992</td>\n",
       "      <td>CHUKWUDI019</td>\n",
       "      <td>1064.223020</td>\n",
       "    </tr>\n",
       "    <tr>\n",
       "      <th>4</th>\n",
       "      <td>2005</td>\n",
       "      <td>CHUKWUDI010</td>\n",
       "      <td>606.450625</td>\n",
       "    </tr>\n",
       "  </tbody>\n",
       "</table>\n",
       "</div>"
      ],
      "text/plain": [
       "   Supermarket_Opening_Year Supermarket_Identifier  Product_Supermarket_Sales\n",
       "1                      1992            CHUKWUDI027               12541.373382\n",
       "7                      2011            CHUKWUDI035                7907.270484\n",
       "8                      2014            CHUKWUDI017                7468.619197\n",
       "6                      2009            CHUKWUDI045                7398.398568\n",
       "5                      2006            CHUKWUDI049                6352.267561\n",
       "3                      2004            CHUKWUDI046                5753.361804\n",
       "9                      2016            CHUKWUDI018                5588.015335\n",
       "2                      1994            CHUKWUDI013                3998.670359\n",
       "0                      1992            CHUKWUDI019                1064.223020\n",
       "4                      2005            CHUKWUDI010                 606.450625"
      ]
     },
     "execution_count": 53,
     "metadata": {},
     "output_type": "execute_result"
    }
   ],
   "source": [
    "grouped_7=df[['Supermarket_Opening_Year','Supermarket_Identifier','Product_Supermarket_Sales']]\n",
    "grpd_7=grouped_7.groupby(['Supermarket_Opening_Year','Supermarket_Identifier'],as_index=False).mean()\n",
    "grpd_7.sort_values(['Product_Supermarket_Sales'], ascending=False)"
   ]
  },
  {
   "cell_type": "code",
   "execution_count": 54,
   "metadata": {},
   "outputs": [
    {
     "data": {
      "text/plain": [
       "(0, 13194.845464254093)"
      ]
     },
     "execution_count": 54,
     "metadata": {},
     "output_type": "execute_result"
    },
    {
     "data": {
      "image/png": "[encoded data removed]",
      "text/plain": [
       "<matplotlib.figure.Figure at 0x1bd30b90fd0>"
      ]
     },
     "metadata": {},
     "output_type": "display_data"
    }
   ],
   "source": [
    "# Engine size as potential predictor variable of price\n",
    "sns.regplot(x=\"Supermarket_Opening_Year\", y=\"Product_Supermarket_Sales\", data=grpd_7)\n",
    "plt.ylim(0,)"
   ]
  },
  {
   "cell_type": "code",
   "execution_count": 55,
   "metadata": {},
   "outputs": [
    {
     "data": {
      "text/html": [
       "<div>\n",
       "<style>\n",
       "    .dataframe thead tr:only-child th {\n",
       "        text-align: right;\n",
       "    }\n",
       "\n",
       "    .dataframe thead th {\n",
       "        text-align: left;\n",
       "    }\n",
       "\n",
       "    .dataframe tbody tr th {\n",
       "        vertical-align: top;\n",
       "    }\n",
       "</style>\n",
       "<table border=\"1\" class=\"dataframe\">\n",
       "  <thead>\n",
       "    <tr style=\"text-align: right;\">\n",
       "      <th></th>\n",
       "      <th>Supermarket_Opening_Year</th>\n",
       "      <th>Product_Supermarket_Sales</th>\n",
       "    </tr>\n",
       "  </thead>\n",
       "  <tbody>\n",
       "    <tr>\n",
       "      <th>Supermarket_Opening_Year</th>\n",
       "      <td>1.000000</td>\n",
       "      <td>0.095753</td>\n",
       "    </tr>\n",
       "    <tr>\n",
       "      <th>Product_Supermarket_Sales</th>\n",
       "      <td>0.095753</td>\n",
       "      <td>1.000000</td>\n",
       "    </tr>\n",
       "  </tbody>\n",
       "</table>\n",
       "</div>"
      ],
      "text/plain": [
       "                           Supermarket_Opening_Year  Product_Supermarket_Sales\n",
       "Supermarket_Opening_Year                   1.000000                   0.095753\n",
       "Product_Supermarket_Sales                  0.095753                   1.000000"
      ]
     },
     "execution_count": 55,
     "metadata": {},
     "output_type": "execute_result"
    }
   ],
   "source": [
    "grpd_7.corr()"
   ]
  },
  {
   "cell_type": "code",
   "execution_count": null,
   "metadata": {
    "collapsed": true
   },
   "outputs": [],
   "source": []
  },
  {
   "cell_type": "markdown",
   "metadata": {},
   "source": [
    "NOT DONE WITH FEATURE ENGINEERING"
   ]
  },
  {
   "cell_type": "code",
   "execution_count": 56,
   "metadata": {},
   "outputs": [
    {
     "data": {
      "text/plain": [
       "Index(['Product_Identifier', 'Supermarket_Identifier',\n",
       "       'Product_Supermarket_Identifier', 'Product_Weight',\n",
       "       'Product_Fat_Content', 'Product_Shelf_Visibility', 'Product_Type',\n",
       "       'Product_Price', 'Supermarket_Opening_Year', 'Supermarket _Size',\n",
       "       'Supermarket_Location_Type', 'Supermarket_Type',\n",
       "       'Product_Supermarket_Sales'],\n",
       "      dtype='object')"
      ]
     },
     "execution_count": 56,
     "metadata": {},
     "output_type": "execute_result"
    }
   ],
   "source": [
    "df.columns"
   ]
  },
  {
   "cell_type": "code",
   "execution_count": 57,
   "metadata": {},
   "outputs": [
    {
     "data": {
      "text/html": [
       "<div>\n",
       "<style>\n",
       "    .dataframe thead tr:only-child th {\n",
       "        text-align: right;\n",
       "    }\n",
       "\n",
       "    .dataframe thead th {\n",
       "        text-align: left;\n",
       "    }\n",
       "\n",
       "    .dataframe tbody tr th {\n",
       "        vertical-align: top;\n",
       "    }\n",
       "</style>\n",
       "<table border=\"1\" class=\"dataframe\">\n",
       "  <thead>\n",
       "    <tr style=\"text-align: right;\">\n",
       "      <th></th>\n",
       "      <th>Product_Identifier</th>\n",
       "      <th>Supermarket_Identifier</th>\n",
       "      <th>Product_Supermarket_Identifier</th>\n",
       "      <th>Product_Weight</th>\n",
       "      <th>Product_Fat_Content</th>\n",
       "      <th>Product_Shelf_Visibility</th>\n",
       "      <th>Product_Type</th>\n",
       "      <th>Product_Price</th>\n",
       "      <th>Supermarket_Opening_Year</th>\n",
       "      <th>Supermarket _Size</th>\n",
       "      <th>Supermarket_Location_Type</th>\n",
       "      <th>Supermarket_Type</th>\n",
       "      <th>Product_Supermarket_Sales</th>\n",
       "    </tr>\n",
       "  </thead>\n",
       "  <tbody>\n",
       "    <tr>\n",
       "      <th>0</th>\n",
       "      <td>DRB24</td>\n",
       "      <td>CHUKWUDI017</td>\n",
       "      <td>DRB24_CHUKWUDI017</td>\n",
       "      <td>8.785</td>\n",
       "      <td>Low Fat</td>\n",
       "      <td>0.020694</td>\n",
       "      <td>Soft Drinks</td>\n",
       "      <td>382.91</td>\n",
       "      <td>2014</td>\n",
       "      <td>Medium</td>\n",
       "      <td>Cluster 2</td>\n",
       "      <td>Supermarket Type1</td>\n",
       "      <td>4633.97</td>\n",
       "    </tr>\n",
       "    <tr>\n",
       "      <th>1</th>\n",
       "      <td>FDR31</td>\n",
       "      <td>CHUKWUDI019</td>\n",
       "      <td>FDR31_CHUKWUDI019</td>\n",
       "      <td>6.460</td>\n",
       "      <td>Normal Fat</td>\n",
       "      <td>0.086078</td>\n",
       "      <td>Fruits and Vegetables</td>\n",
       "      <td>359.53</td>\n",
       "      <td>1992</td>\n",
       "      <td>Small</td>\n",
       "      <td>Cluster 1</td>\n",
       "      <td>Grocery Store</td>\n",
       "      <td>729.05</td>\n",
       "    </tr>\n",
       "    <tr>\n",
       "      <th>2</th>\n",
       "      <td>FDP16</td>\n",
       "      <td>CHUKWUDI017</td>\n",
       "      <td>FDP16_CHUKWUDI017</td>\n",
       "      <td>18.600</td>\n",
       "      <td>Low Fat</td>\n",
       "      <td>0.039517</td>\n",
       "      <td>Frozen Foods</td>\n",
       "      <td>609.20</td>\n",
       "      <td>2014</td>\n",
       "      <td>Medium</td>\n",
       "      <td>Cluster 2</td>\n",
       "      <td>Supermarket Type1</td>\n",
       "      <td>14740.81</td>\n",
       "    </tr>\n",
       "    <tr>\n",
       "      <th>3</th>\n",
       "      <td>FDY16</td>\n",
       "      <td>CHUKWUDI027</td>\n",
       "      <td>FDY16_CHUKWUDI027</td>\n",
       "      <td>18.350</td>\n",
       "      <td>Normal Fat</td>\n",
       "      <td>0.091780</td>\n",
       "      <td>Frozen Foods</td>\n",
       "      <td>456.32</td>\n",
       "      <td>1992</td>\n",
       "      <td>Medium</td>\n",
       "      <td>Cluster 3</td>\n",
       "      <td>Supermarket Type3</td>\n",
       "      <td>16137.33</td>\n",
       "    </tr>\n",
       "    <tr>\n",
       "      <th>4</th>\n",
       "      <td>FDY48</td>\n",
       "      <td>CHUKWUDI046</td>\n",
       "      <td>FDY48_CHUKWUDI046</td>\n",
       "      <td>14.000</td>\n",
       "      <td>Low Fat</td>\n",
       "      <td>0.023735</td>\n",
       "      <td>Baking Goods</td>\n",
       "      <td>258.08</td>\n",
       "      <td>2004</td>\n",
       "      <td>Small</td>\n",
       "      <td>Cluster 1</td>\n",
       "      <td>Supermarket Type1</td>\n",
       "      <td>4613.99</td>\n",
       "    </tr>\n",
       "  </tbody>\n",
       "</table>\n",
       "</div>"
      ],
      "text/plain": [
       "  Product_Identifier Supermarket_Identifier Product_Supermarket_Identifier  \\\n",
       "0              DRB24            CHUKWUDI017              DRB24_CHUKWUDI017   \n",
       "1              FDR31            CHUKWUDI019              FDR31_CHUKWUDI019   \n",
       "2              FDP16            CHUKWUDI017              FDP16_CHUKWUDI017   \n",
       "3              FDY16            CHUKWUDI027              FDY16_CHUKWUDI027   \n",
       "4              FDY48            CHUKWUDI046              FDY48_CHUKWUDI046   \n",
       "\n",
       "   Product_Weight Product_Fat_Content  Product_Shelf_Visibility  \\\n",
       "0           8.785             Low Fat                  0.020694   \n",
       "1           6.460          Normal Fat                  0.086078   \n",
       "2          18.600             Low Fat                  0.039517   \n",
       "3          18.350          Normal Fat                  0.091780   \n",
       "4          14.000             Low Fat                  0.023735   \n",
       "\n",
       "            Product_Type  Product_Price  Supermarket_Opening_Year  \\\n",
       "0            Soft Drinks         382.91                      2014   \n",
       "1  Fruits and Vegetables         359.53                      1992   \n",
       "2           Frozen Foods         609.20                      2014   \n",
       "3           Frozen Foods         456.32                      1992   \n",
       "4           Baking Goods         258.08                      2004   \n",
       "\n",
       "  Supermarket _Size Supermarket_Location_Type   Supermarket_Type  \\\n",
       "0            Medium                 Cluster 2  Supermarket Type1   \n",
       "1             Small                 Cluster 1      Grocery Store   \n",
       "2            Medium                 Cluster 2  Supermarket Type1   \n",
       "3            Medium                 Cluster 3  Supermarket Type3   \n",
       "4             Small                 Cluster 1  Supermarket Type1   \n",
       "\n",
       "   Product_Supermarket_Sales  \n",
       "0                    4633.97  \n",
       "1                     729.05  \n",
       "2                   14740.81  \n",
       "3                   16137.33  \n",
       "4                    4613.99  "
      ]
     },
     "execution_count": 57,
     "metadata": {},
     "output_type": "execute_result"
    }
   ],
   "source": [
    "# df.sort_values(['Product_Type','Product_Supermarket_Identifier','Product_Supermarket_Sales']).head(10)\n",
    "df.head()"
   ]
  },
  {
   "cell_type": "markdown",
   "metadata": {},
   "source": [
    "# Normalization"
   ]
  },
  {
   "cell_type": "code",
   "execution_count": 58,
   "metadata": {
    "collapsed": true
   },
   "outputs": [],
   "source": [
    "# df['Product_Price']=df['Product_Price']/df['Product_Price'].max()\n",
    "# df2['Product_Price']=df2['Product_Price']/df2['Product_Price'].max()"
   ]
  },
  {
   "cell_type": "code",
   "execution_count": 59,
   "metadata": {},
   "outputs": [
    {
     "data": {
      "text/html": [
       "<div>\n",
       "<style>\n",
       "    .dataframe thead tr:only-child th {\n",
       "        text-align: right;\n",
       "    }\n",
       "\n",
       "    .dataframe thead th {\n",
       "        text-align: left;\n",
       "    }\n",
       "\n",
       "    .dataframe tbody tr th {\n",
       "        vertical-align: top;\n",
       "    }\n",
       "</style>\n",
       "<table border=\"1\" class=\"dataframe\">\n",
       "  <thead>\n",
       "    <tr style=\"text-align: right;\">\n",
       "      <th></th>\n",
       "      <th>Product_Identifier</th>\n",
       "      <th>Supermarket_Identifier</th>\n",
       "      <th>Product_Supermarket_Identifier</th>\n",
       "      <th>Product_Weight</th>\n",
       "      <th>Product_Fat_Content</th>\n",
       "      <th>Product_Shelf_Visibility</th>\n",
       "      <th>Product_Type</th>\n",
       "      <th>Product_Price</th>\n",
       "      <th>Supermarket_Opening_Year</th>\n",
       "      <th>Supermarket _Size</th>\n",
       "      <th>Supermarket_Location_Type</th>\n",
       "      <th>Supermarket_Type</th>\n",
       "      <th>Product_Supermarket_Sales</th>\n",
       "    </tr>\n",
       "  </thead>\n",
       "  <tbody>\n",
       "    <tr>\n",
       "      <th>0</th>\n",
       "      <td>DRB24</td>\n",
       "      <td>CHUKWUDI017</td>\n",
       "      <td>DRB24_CHUKWUDI017</td>\n",
       "      <td>0.411475</td>\n",
       "      <td>Low Fat</td>\n",
       "      <td>0.020694</td>\n",
       "      <td>Soft Drinks</td>\n",
       "      <td>382.91</td>\n",
       "      <td>2014</td>\n",
       "      <td>Medium</td>\n",
       "      <td>Cluster 2</td>\n",
       "      <td>Supermarket Type1</td>\n",
       "      <td>4633.97</td>\n",
       "    </tr>\n",
       "    <tr>\n",
       "      <th>1</th>\n",
       "      <td>FDR31</td>\n",
       "      <td>CHUKWUDI019</td>\n",
       "      <td>FDR31_CHUKWUDI019</td>\n",
       "      <td>0.302576</td>\n",
       "      <td>Normal Fat</td>\n",
       "      <td>0.086078</td>\n",
       "      <td>Fruits and Vegetables</td>\n",
       "      <td>359.53</td>\n",
       "      <td>1992</td>\n",
       "      <td>Small</td>\n",
       "      <td>Cluster 1</td>\n",
       "      <td>Grocery Store</td>\n",
       "      <td>729.05</td>\n",
       "    </tr>\n",
       "    <tr>\n",
       "      <th>2</th>\n",
       "      <td>FDP16</td>\n",
       "      <td>CHUKWUDI017</td>\n",
       "      <td>FDP16_CHUKWUDI017</td>\n",
       "      <td>0.871194</td>\n",
       "      <td>Low Fat</td>\n",
       "      <td>0.039517</td>\n",
       "      <td>Frozen Foods</td>\n",
       "      <td>609.20</td>\n",
       "      <td>2014</td>\n",
       "      <td>Medium</td>\n",
       "      <td>Cluster 2</td>\n",
       "      <td>Supermarket Type1</td>\n",
       "      <td>14740.81</td>\n",
       "    </tr>\n",
       "    <tr>\n",
       "      <th>3</th>\n",
       "      <td>FDY16</td>\n",
       "      <td>CHUKWUDI027</td>\n",
       "      <td>FDY16_CHUKWUDI027</td>\n",
       "      <td>0.859485</td>\n",
       "      <td>Normal Fat</td>\n",
       "      <td>0.091780</td>\n",
       "      <td>Frozen Foods</td>\n",
       "      <td>456.32</td>\n",
       "      <td>1992</td>\n",
       "      <td>Medium</td>\n",
       "      <td>Cluster 3</td>\n",
       "      <td>Supermarket Type3</td>\n",
       "      <td>16137.33</td>\n",
       "    </tr>\n",
       "    <tr>\n",
       "      <th>4</th>\n",
       "      <td>FDY48</td>\n",
       "      <td>CHUKWUDI046</td>\n",
       "      <td>FDY48_CHUKWUDI046</td>\n",
       "      <td>0.655738</td>\n",
       "      <td>Low Fat</td>\n",
       "      <td>0.023735</td>\n",
       "      <td>Baking Goods</td>\n",
       "      <td>258.08</td>\n",
       "      <td>2004</td>\n",
       "      <td>Small</td>\n",
       "      <td>Cluster 1</td>\n",
       "      <td>Supermarket Type1</td>\n",
       "      <td>4613.99</td>\n",
       "    </tr>\n",
       "  </tbody>\n",
       "</table>\n",
       "</div>"
      ],
      "text/plain": [
       "  Product_Identifier Supermarket_Identifier Product_Supermarket_Identifier  \\\n",
       "0              DRB24            CHUKWUDI017              DRB24_CHUKWUDI017   \n",
       "1              FDR31            CHUKWUDI019              FDR31_CHUKWUDI019   \n",
       "2              FDP16            CHUKWUDI017              FDP16_CHUKWUDI017   \n",
       "3              FDY16            CHUKWUDI027              FDY16_CHUKWUDI027   \n",
       "4              FDY48            CHUKWUDI046              FDY48_CHUKWUDI046   \n",
       "\n",
       "   Product_Weight Product_Fat_Content  Product_Shelf_Visibility  \\\n",
       "0        0.411475             Low Fat                  0.020694   \n",
       "1        0.302576          Normal Fat                  0.086078   \n",
       "2        0.871194             Low Fat                  0.039517   \n",
       "3        0.859485          Normal Fat                  0.091780   \n",
       "4        0.655738             Low Fat                  0.023735   \n",
       "\n",
       "            Product_Type  Product_Price  Supermarket_Opening_Year  \\\n",
       "0            Soft Drinks         382.91                      2014   \n",
       "1  Fruits and Vegetables         359.53                      1992   \n",
       "2           Frozen Foods         609.20                      2014   \n",
       "3           Frozen Foods         456.32                      1992   \n",
       "4           Baking Goods         258.08                      2004   \n",
       "\n",
       "  Supermarket _Size Supermarket_Location_Type   Supermarket_Type  \\\n",
       "0            Medium                 Cluster 2  Supermarket Type1   \n",
       "1             Small                 Cluster 1      Grocery Store   \n",
       "2            Medium                 Cluster 2  Supermarket Type1   \n",
       "3            Medium                 Cluster 3  Supermarket Type3   \n",
       "4             Small                 Cluster 1  Supermarket Type1   \n",
       "\n",
       "   Product_Supermarket_Sales  \n",
       "0                    4633.97  \n",
       "1                     729.05  \n",
       "2                   14740.81  \n",
       "3                   16137.33  \n",
       "4                    4613.99  "
      ]
     },
     "execution_count": 59,
     "metadata": {},
     "output_type": "execute_result"
    }
   ],
   "source": [
    "df['Product_Weight']=df['Product_Weight']/df['Product_Weight'].max()\n",
    "df2['Product_Weight']=df2['Product_Weight']/df2['Product_Weight'].max()\n",
    "df.head()"
   ]
  },
  {
   "cell_type": "code",
   "execution_count": 60,
   "metadata": {},
   "outputs": [
    {
     "data": {
      "text/html": [
       "<div>\n",
       "<style>\n",
       "    .dataframe thead tr:only-child th {\n",
       "        text-align: right;\n",
       "    }\n",
       "\n",
       "    .dataframe thead th {\n",
       "        text-align: left;\n",
       "    }\n",
       "\n",
       "    .dataframe tbody tr th {\n",
       "        vertical-align: top;\n",
       "    }\n",
       "</style>\n",
       "<table border=\"1\" class=\"dataframe\">\n",
       "  <thead>\n",
       "    <tr style=\"text-align: right;\">\n",
       "      <th></th>\n",
       "      <th>Product_Weight</th>\n",
       "      <th>Product_Shelf_Visibility</th>\n",
       "      <th>Product_Price</th>\n",
       "      <th>Product_Type_Baking Goods</th>\n",
       "      <th>Product_Type_Breads</th>\n",
       "      <th>Product_Type_Breakfast</th>\n",
       "      <th>Product_Type_Canned</th>\n",
       "      <th>Product_Type_Dairy</th>\n",
       "      <th>Product_Type_Frozen Foods</th>\n",
       "      <th>Product_Type_Fruits and Vegetables</th>\n",
       "      <th>...</th>\n",
       "      <th>Supermarket _Size_High</th>\n",
       "      <th>Supermarket _Size_Medium</th>\n",
       "      <th>Supermarket _Size_Small</th>\n",
       "      <th>Supermarket_Location_Type_Cluster 1</th>\n",
       "      <th>Supermarket_Location_Type_Cluster 2</th>\n",
       "      <th>Supermarket_Location_Type_Cluster 3</th>\n",
       "      <th>Supermarket_Type_Grocery Store</th>\n",
       "      <th>Supermarket_Type_Supermarket Type1</th>\n",
       "      <th>Supermarket_Type_Supermarket Type2</th>\n",
       "      <th>Supermarket_Type_Supermarket Type3</th>\n",
       "    </tr>\n",
       "  </thead>\n",
       "  <tbody>\n",
       "    <tr>\n",
       "      <th>0</th>\n",
       "      <td>0.411475</td>\n",
       "      <td>0.020694</td>\n",
       "      <td>382.91</td>\n",
       "      <td>0</td>\n",
       "      <td>0</td>\n",
       "      <td>0</td>\n",
       "      <td>0</td>\n",
       "      <td>0</td>\n",
       "      <td>0</td>\n",
       "      <td>0</td>\n",
       "      <td>...</td>\n",
       "      <td>0</td>\n",
       "      <td>1</td>\n",
       "      <td>0</td>\n",
       "      <td>0</td>\n",
       "      <td>1</td>\n",
       "      <td>0</td>\n",
       "      <td>0</td>\n",
       "      <td>1</td>\n",
       "      <td>0</td>\n",
       "      <td>0</td>\n",
       "    </tr>\n",
       "    <tr>\n",
       "      <th>1</th>\n",
       "      <td>0.302576</td>\n",
       "      <td>0.086078</td>\n",
       "      <td>359.53</td>\n",
       "      <td>0</td>\n",
       "      <td>0</td>\n",
       "      <td>0</td>\n",
       "      <td>0</td>\n",
       "      <td>0</td>\n",
       "      <td>0</td>\n",
       "      <td>1</td>\n",
       "      <td>...</td>\n",
       "      <td>0</td>\n",
       "      <td>0</td>\n",
       "      <td>1</td>\n",
       "      <td>1</td>\n",
       "      <td>0</td>\n",
       "      <td>0</td>\n",
       "      <td>1</td>\n",
       "      <td>0</td>\n",
       "      <td>0</td>\n",
       "      <td>0</td>\n",
       "    </tr>\n",
       "    <tr>\n",
       "      <th>2</th>\n",
       "      <td>0.871194</td>\n",
       "      <td>0.039517</td>\n",
       "      <td>609.20</td>\n",
       "      <td>0</td>\n",
       "      <td>0</td>\n",
       "      <td>0</td>\n",
       "      <td>0</td>\n",
       "      <td>0</td>\n",
       "      <td>1</td>\n",
       "      <td>0</td>\n",
       "      <td>...</td>\n",
       "      <td>0</td>\n",
       "      <td>1</td>\n",
       "      <td>0</td>\n",
       "      <td>0</td>\n",
       "      <td>1</td>\n",
       "      <td>0</td>\n",
       "      <td>0</td>\n",
       "      <td>1</td>\n",
       "      <td>0</td>\n",
       "      <td>0</td>\n",
       "    </tr>\n",
       "    <tr>\n",
       "      <th>3</th>\n",
       "      <td>0.859485</td>\n",
       "      <td>0.091780</td>\n",
       "      <td>456.32</td>\n",
       "      <td>0</td>\n",
       "      <td>0</td>\n",
       "      <td>0</td>\n",
       "      <td>0</td>\n",
       "      <td>0</td>\n",
       "      <td>1</td>\n",
       "      <td>0</td>\n",
       "      <td>...</td>\n",
       "      <td>0</td>\n",
       "      <td>1</td>\n",
       "      <td>0</td>\n",
       "      <td>0</td>\n",
       "      <td>0</td>\n",
       "      <td>1</td>\n",
       "      <td>0</td>\n",
       "      <td>0</td>\n",
       "      <td>0</td>\n",
       "      <td>1</td>\n",
       "    </tr>\n",
       "    <tr>\n",
       "      <th>4</th>\n",
       "      <td>0.655738</td>\n",
       "      <td>0.023735</td>\n",
       "      <td>258.08</td>\n",
       "      <td>1</td>\n",
       "      <td>0</td>\n",
       "      <td>0</td>\n",
       "      <td>0</td>\n",
       "      <td>0</td>\n",
       "      <td>0</td>\n",
       "      <td>0</td>\n",
       "      <td>...</td>\n",
       "      <td>0</td>\n",
       "      <td>0</td>\n",
       "      <td>1</td>\n",
       "      <td>1</td>\n",
       "      <td>0</td>\n",
       "      <td>0</td>\n",
       "      <td>0</td>\n",
       "      <td>1</td>\n",
       "      <td>0</td>\n",
       "      <td>0</td>\n",
       "    </tr>\n",
       "  </tbody>\n",
       "</table>\n",
       "<p>5 rows × 29 columns</p>\n",
       "</div>"
      ],
      "text/plain": [
       "   Product_Weight  Product_Shelf_Visibility  Product_Price  \\\n",
       "0        0.411475                  0.020694         382.91   \n",
       "1        0.302576                  0.086078         359.53   \n",
       "2        0.871194                  0.039517         609.20   \n",
       "3        0.859485                  0.091780         456.32   \n",
       "4        0.655738                  0.023735         258.08   \n",
       "\n",
       "   Product_Type_Baking Goods  Product_Type_Breads  Product_Type_Breakfast  \\\n",
       "0                          0                    0                       0   \n",
       "1                          0                    0                       0   \n",
       "2                          0                    0                       0   \n",
       "3                          0                    0                       0   \n",
       "4                          1                    0                       0   \n",
       "\n",
       "   Product_Type_Canned  Product_Type_Dairy  Product_Type_Frozen Foods  \\\n",
       "0                    0                   0                          0   \n",
       "1                    0                   0                          0   \n",
       "2                    0                   0                          1   \n",
       "3                    0                   0                          1   \n",
       "4                    0                   0                          0   \n",
       "\n",
       "   Product_Type_Fruits and Vegetables                 ...                  \\\n",
       "0                                   0                 ...                   \n",
       "1                                   1                 ...                   \n",
       "2                                   0                 ...                   \n",
       "3                                   0                 ...                   \n",
       "4                                   0                 ...                   \n",
       "\n",
       "   Supermarket _Size_High  Supermarket _Size_Medium  Supermarket _Size_Small  \\\n",
       "0                       0                         1                        0   \n",
       "1                       0                         0                        1   \n",
       "2                       0                         1                        0   \n",
       "3                       0                         1                        0   \n",
       "4                       0                         0                        1   \n",
       "\n",
       "   Supermarket_Location_Type_Cluster 1  Supermarket_Location_Type_Cluster 2  \\\n",
       "0                                    0                                    1   \n",
       "1                                    1                                    0   \n",
       "2                                    0                                    1   \n",
       "3                                    0                                    0   \n",
       "4                                    1                                    0   \n",
       "\n",
       "   Supermarket_Location_Type_Cluster 3  Supermarket_Type_Grocery Store  \\\n",
       "0                                    0                               0   \n",
       "1                                    0                               1   \n",
       "2                                    0                               0   \n",
       "3                                    1                               0   \n",
       "4                                    0                               0   \n",
       "\n",
       "   Supermarket_Type_Supermarket Type1  Supermarket_Type_Supermarket Type2  \\\n",
       "0                                   1                                   0   \n",
       "1                                   0                                   0   \n",
       "2                                   1                                   0   \n",
       "3                                   0                                   0   \n",
       "4                                   1                                   0   \n",
       "\n",
       "   Supermarket_Type_Supermarket Type3  \n",
       "0                                   0  \n",
       "1                                   0  \n",
       "2                                   0  \n",
       "3                                   1  \n",
       "4                                   0  \n",
       "\n",
       "[5 rows x 29 columns]"
      ]
     },
     "execution_count": 60,
     "metadata": {},
     "output_type": "execute_result"
    }
   ],
   "source": [
    "# dummy_variable_1 = pd.get_dummies(df[\"Supermarket_Type\"])\n",
    "# dummy_variable_1.rename(columns={'Grocery Store':'Supermarket Type Grocery Store'}, inplace=True)\n",
    "# dummy_variable_1.head()\n",
    "X=df.drop(['Product_Identifier','Supermarket_Identifier','Product_Supermarket_Identifier','Product_Fat_Content','Supermarket_Opening_Year','Product_Supermarket_Sales'], axis=1)\n",
    "X=pd.get_dummies(X)\n",
    "X.head()"
   ]
  },
  {
   "cell_type": "code",
   "execution_count": 61,
   "metadata": {},
   "outputs": [
    {
     "data": {
      "text/html": [
       "<div>\n",
       "<style>\n",
       "    .dataframe thead tr:only-child th {\n",
       "        text-align: right;\n",
       "    }\n",
       "\n",
       "    .dataframe thead th {\n",
       "        text-align: left;\n",
       "    }\n",
       "\n",
       "    .dataframe tbody tr th {\n",
       "        vertical-align: top;\n",
       "    }\n",
       "</style>\n",
       "<table border=\"1\" class=\"dataframe\">\n",
       "  <thead>\n",
       "    <tr style=\"text-align: right;\">\n",
       "      <th></th>\n",
       "      <th>Product_Weight</th>\n",
       "      <th>Product_Shelf_Visibility</th>\n",
       "      <th>Product_Price</th>\n",
       "      <th>Product_Type_Baking Goods</th>\n",
       "      <th>Product_Type_Breads</th>\n",
       "      <th>Product_Type_Breakfast</th>\n",
       "      <th>Product_Type_Canned</th>\n",
       "      <th>Product_Type_Dairy</th>\n",
       "      <th>Product_Type_Frozen Foods</th>\n",
       "      <th>Product_Type_Fruits and Vegetables</th>\n",
       "      <th>...</th>\n",
       "      <th>Supermarket _Size_High</th>\n",
       "      <th>Supermarket _Size_Medium</th>\n",
       "      <th>Supermarket _Size_Small</th>\n",
       "      <th>Supermarket_Location_Type_Cluster 1</th>\n",
       "      <th>Supermarket_Location_Type_Cluster 2</th>\n",
       "      <th>Supermarket_Location_Type_Cluster 3</th>\n",
       "      <th>Supermarket_Type_Grocery Store</th>\n",
       "      <th>Supermarket_Type_Supermarket Type1</th>\n",
       "      <th>Supermarket_Type_Supermarket Type2</th>\n",
       "      <th>Supermarket_Type_Supermarket Type3</th>\n",
       "    </tr>\n",
       "  </thead>\n",
       "  <tbody>\n",
       "    <tr>\n",
       "      <th>0</th>\n",
       "      <td>0.411475</td>\n",
       "      <td>0.020694</td>\n",
       "      <td>382.91</td>\n",
       "      <td>0</td>\n",
       "      <td>0</td>\n",
       "      <td>0</td>\n",
       "      <td>0</td>\n",
       "      <td>0</td>\n",
       "      <td>0</td>\n",
       "      <td>0</td>\n",
       "      <td>...</td>\n",
       "      <td>0</td>\n",
       "      <td>1</td>\n",
       "      <td>0</td>\n",
       "      <td>0</td>\n",
       "      <td>1</td>\n",
       "      <td>0</td>\n",
       "      <td>0</td>\n",
       "      <td>1</td>\n",
       "      <td>0</td>\n",
       "      <td>0</td>\n",
       "    </tr>\n",
       "    <tr>\n",
       "      <th>1</th>\n",
       "      <td>0.302576</td>\n",
       "      <td>0.086078</td>\n",
       "      <td>359.53</td>\n",
       "      <td>0</td>\n",
       "      <td>0</td>\n",
       "      <td>0</td>\n",
       "      <td>0</td>\n",
       "      <td>0</td>\n",
       "      <td>0</td>\n",
       "      <td>1</td>\n",
       "      <td>...</td>\n",
       "      <td>0</td>\n",
       "      <td>0</td>\n",
       "      <td>1</td>\n",
       "      <td>1</td>\n",
       "      <td>0</td>\n",
       "      <td>0</td>\n",
       "      <td>1</td>\n",
       "      <td>0</td>\n",
       "      <td>0</td>\n",
       "      <td>0</td>\n",
       "    </tr>\n",
       "    <tr>\n",
       "      <th>2</th>\n",
       "      <td>0.871194</td>\n",
       "      <td>0.039517</td>\n",
       "      <td>609.20</td>\n",
       "      <td>0</td>\n",
       "      <td>0</td>\n",
       "      <td>0</td>\n",
       "      <td>0</td>\n",
       "      <td>0</td>\n",
       "      <td>1</td>\n",
       "      <td>0</td>\n",
       "      <td>...</td>\n",
       "      <td>0</td>\n",
       "      <td>1</td>\n",
       "      <td>0</td>\n",
       "      <td>0</td>\n",
       "      <td>1</td>\n",
       "      <td>0</td>\n",
       "      <td>0</td>\n",
       "      <td>1</td>\n",
       "      <td>0</td>\n",
       "      <td>0</td>\n",
       "    </tr>\n",
       "    <tr>\n",
       "      <th>3</th>\n",
       "      <td>0.859485</td>\n",
       "      <td>0.091780</td>\n",
       "      <td>456.32</td>\n",
       "      <td>0</td>\n",
       "      <td>0</td>\n",
       "      <td>0</td>\n",
       "      <td>0</td>\n",
       "      <td>0</td>\n",
       "      <td>1</td>\n",
       "      <td>0</td>\n",
       "      <td>...</td>\n",
       "      <td>0</td>\n",
       "      <td>1</td>\n",
       "      <td>0</td>\n",
       "      <td>0</td>\n",
       "      <td>0</td>\n",
       "      <td>1</td>\n",
       "      <td>0</td>\n",
       "      <td>0</td>\n",
       "      <td>0</td>\n",
       "      <td>1</td>\n",
       "    </tr>\n",
       "    <tr>\n",
       "      <th>4</th>\n",
       "      <td>0.655738</td>\n",
       "      <td>0.023735</td>\n",
       "      <td>258.08</td>\n",
       "      <td>1</td>\n",
       "      <td>0</td>\n",
       "      <td>0</td>\n",
       "      <td>0</td>\n",
       "      <td>0</td>\n",
       "      <td>0</td>\n",
       "      <td>0</td>\n",
       "      <td>...</td>\n",
       "      <td>0</td>\n",
       "      <td>0</td>\n",
       "      <td>1</td>\n",
       "      <td>1</td>\n",
       "      <td>0</td>\n",
       "      <td>0</td>\n",
       "      <td>0</td>\n",
       "      <td>1</td>\n",
       "      <td>0</td>\n",
       "      <td>0</td>\n",
       "    </tr>\n",
       "  </tbody>\n",
       "</table>\n",
       "<p>5 rows × 29 columns</p>\n",
       "</div>"
      ],
      "text/plain": [
       "   Product_Weight  Product_Shelf_Visibility  Product_Price  \\\n",
       "0        0.411475                  0.020694         382.91   \n",
       "1        0.302576                  0.086078         359.53   \n",
       "2        0.871194                  0.039517         609.20   \n",
       "3        0.859485                  0.091780         456.32   \n",
       "4        0.655738                  0.023735         258.08   \n",
       "\n",
       "   Product_Type_Baking Goods  Product_Type_Breads  Product_Type_Breakfast  \\\n",
       "0                          0                    0                       0   \n",
       "1                          0                    0                       0   \n",
       "2                          0                    0                       0   \n",
       "3                          0                    0                       0   \n",
       "4                          1                    0                       0   \n",
       "\n",
       "   Product_Type_Canned  Product_Type_Dairy  Product_Type_Frozen Foods  \\\n",
       "0                    0                   0                          0   \n",
       "1                    0                   0                          0   \n",
       "2                    0                   0                          1   \n",
       "3                    0                   0                          1   \n",
       "4                    0                   0                          0   \n",
       "\n",
       "   Product_Type_Fruits and Vegetables                 ...                  \\\n",
       "0                                   0                 ...                   \n",
       "1                                   1                 ...                   \n",
       "2                                   0                 ...                   \n",
       "3                                   0                 ...                   \n",
       "4                                   0                 ...                   \n",
       "\n",
       "   Supermarket _Size_High  Supermarket _Size_Medium  Supermarket _Size_Small  \\\n",
       "0                       0                         1                        0   \n",
       "1                       0                         0                        1   \n",
       "2                       0                         1                        0   \n",
       "3                       0                         1                        0   \n",
       "4                       0                         0                        1   \n",
       "\n",
       "   Supermarket_Location_Type_Cluster 1  Supermarket_Location_Type_Cluster 2  \\\n",
       "0                                    0                                    1   \n",
       "1                                    1                                    0   \n",
       "2                                    0                                    1   \n",
       "3                                    0                                    0   \n",
       "4                                    1                                    0   \n",
       "\n",
       "   Supermarket_Location_Type_Cluster 3  Supermarket_Type_Grocery Store  \\\n",
       "0                                    0                               0   \n",
       "1                                    0                               1   \n",
       "2                                    0                               0   \n",
       "3                                    1                               0   \n",
       "4                                    0                               0   \n",
       "\n",
       "   Supermarket_Type_Supermarket Type1  Supermarket_Type_Supermarket Type2  \\\n",
       "0                                   1                                   0   \n",
       "1                                   0                                   0   \n",
       "2                                   1                                   0   \n",
       "3                                   0                                   0   \n",
       "4                                   1                                   0   \n",
       "\n",
       "   Supermarket_Type_Supermarket Type3  \n",
       "0                                   0  \n",
       "1                                   0  \n",
       "2                                   0  \n",
       "3                                   1  \n",
       "4                                   0  \n",
       "\n",
       "[5 rows x 29 columns]"
      ]
     },
     "execution_count": 61,
     "metadata": {},
     "output_type": "execute_result"
    }
   ],
   "source": [
    "X.head()"
   ]
  },
  {
   "cell_type": "code",
   "execution_count": 62,
   "metadata": {},
   "outputs": [
    {
     "data": {
      "text/plain": [
       "0     4633.97\n",
       "1      729.05\n",
       "2    14740.81\n",
       "3    16137.33\n",
       "4     4613.99\n",
       "Name: Product_Supermarket_Sales, dtype: float64"
      ]
     },
     "execution_count": 62,
     "metadata": {},
     "output_type": "execute_result"
    }
   ],
   "source": [
    "y=df.Product_Supermarket_Sales\n",
    "y.head()"
   ]
  },
  {
   "cell_type": "code",
   "execution_count": 63,
   "metadata": {
    "collapsed": true
   },
   "outputs": [],
   "source": [
    "def DistributionPlot(RedFunction, BlueFunction, RedName, BlueName, Title):\n",
    "    width = 12\n",
    "    height = 10\n",
    "    plt.figure(figsize=(width, height))\n",
    "\n",
    "    ax1 = sns.distplot(RedFunction, hist=False, color=\"r\", label=RedName)\n",
    "    ax2 = sns.distplot(BlueFunction, hist=False, color=\"b\", label=BlueName, ax=ax1)\n",
    "\n",
    "    plt.title(Title)\n",
    "    plt.xlabel('Price (in naira)')\n",
    "    plt.ylabel('Proportion of Products')\n",
    "\n",
    "    plt.show()\n",
    "    plt.close()"
   ]
  },
  {
   "cell_type": "code",
   "execution_count": 64,
   "metadata": {
    "collapsed": true
   },
   "outputs": [],
   "source": [
    "def PollyPlot(xtrain, xtest, y_train, y_test, lr,poly_transform):\n",
    "    width = 12\n",
    "    height = 10\n",
    "    plt.figure(figsize=(width, height))\n",
    "    \n",
    "    \n",
    "    #training data \n",
    "    #testing data \n",
    "    # lr:  linear regression object \n",
    "    #poly_transform:  polynomial transformation object \n",
    " \n",
    "    xmax=max([xtrain.values.max(), xtest.values.max()])\n",
    "\n",
    "    xmin=min([xtrain.values.min(), xtest.values.min()])\n",
    "\n",
    "    x=np.arange(xmin, xmax, 0.1)\n",
    "\n",
    "\n",
    "    plt.plot(xtrain, y_train, 'ro', label='Training Data')\n",
    "    plt.plot(xtest, y_test, 'go', label='Test Data')\n",
    "    plt.plot(x, lr.predict(poly_transform.fit_transform(x.reshape(-1, 1))), label='Predicted Function')\n",
    "    plt.ylim([-10000, 60000])\n",
    "    plt.ylabel('Price')\n",
    "    plt.legend()"
   ]
  },
  {
   "cell_type": "code",
   "execution_count": 65,
   "metadata": {
    "collapsed": true
   },
   "outputs": [],
   "source": [
    "from sklearn.model_selection import train_test_split\n",
    "X_train, X_test, y_train, y_test = train_test_split(X, y, test_size=0.2, random_state=1)"
   ]
  },
  {
   "cell_type": "code",
   "execution_count": 66,
   "metadata": {},
   "outputs": [
    {
     "ename": "NameError",
     "evalue": "name 'priii' is not defined",
     "output_type": "error",
     "traceback": [
      "\u001b[1;31m---------------------------------------------------------------------------\u001b[0m",
      "\u001b[1;31mNameError\u001b[0m                                 Traceback (most recent call last)",
      "\u001b[1;32m<ipython-input-66-46267ea3d533>\u001b[0m in \u001b[0;36m<module>\u001b[1;34m()\u001b[0m\n\u001b[1;32m----> 1\u001b[1;33m \u001b[0mpriii\u001b[0m\u001b[1;33m(\u001b[0m\u001b[1;33m)\u001b[0m\u001b[1;33m\u001b[0m\u001b[0m\n\u001b[0m",
      "\u001b[1;31mNameError\u001b[0m: name 'priii' is not defined"
     ]
    }
   ],
   "source": [
    "priii()"
   ]
  },
  {
   "cell_type": "markdown",
   "metadata": {},
   "source": [
    "# GradientBoostingRegression Algo"
   ]
  },
  {
   "cell_type": "code",
   "execution_count": 68,
   "metadata": {},
   "outputs": [],
   "source": [
    "from sklearn.ensemble import GradientBoostingRegressor\n",
    "from sklearn.metrics import mean_squared_error\n",
    "from sklearn.model_selection import GridSearchCV"
   ]
  },
  {
   "cell_type": "code",
   "execution_count": null,
   "metadata": {
    "collapsed": true
   },
   "outputs": [],
   "source": [
    "# params = {'n_estimators': 500,\n",
    "#           'max_depth': 4,\n",
    "#           'min_samples_split': 5,\n",
    "#           'learning_rate': 0.01,\n",
    "#           'loss': 'ls'}"
   ]
  },
  {
   "cell_type": "code",
   "execution_count": 69,
   "metadata": {
    "collapsed": true
   },
   "outputs": [],
   "source": [
    "params = {'n_estimators': 600,\n",
    "          'max_depth': 4,\n",
    "          'min_samples_split': 5,\n",
    "          'learning_rate': 0.01,\n",
    "          'loss': 'ls'}"
   ]
  },
  {
   "cell_type": "code",
   "execution_count": 70,
   "metadata": {},
   "outputs": [
    {
     "name": "stdout",
     "output_type": "stream",
     "text": [
      "The mean squared error (MSE) on test set: 6724018.3485\n"
     ]
    }
   ],
   "source": [
    "reg = GradientBoostingRegressor(**params)\n",
    "reg.fit(X_train, y_train)\n",
    "\n",
    "mse = mean_squared_error(y_train, reg.predict(X_train))\n",
    "print(\"The mean squared error (MSE) on test set: {:.4f}\".format(mse))"
   ]
  },
  {
   "cell_type": "code",
   "execution_count": 71,
   "metadata": {},
   "outputs": [
    {
     "name": "stdout",
     "output_type": "stream",
     "text": [
      "The mean squared error (MSE) on test set: 9326744.4543\n"
     ]
    }
   ],
   "source": [
    "mse = mean_squared_error(y_test, reg.predict(X_test))\n",
    "print(\"The mean squared error (MSE) on test set: {:.4f}\".format(mse))"
   ]
  },
  {
   "cell_type": "code",
   "execution_count": 72,
   "metadata": {},
   "outputs": [
    {
     "name": "stdout",
     "output_type": "stream",
     "text": [
      "R-squared for Train: 0.65\n",
      "R-squared for Test: 0.57\n"
     ]
    }
   ],
   "source": [
    "print (\"R-squared for Train: %.2f\" %reg.score(X_train, y_train))\n",
    "print (\"R-squared for Test: %.2f\"%reg.score(X_test, y_test))"
   ]
  },
  {
   "cell_type": "code",
   "execution_count": null,
   "metadata": {},
   "outputs": [],
   "source": [
    "# !pip install xgboost"
   ]
  },
  {
   "cell_type": "markdown",
   "metadata": {},
   "source": [
    "# predicting the test data"
   ]
  },
  {
   "cell_type": "code",
   "execution_count": null,
   "metadata": {
    "collapsed": true
   },
   "outputs": [],
   "source": [
    "# X2=df2.drop(['Product_Identifier','Supermarket_Identifier','Product_Supermarket_Identifier','Product_Fat_Content','Supermarket_Opening_Year'], axis=1)\n",
    "# X2=pd.get_dummies(X2)\n",
    "# X2.head()"
   ]
  },
  {
   "cell_type": "code",
   "execution_count": null,
   "metadata": {
    "collapsed": true
   },
   "outputs": [],
   "source": [
    "# test_pred = reg.predict(X2) #predict on the test set for submission\n",
    "# df3= {'Product_Supermarket_Identifier': df2['Product_Supermarket_Identifier'], 'Product_Supermarket_Sales': test_pred}\n",
    "# sub = pd.DataFrame(data=df3)\n",
    "# sub = sub[['Product_Supermarket_Identifier', 'Product_Supermarket_Sales']]"
   ]
  },
  {
   "cell_type": "code",
   "execution_count": null,
   "metadata": {
    "collapsed": true
   },
   "outputs": [],
   "source": [
    "# sub.shape"
   ]
  },
  {
   "cell_type": "code",
   "execution_count": null,
   "metadata": {
    "collapsed": true
   },
   "outputs": [],
   "source": [
    "# # sub.to_csv('submission.csv', index = False)"
   ]
  },
  {
   "cell_type": "code",
   "execution_count": null,
   "metadata": {
    "collapsed": true
   },
   "outputs": [],
   "source": [
    "# subxamp=pd.read_csv('sample_submission.csv')\n",
    "# subxamp.head()"
   ]
  },
  {
   "cell_type": "markdown",
   "metadata": {},
   "source": [
    "# Linear Regression Algo"
   ]
  },
  {
   "cell_type": "code",
   "execution_count": null,
   "metadata": {
    "collapsed": true
   },
   "outputs": [],
   "source": [
    "from sklearn.linear_model import LinearRegression\n",
    "lre=LinearRegression()"
   ]
  },
  {
   "cell_type": "code",
   "execution_count": null,
   "metadata": {
    "collapsed": true
   },
   "outputs": [],
   "source": [
    "lre.fit(X_train,y_train)\n",
    "lre.score(X_train,y_train)"
   ]
  },
  {
   "cell_type": "code",
   "execution_count": null,
   "metadata": {
    "collapsed": true
   },
   "outputs": [],
   "source": [
    "lre.score(X_test,y_test)"
   ]
  },
  {
   "cell_type": "code",
   "execution_count": null,
   "metadata": {
    "collapsed": true
   },
   "outputs": [],
   "source": [
    "from sklearn.metrics import mean_squared_error"
   ]
  },
  {
   "cell_type": "code",
   "execution_count": null,
   "metadata": {
    "collapsed": true
   },
   "outputs": [],
   "source": [
    "yhat_train=lre.predict(X_train)\n",
    "yhat_train[:5]"
   ]
  },
  {
   "cell_type": "code",
   "execution_count": null,
   "metadata": {
    "collapsed": true
   },
   "outputs": [],
   "source": [
    "print('The mean square error of price and predicted value using multifit is: ', \\\n",
    "      mean_squared_error(y_train, yhat_train))"
   ]
  },
  {
   "cell_type": "code",
   "execution_count": null,
   "metadata": {
    "collapsed": true
   },
   "outputs": [],
   "source": [
    "print('The mean square error of price and predicted value using multifit is: ', \\\n",
    "      mean_squared_error(y_test, lre.predict(X_test)))"
   ]
  },
  {
   "cell_type": "code",
   "execution_count": null,
   "metadata": {
    "collapsed": true
   },
   "outputs": [],
   "source": [
    "Title = 'Distribution  Plot of  Predicted Value Using Training Data vs Training Data Distribution'\n",
    "DistributionPlot(y_train, yhat_train, \"Actual Values (Train)\", \"Predicted Values (Train)\", Title)"
   ]
  },
  {
   "cell_type": "code",
   "execution_count": null,
   "metadata": {
    "collapsed": true
   },
   "outputs": [],
   "source": [
    "yhat_test=lre.predict(X_test)\n",
    "yhat_test[:5]"
   ]
  },
  {
   "cell_type": "code",
   "execution_count": null,
   "metadata": {
    "collapsed": true
   },
   "outputs": [],
   "source": [
    "Title = 'Distribution  Plot of  Predicted Value Using Training Data vs Training Data Distribution'\n",
    "DistributionPlot(y_test, yhat_test, \"Actual Values (Train)\", \"Predicted Values (Train)\", Title)"
   ]
  },
  {
   "cell_type": "markdown",
   "metadata": {},
   "source": [
    "Croos validation"
   ]
  },
  {
   "cell_type": "code",
   "execution_count": null,
   "metadata": {
    "collapsed": true
   },
   "outputs": [],
   "source": [
    "# from sklearn.model_selection import cross_val_score\n",
    "# lre=LinearRegression()\n",
    "# Rcross = cross_val_score(lre, X, y, cv=4)\n",
    "# Rcross\n",
    "\n",
    "# print(\"The mean of the folds are\", Rcross.mean(), \"and the standard deviation is\" , Rcross.std())\n",
    "\n",
    "# rc=cross_val_score(lre, X, y, cv=4,scoring='neg_mean_squared_error')\n",
    "# rc\n",
    "\n",
    "# # merge data frame \"df\" and \"dummy_variable_1\" \n",
    "# df = pd.concat([df, dummy_variable_1], axis=1)\n",
    "\n",
    "# # drop original column \"fuel-type\" from \"df\"\n",
    "# df.drop(\"Supermarket_Type\", axis = 1, inplace=True)\n",
    "# df.head()"
   ]
  }
 ],
 "metadata": {
  "kernelspec": {
   "display_name": "Python 3",
   "language": "python",
   "name": "python3"
  },
  "language_info": {
   "codemirror_mode": {
    "name": "ipython",
    "version": 3
   },
   "file_extension": ".py",
   "mimetype": "text/x-python",
   "name": "python",
   "nbconvert_exporter": "python",
   "pygments_lexer": "ipython3",
   "version": "3.7.6"
  }
 },
 "nbformat": 4,
 "nbformat_minor": 2
}
